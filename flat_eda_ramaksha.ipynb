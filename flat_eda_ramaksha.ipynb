{
 "cells": [
  {
   "cell_type": "code",
   "execution_count": 148,
   "metadata": {},
   "outputs": [],
   "source": [
    "import numpy as np\n",
    "import pandas as pd\n",
    "import matplotlib.pyplot as plt\n",
    "import seaborn as sns\n",
    "import sklearn"
   ]
  },
  {
   "cell_type": "code",
   "execution_count": 149,
   "metadata": {},
   "outputs": [
    {
     "data": {
      "text/html": [
       "<div>\n",
       "<style scoped>\n",
       "    .dataframe tbody tr th:only-of-type {\n",
       "        vertical-align: middle;\n",
       "    }\n",
       "\n",
       "    .dataframe tbody tr th {\n",
       "        vertical-align: top;\n",
       "    }\n",
       "\n",
       "    .dataframe thead th {\n",
       "        text-align: right;\n",
       "    }\n",
       "</style>\n",
       "<table border=\"1\" class=\"dataframe\">\n",
       "  <thead>\n",
       "    <tr style=\"text-align: right;\">\n",
       "      <th></th>\n",
       "      <th>property_name</th>\n",
       "      <th>property_type</th>\n",
       "      <th>society</th>\n",
       "      <th>price</th>\n",
       "      <th>price_per_sqft</th>\n",
       "      <th>area</th>\n",
       "      <th>areaWithType</th>\n",
       "      <th>bedRoom</th>\n",
       "      <th>bathroom</th>\n",
       "      <th>balcony</th>\n",
       "      <th>additionalRoom</th>\n",
       "      <th>address</th>\n",
       "      <th>floorNum</th>\n",
       "      <th>facing</th>\n",
       "      <th>agePossession</th>\n",
       "      <th>nearbyLocations</th>\n",
       "      <th>description</th>\n",
       "      <th>furnishDetails</th>\n",
       "      <th>features</th>\n",
       "      <th>rating</th>\n",
       "    </tr>\n",
       "  </thead>\n",
       "  <tbody>\n",
       "    <tr>\n",
       "      <th>0</th>\n",
       "      <td>2 BHK Flat in Krishna Colony</td>\n",
       "      <td>flat</td>\n",
       "      <td>maa bhagwati residency</td>\n",
       "      <td>0.45</td>\n",
       "      <td>5000.0</td>\n",
       "      <td>900.0</td>\n",
       "      <td>Carpet area: 900 (83.61 sq.m.)</td>\n",
       "      <td>2</td>\n",
       "      <td>2</td>\n",
       "      <td>1</td>\n",
       "      <td>not available</td>\n",
       "      <td>Krishna Colony, Gurgaon, Haryana</td>\n",
       "      <td>4.0</td>\n",
       "      <td>West</td>\n",
       "      <td>1 to 5 Year Old</td>\n",
       "      <td>['Chintapurni Mandir', 'State bank ATM', 'Pear...</td>\n",
       "      <td>So with lift.Maa bhagwati residency is one of ...</td>\n",
       "      <td>['3 Fan', '4 Light', '1 Wardrobe', 'No AC', 'N...</td>\n",
       "      <td>['Feng Shui / Vaastu Compliant', 'Security / F...</td>\n",
       "      <td>['Environment4 out of 5', 'Safety4 out of 5', ...</td>\n",
       "    </tr>\n",
       "    <tr>\n",
       "      <th>1</th>\n",
       "      <td>2 BHK Flat in Ashok Vihar</td>\n",
       "      <td>flat</td>\n",
       "      <td>apna enclave</td>\n",
       "      <td>0.50</td>\n",
       "      <td>7692.0</td>\n",
       "      <td>650.0</td>\n",
       "      <td>Carpet area: 650 (60.39 sq.m.)</td>\n",
       "      <td>2</td>\n",
       "      <td>2</td>\n",
       "      <td>1</td>\n",
       "      <td>not available</td>\n",
       "      <td>46b, Ashok Vihar, Gurgaon, Haryana</td>\n",
       "      <td>1.0</td>\n",
       "      <td>West</td>\n",
       "      <td>10+ Year Old</td>\n",
       "      <td>['Chintapurni Mandir', 'Sheetla Mata Mandir', ...</td>\n",
       "      <td>Property situated on main road, railway statio...</td>\n",
       "      <td>['3 Wardrobe', '4 Fan', '1 Exhaust Fan', '1 Ge...</td>\n",
       "      <td>['Security / Fire Alarm', 'Maintenance Staff',...</td>\n",
       "      <td>['Environment4 out of 5', 'Safety4 out of 5', ...</td>\n",
       "    </tr>\n",
       "    <tr>\n",
       "      <th>2</th>\n",
       "      <td>2 BHK Flat in Sohna</td>\n",
       "      <td>flat</td>\n",
       "      <td>tulsiani easy in homes</td>\n",
       "      <td>0.40</td>\n",
       "      <td>6722.0</td>\n",
       "      <td>595.0</td>\n",
       "      <td>Carpet area: 595 (55.28 sq.m.)</td>\n",
       "      <td>2</td>\n",
       "      <td>2</td>\n",
       "      <td>3</td>\n",
       "      <td>not available</td>\n",
       "      <td>Sohna, Gurgaon, Haryana</td>\n",
       "      <td>12.0</td>\n",
       "      <td>NaN</td>\n",
       "      <td>0 to 1 Year Old</td>\n",
       "      <td>['Huda City Metro', 'Golf Course extn road', '...</td>\n",
       "      <td>This property is 15 km away from badshapur, gu...</td>\n",
       "      <td>NaN</td>\n",
       "      <td>['Power Back-up', 'Feng Shui / Vaastu Complian...</td>\n",
       "      <td>['Environment4 out of 5', 'Safety4 out of 5', ...</td>\n",
       "    </tr>\n",
       "    <tr>\n",
       "      <th>3</th>\n",
       "      <td>2 BHK Flat in Sector 61 Gurgaon</td>\n",
       "      <td>flat</td>\n",
       "      <td>smart world orchard</td>\n",
       "      <td>1.47</td>\n",
       "      <td>12250.0</td>\n",
       "      <td>1200.0</td>\n",
       "      <td>Carpet area: 1200 (111.48 sq.m.)</td>\n",
       "      <td>2</td>\n",
       "      <td>2</td>\n",
       "      <td>2</td>\n",
       "      <td>study room</td>\n",
       "      <td>Sector 61 Gurgaon, Gurgaon, Haryana</td>\n",
       "      <td>2.0</td>\n",
       "      <td>NaN</td>\n",
       "      <td>Dec 2023</td>\n",
       "      <td>['Sector 55-56 Metro station', 'Bestech Centra...</td>\n",
       "      <td>Near to metro station of sector 56 and opposit...</td>\n",
       "      <td>NaN</td>\n",
       "      <td>['Security / Fire Alarm', 'Private Garden / Te...</td>\n",
       "      <td>NaN</td>\n",
       "    </tr>\n",
       "    <tr>\n",
       "      <th>4</th>\n",
       "      <td>2 BHK Flat in Sector 92 Gurgaon</td>\n",
       "      <td>flat</td>\n",
       "      <td>parkwood westend</td>\n",
       "      <td>0.70</td>\n",
       "      <td>5204.0</td>\n",
       "      <td>1345.0</td>\n",
       "      <td>Super Built up area 1345(124.95 sq.m.)</td>\n",
       "      <td>2</td>\n",
       "      <td>2</td>\n",
       "      <td>3</td>\n",
       "      <td>study room</td>\n",
       "      <td>Sector 92 Gurgaon, Gurgaon, Haryana</td>\n",
       "      <td>5.0</td>\n",
       "      <td>NaN</td>\n",
       "      <td>Under Construction</td>\n",
       "      <td>['Yadav Clinic', 'Bangali Clinic', 'Dr. J. S. ...</td>\n",
       "      <td>We are the proud owners of this 2 bhk alongwit...</td>\n",
       "      <td>[]</td>\n",
       "      <td>NaN</td>\n",
       "      <td>['Environment5 out of 5', 'Safety3 out of 5', ...</td>\n",
       "    </tr>\n",
       "  </tbody>\n",
       "</table>\n",
       "</div>"
      ],
      "text/plain": [
       "                     property_name property_type                 society  \\\n",
       "0     2 BHK Flat in Krishna Colony          flat  maa bhagwati residency   \n",
       "1        2 BHK Flat in Ashok Vihar          flat            apna enclave   \n",
       "2              2 BHK Flat in Sohna          flat  tulsiani easy in homes   \n",
       "3  2 BHK Flat in Sector 61 Gurgaon          flat     smart world orchard   \n",
       "4  2 BHK Flat in Sector 92 Gurgaon          flat        parkwood westend   \n",
       "\n",
       "   price  price_per_sqft    area                            areaWithType  \\\n",
       "0   0.45          5000.0   900.0          Carpet area: 900 (83.61 sq.m.)   \n",
       "1   0.50          7692.0   650.0          Carpet area: 650 (60.39 sq.m.)   \n",
       "2   0.40          6722.0   595.0          Carpet area: 595 (55.28 sq.m.)   \n",
       "3   1.47         12250.0  1200.0        Carpet area: 1200 (111.48 sq.m.)   \n",
       "4   0.70          5204.0  1345.0  Super Built up area 1345(124.95 sq.m.)   \n",
       "\n",
       "   bedRoom  bathroom balcony additionalRoom  \\\n",
       "0        2         2       1  not available   \n",
       "1        2         2       1  not available   \n",
       "2        2         2       3  not available   \n",
       "3        2         2       2     study room   \n",
       "4        2         2       3     study room   \n",
       "\n",
       "                               address  floorNum facing       agePossession  \\\n",
       "0     Krishna Colony, Gurgaon, Haryana       4.0   West     1 to 5 Year Old   \n",
       "1   46b, Ashok Vihar, Gurgaon, Haryana       1.0   West        10+ Year Old   \n",
       "2              Sohna, Gurgaon, Haryana      12.0    NaN     0 to 1 Year Old   \n",
       "3  Sector 61 Gurgaon, Gurgaon, Haryana       2.0    NaN            Dec 2023   \n",
       "4  Sector 92 Gurgaon, Gurgaon, Haryana       5.0    NaN  Under Construction   \n",
       "\n",
       "                                     nearbyLocations  \\\n",
       "0  ['Chintapurni Mandir', 'State bank ATM', 'Pear...   \n",
       "1  ['Chintapurni Mandir', 'Sheetla Mata Mandir', ...   \n",
       "2  ['Huda City Metro', 'Golf Course extn road', '...   \n",
       "3  ['Sector 55-56 Metro station', 'Bestech Centra...   \n",
       "4  ['Yadav Clinic', 'Bangali Clinic', 'Dr. J. S. ...   \n",
       "\n",
       "                                         description  \\\n",
       "0  So with lift.Maa bhagwati residency is one of ...   \n",
       "1  Property situated on main road, railway statio...   \n",
       "2  This property is 15 km away from badshapur, gu...   \n",
       "3  Near to metro station of sector 56 and opposit...   \n",
       "4  We are the proud owners of this 2 bhk alongwit...   \n",
       "\n",
       "                                      furnishDetails  \\\n",
       "0  ['3 Fan', '4 Light', '1 Wardrobe', 'No AC', 'N...   \n",
       "1  ['3 Wardrobe', '4 Fan', '1 Exhaust Fan', '1 Ge...   \n",
       "2                                                NaN   \n",
       "3                                                NaN   \n",
       "4                                                 []   \n",
       "\n",
       "                                            features  \\\n",
       "0  ['Feng Shui / Vaastu Compliant', 'Security / F...   \n",
       "1  ['Security / Fire Alarm', 'Maintenance Staff',...   \n",
       "2  ['Power Back-up', 'Feng Shui / Vaastu Complian...   \n",
       "3  ['Security / Fire Alarm', 'Private Garden / Te...   \n",
       "4                                                NaN   \n",
       "\n",
       "                                              rating  \n",
       "0  ['Environment4 out of 5', 'Safety4 out of 5', ...  \n",
       "1  ['Environment4 out of 5', 'Safety4 out of 5', ...  \n",
       "2  ['Environment4 out of 5', 'Safety4 out of 5', ...  \n",
       "3                                                NaN  \n",
       "4  ['Environment5 out of 5', 'Safety3 out of 5', ...  "
      ]
     },
     "execution_count": 149,
     "metadata": {},
     "output_type": "execute_result"
    }
   ],
   "source": [
    "df = pd.read_csv('/home/ramaksha-birajdar/Desktop/Real_Estate/data/processed/flats_cleaned.csv')\n",
    "df.head()"
   ]
  },
  {
   "cell_type": "code",
   "execution_count": 150,
   "metadata": {},
   "outputs": [
    {
     "data": {
      "text/plain": [
       "property_type\n",
       "flat    2996\n",
       "Name: count, dtype: int64"
      ]
     },
     "execution_count": 150,
     "metadata": {},
     "output_type": "execute_result"
    }
   ],
   "source": [
    "df['property_type'].value_counts()"
   ]
  },
  {
   "cell_type": "code",
   "execution_count": 151,
   "metadata": {},
   "outputs": [
    {
     "data": {
      "image/png": "[encoded data removed]",
      "text/plain": [
       "<Figure size 640x480 with 1 Axes>"
      ]
     },
     "metadata": {},
     "output_type": "display_data"
    }
   ],
   "source": [
    "plt.hist(x=df['price'],bins=50);"
   ]
  },
  {
   "cell_type": "code",
   "execution_count": 152,
   "metadata": {},
   "outputs": [
    {
     "data": {
      "image/png": "[encoded data removed]",
      "text/plain": [
       "<Figure size 640x480 with 1 Axes>"
      ]
     },
     "metadata": {},
     "output_type": "display_data"
    }
   ],
   "source": [
    "plt.hist(x=df['price_per_sqft'],bins=50);\n",
    "plt.tight_layout()"
   ]
  },
  {
   "cell_type": "code",
   "execution_count": 153,
   "metadata": {},
   "outputs": [
    {
     "data": {
      "text/plain": [
       "Text(0.5, 0, 'Area')"
      ]
     },
     "execution_count": 153,
     "metadata": {},
     "output_type": "execute_result"
    },
    {
     "data": {
      "image/png": "[encoded data removed]",
      "text/plain": [
       "<Figure size 640x480 with 1 Axes>"
      ]
     },
     "metadata": {},
     "output_type": "display_data"
    }
   ],
   "source": [
    "plt.scatter(y=df['price'],x=df['area'])\n",
    "plt.ylabel('Price')\n",
    "plt.xlabel('Area')"
   ]
  },
  {
   "cell_type": "code",
   "execution_count": 154,
   "metadata": {},
   "outputs": [
    {
     "data": {
      "text/html": [
       "<div>\n",
       "<style scoped>\n",
       "    .dataframe tbody tr th:only-of-type {\n",
       "        vertical-align: middle;\n",
       "    }\n",
       "\n",
       "    .dataframe tbody tr th {\n",
       "        vertical-align: top;\n",
       "    }\n",
       "\n",
       "    .dataframe thead th {\n",
       "        text-align: right;\n",
       "    }\n",
       "</style>\n",
       "<table border=\"1\" class=\"dataframe\">\n",
       "  <thead>\n",
       "    <tr style=\"text-align: right;\">\n",
       "      <th></th>\n",
       "      <th>price</th>\n",
       "      <th>price_per_sqft</th>\n",
       "      <th>area</th>\n",
       "      <th>bedRoom</th>\n",
       "      <th>bathroom</th>\n",
       "      <th>floorNum</th>\n",
       "    </tr>\n",
       "  </thead>\n",
       "  <tbody>\n",
       "    <tr>\n",
       "      <th>price</th>\n",
       "      <td>1.000000</td>\n",
       "      <td>0.611606</td>\n",
       "      <td>-0.011755</td>\n",
       "      <td>0.553454</td>\n",
       "      <td>0.593445</td>\n",
       "      <td>0.198323</td>\n",
       "    </tr>\n",
       "    <tr>\n",
       "      <th>price_per_sqft</th>\n",
       "      <td>0.611606</td>\n",
       "      <td>1.000000</td>\n",
       "      <td>-0.055087</td>\n",
       "      <td>0.144119</td>\n",
       "      <td>0.180851</td>\n",
       "      <td>0.080254</td>\n",
       "    </tr>\n",
       "    <tr>\n",
       "      <th>area</th>\n",
       "      <td>-0.011755</td>\n",
       "      <td>-0.055087</td>\n",
       "      <td>1.000000</td>\n",
       "      <td>-0.015593</td>\n",
       "      <td>-0.012037</td>\n",
       "      <td>-0.015928</td>\n",
       "    </tr>\n",
       "    <tr>\n",
       "      <th>bedRoom</th>\n",
       "      <td>0.553454</td>\n",
       "      <td>0.144119</td>\n",
       "      <td>-0.015593</td>\n",
       "      <td>1.000000</td>\n",
       "      <td>0.830701</td>\n",
       "      <td>0.095475</td>\n",
       "    </tr>\n",
       "    <tr>\n",
       "      <th>bathroom</th>\n",
       "      <td>0.593445</td>\n",
       "      <td>0.180851</td>\n",
       "      <td>-0.012037</td>\n",
       "      <td>0.830701</td>\n",
       "      <td>1.000000</td>\n",
       "      <td>0.123844</td>\n",
       "    </tr>\n",
       "    <tr>\n",
       "      <th>floorNum</th>\n",
       "      <td>0.198323</td>\n",
       "      <td>0.080254</td>\n",
       "      <td>-0.015928</td>\n",
       "      <td>0.095475</td>\n",
       "      <td>0.123844</td>\n",
       "      <td>1.000000</td>\n",
       "    </tr>\n",
       "  </tbody>\n",
       "</table>\n",
       "</div>"
      ],
      "text/plain": [
       "                   price  price_per_sqft      area   bedRoom  bathroom  \\\n",
       "price           1.000000        0.611606 -0.011755  0.553454  0.593445   \n",
       "price_per_sqft  0.611606        1.000000 -0.055087  0.144119  0.180851   \n",
       "area           -0.011755       -0.055087  1.000000 -0.015593 -0.012037   \n",
       "bedRoom         0.553454        0.144119 -0.015593  1.000000  0.830701   \n",
       "bathroom        0.593445        0.180851 -0.012037  0.830701  1.000000   \n",
       "floorNum        0.198323        0.080254 -0.015928  0.095475  0.123844   \n",
       "\n",
       "                floorNum  \n",
       "price           0.198323  \n",
       "price_per_sqft  0.080254  \n",
       "area           -0.015928  \n",
       "bedRoom         0.095475  \n",
       "bathroom        0.123844  \n",
       "floorNum        1.000000  "
      ]
     },
     "execution_count": 154,
     "metadata": {},
     "output_type": "execute_result"
    }
   ],
   "source": [
    "#Shows that Price and Area are not really correlated\n",
    "df.corr(numeric_only=True)"
   ]
  },
  {
   "cell_type": "code",
   "execution_count": 155,
   "metadata": {},
   "outputs": [
    {
     "data": {
      "text/plain": [
       "<BarContainer object of 5 artists>"
      ]
     },
     "execution_count": 155,
     "metadata": {},
     "output_type": "execute_result"
    },
    {
     "data": {
      "image/png": "[encoded data removed]",
      "text/plain": [
       "<Figure size 640x480 with 1 Axes>"
      ]
     },
     "metadata": {},
     "output_type": "display_data"
    }
   ],
   "source": [
    "plt.bar(df.corr(numeric_only=True)['price'].drop('price').index,df.corr(numeric_only=True)['price'].drop('price').values)"
   ]
  },
  {
   "cell_type": "code",
   "execution_count": 156,
   "metadata": {},
   "outputs": [],
   "source": [
    "#Price per sqrt,bedroom,bathroom have correlation with Price"
   ]
  },
  {
   "cell_type": "code",
   "execution_count": 157,
   "metadata": {},
   "outputs": [
    {
     "data": {
      "text/html": [
       "<div>\n",
       "<style scoped>\n",
       "    .dataframe tbody tr th:only-of-type {\n",
       "        vertical-align: middle;\n",
       "    }\n",
       "\n",
       "    .dataframe tbody tr th {\n",
       "        vertical-align: top;\n",
       "    }\n",
       "\n",
       "    .dataframe thead th {\n",
       "        text-align: right;\n",
       "    }\n",
       "</style>\n",
       "<table border=\"1\" class=\"dataframe\">\n",
       "  <thead>\n",
       "    <tr style=\"text-align: right;\">\n",
       "      <th></th>\n",
       "      <th>property_name</th>\n",
       "      <th>property_type</th>\n",
       "      <th>society</th>\n",
       "      <th>price</th>\n",
       "      <th>price_per_sqft</th>\n",
       "      <th>area</th>\n",
       "      <th>areaWithType</th>\n",
       "      <th>bedRoom</th>\n",
       "      <th>bathroom</th>\n",
       "      <th>balcony</th>\n",
       "      <th>additionalRoom</th>\n",
       "      <th>address</th>\n",
       "      <th>floorNum</th>\n",
       "      <th>facing</th>\n",
       "      <th>agePossession</th>\n",
       "      <th>nearbyLocations</th>\n",
       "      <th>description</th>\n",
       "      <th>furnishDetails</th>\n",
       "      <th>features</th>\n",
       "      <th>rating</th>\n",
       "    </tr>\n",
       "  </thead>\n",
       "  <tbody>\n",
       "    <tr>\n",
       "      <th>0</th>\n",
       "      <td>2 BHK Flat in Krishna Colony</td>\n",
       "      <td>flat</td>\n",
       "      <td>maa bhagwati residency</td>\n",
       "      <td>0.45</td>\n",
       "      <td>5000.0</td>\n",
       "      <td>900.0</td>\n",
       "      <td>Carpet area: 900 (83.61 sq.m.)</td>\n",
       "      <td>2</td>\n",
       "      <td>2</td>\n",
       "      <td>1</td>\n",
       "      <td>not available</td>\n",
       "      <td>Krishna Colony, Gurgaon, Haryana</td>\n",
       "      <td>4.0</td>\n",
       "      <td>West</td>\n",
       "      <td>1 to 5 Year Old</td>\n",
       "      <td>['Chintapurni Mandir', 'State bank ATM', 'Pear...</td>\n",
       "      <td>So with lift.Maa bhagwati residency is one of ...</td>\n",
       "      <td>['3 Fan', '4 Light', '1 Wardrobe', 'No AC', 'N...</td>\n",
       "      <td>['Feng Shui / Vaastu Compliant', 'Security / F...</td>\n",
       "      <td>['Environment4 out of 5', 'Safety4 out of 5', ...</td>\n",
       "    </tr>\n",
       "    <tr>\n",
       "      <th>1</th>\n",
       "      <td>2 BHK Flat in Ashok Vihar</td>\n",
       "      <td>flat</td>\n",
       "      <td>apna enclave</td>\n",
       "      <td>0.50</td>\n",
       "      <td>7692.0</td>\n",
       "      <td>650.0</td>\n",
       "      <td>Carpet area: 650 (60.39 sq.m.)</td>\n",
       "      <td>2</td>\n",
       "      <td>2</td>\n",
       "      <td>1</td>\n",
       "      <td>not available</td>\n",
       "      <td>46b, Ashok Vihar, Gurgaon, Haryana</td>\n",
       "      <td>1.0</td>\n",
       "      <td>West</td>\n",
       "      <td>10+ Year Old</td>\n",
       "      <td>['Chintapurni Mandir', 'Sheetla Mata Mandir', ...</td>\n",
       "      <td>Property situated on main road, railway statio...</td>\n",
       "      <td>['3 Wardrobe', '4 Fan', '1 Exhaust Fan', '1 Ge...</td>\n",
       "      <td>['Security / Fire Alarm', 'Maintenance Staff',...</td>\n",
       "      <td>['Environment4 out of 5', 'Safety4 out of 5', ...</td>\n",
       "    </tr>\n",
       "    <tr>\n",
       "      <th>2</th>\n",
       "      <td>2 BHK Flat in Sohna</td>\n",
       "      <td>flat</td>\n",
       "      <td>tulsiani easy in homes</td>\n",
       "      <td>0.40</td>\n",
       "      <td>6722.0</td>\n",
       "      <td>595.0</td>\n",
       "      <td>Carpet area: 595 (55.28 sq.m.)</td>\n",
       "      <td>2</td>\n",
       "      <td>2</td>\n",
       "      <td>3</td>\n",
       "      <td>not available</td>\n",
       "      <td>Sohna, Gurgaon, Haryana</td>\n",
       "      <td>12.0</td>\n",
       "      <td>NaN</td>\n",
       "      <td>0 to 1 Year Old</td>\n",
       "      <td>['Huda City Metro', 'Golf Course extn road', '...</td>\n",
       "      <td>This property is 15 km away from badshapur, gu...</td>\n",
       "      <td>NaN</td>\n",
       "      <td>['Power Back-up', 'Feng Shui / Vaastu Complian...</td>\n",
       "      <td>['Environment4 out of 5', 'Safety4 out of 5', ...</td>\n",
       "    </tr>\n",
       "    <tr>\n",
       "      <th>3</th>\n",
       "      <td>2 BHK Flat in Sector 61 Gurgaon</td>\n",
       "      <td>flat</td>\n",
       "      <td>smart world orchard</td>\n",
       "      <td>1.47</td>\n",
       "      <td>12250.0</td>\n",
       "      <td>1200.0</td>\n",
       "      <td>Carpet area: 1200 (111.48 sq.m.)</td>\n",
       "      <td>2</td>\n",
       "      <td>2</td>\n",
       "      <td>2</td>\n",
       "      <td>study room</td>\n",
       "      <td>Sector 61 Gurgaon, Gurgaon, Haryana</td>\n",
       "      <td>2.0</td>\n",
       "      <td>NaN</td>\n",
       "      <td>Dec 2023</td>\n",
       "      <td>['Sector 55-56 Metro station', 'Bestech Centra...</td>\n",
       "      <td>Near to metro station of sector 56 and opposit...</td>\n",
       "      <td>NaN</td>\n",
       "      <td>['Security / Fire Alarm', 'Private Garden / Te...</td>\n",
       "      <td>NaN</td>\n",
       "    </tr>\n",
       "    <tr>\n",
       "      <th>4</th>\n",
       "      <td>2 BHK Flat in Sector 92 Gurgaon</td>\n",
       "      <td>flat</td>\n",
       "      <td>parkwood westend</td>\n",
       "      <td>0.70</td>\n",
       "      <td>5204.0</td>\n",
       "      <td>1345.0</td>\n",
       "      <td>Super Built up area 1345(124.95 sq.m.)</td>\n",
       "      <td>2</td>\n",
       "      <td>2</td>\n",
       "      <td>3</td>\n",
       "      <td>study room</td>\n",
       "      <td>Sector 92 Gurgaon, Gurgaon, Haryana</td>\n",
       "      <td>5.0</td>\n",
       "      <td>NaN</td>\n",
       "      <td>Under Construction</td>\n",
       "      <td>['Yadav Clinic', 'Bangali Clinic', 'Dr. J. S. ...</td>\n",
       "      <td>We are the proud owners of this 2 bhk alongwit...</td>\n",
       "      <td>[]</td>\n",
       "      <td>NaN</td>\n",
       "      <td>['Environment5 out of 5', 'Safety3 out of 5', ...</td>\n",
       "    </tr>\n",
       "  </tbody>\n",
       "</table>\n",
       "</div>"
      ],
      "text/plain": [
       "                     property_name property_type                 society  \\\n",
       "0     2 BHK Flat in Krishna Colony          flat  maa bhagwati residency   \n",
       "1        2 BHK Flat in Ashok Vihar          flat            apna enclave   \n",
       "2              2 BHK Flat in Sohna          flat  tulsiani easy in homes   \n",
       "3  2 BHK Flat in Sector 61 Gurgaon          flat     smart world orchard   \n",
       "4  2 BHK Flat in Sector 92 Gurgaon          flat        parkwood westend   \n",
       "\n",
       "   price  price_per_sqft    area                            areaWithType  \\\n",
       "0   0.45          5000.0   900.0          Carpet area: 900 (83.61 sq.m.)   \n",
       "1   0.50          7692.0   650.0          Carpet area: 650 (60.39 sq.m.)   \n",
       "2   0.40          6722.0   595.0          Carpet area: 595 (55.28 sq.m.)   \n",
       "3   1.47         12250.0  1200.0        Carpet area: 1200 (111.48 sq.m.)   \n",
       "4   0.70          5204.0  1345.0  Super Built up area 1345(124.95 sq.m.)   \n",
       "\n",
       "   bedRoom  bathroom balcony additionalRoom  \\\n",
       "0        2         2       1  not available   \n",
       "1        2         2       1  not available   \n",
       "2        2         2       3  not available   \n",
       "3        2         2       2     study room   \n",
       "4        2         2       3     study room   \n",
       "\n",
       "                               address  floorNum facing       agePossession  \\\n",
       "0     Krishna Colony, Gurgaon, Haryana       4.0   West     1 to 5 Year Old   \n",
       "1   46b, Ashok Vihar, Gurgaon, Haryana       1.0   West        10+ Year Old   \n",
       "2              Sohna, Gurgaon, Haryana      12.0    NaN     0 to 1 Year Old   \n",
       "3  Sector 61 Gurgaon, Gurgaon, Haryana       2.0    NaN            Dec 2023   \n",
       "4  Sector 92 Gurgaon, Gurgaon, Haryana       5.0    NaN  Under Construction   \n",
       "\n",
       "                                     nearbyLocations  \\\n",
       "0  ['Chintapurni Mandir', 'State bank ATM', 'Pear...   \n",
       "1  ['Chintapurni Mandir', 'Sheetla Mata Mandir', ...   \n",
       "2  ['Huda City Metro', 'Golf Course extn road', '...   \n",
       "3  ['Sector 55-56 Metro station', 'Bestech Centra...   \n",
       "4  ['Yadav Clinic', 'Bangali Clinic', 'Dr. J. S. ...   \n",
       "\n",
       "                                         description  \\\n",
       "0  So with lift.Maa bhagwati residency is one of ...   \n",
       "1  Property situated on main road, railway statio...   \n",
       "2  This property is 15 km away from badshapur, gu...   \n",
       "3  Near to metro station of sector 56 and opposit...   \n",
       "4  We are the proud owners of this 2 bhk alongwit...   \n",
       "\n",
       "                                      furnishDetails  \\\n",
       "0  ['3 Fan', '4 Light', '1 Wardrobe', 'No AC', 'N...   \n",
       "1  ['3 Wardrobe', '4 Fan', '1 Exhaust Fan', '1 Ge...   \n",
       "2                                                NaN   \n",
       "3                                                NaN   \n",
       "4                                                 []   \n",
       "\n",
       "                                            features  \\\n",
       "0  ['Feng Shui / Vaastu Compliant', 'Security / F...   \n",
       "1  ['Security / Fire Alarm', 'Maintenance Staff',...   \n",
       "2  ['Power Back-up', 'Feng Shui / Vaastu Complian...   \n",
       "3  ['Security / Fire Alarm', 'Private Garden / Te...   \n",
       "4                                                NaN   \n",
       "\n",
       "                                              rating  \n",
       "0  ['Environment4 out of 5', 'Safety4 out of 5', ...  \n",
       "1  ['Environment4 out of 5', 'Safety4 out of 5', ...  \n",
       "2  ['Environment4 out of 5', 'Safety4 out of 5', ...  \n",
       "3                                                NaN  \n",
       "4  ['Environment5 out of 5', 'Safety3 out of 5', ...  "
      ]
     },
     "execution_count": 157,
     "metadata": {},
     "output_type": "execute_result"
    }
   ],
   "source": [
    "df.head()"
   ]
  },
  {
   "cell_type": "code",
   "execution_count": 158,
   "metadata": {},
   "outputs": [
    {
     "name": "stdout",
     "output_type": "stream",
     "text": [
      "<class 'pandas.core.frame.DataFrame'>\n",
      "RangeIndex: 2996 entries, 0 to 2995\n",
      "Data columns (total 20 columns):\n",
      " #   Column           Non-Null Count  Dtype  \n",
      "---  ------           --------------  -----  \n",
      " 0   property_name    2996 non-null   object \n",
      " 1   property_type    2996 non-null   object \n",
      " 2   society          2995 non-null   object \n",
      " 3   price            2996 non-null   float64\n",
      " 4   price_per_sqft   2996 non-null   float64\n",
      " 5   area             2996 non-null   float64\n",
      " 6   areaWithType     2996 non-null   object \n",
      " 7   bedRoom          2996 non-null   int64  \n",
      " 8   bathroom         2996 non-null   int64  \n",
      " 9   balcony          2996 non-null   object \n",
      " 10  additionalRoom   2996 non-null   object \n",
      " 11  address          2990 non-null   object \n",
      " 12  floorNum         2994 non-null   float64\n",
      " 13  facing           2122 non-null   object \n",
      " 14  agePossession    2995 non-null   object \n",
      " 15  nearbyLocations  2905 non-null   object \n",
      " 16  description      2996 non-null   object \n",
      " 17  furnishDetails   2200 non-null   object \n",
      " 18  features         2589 non-null   object \n",
      " 19  rating           2668 non-null   object \n",
      "dtypes: float64(4), int64(2), object(14)\n",
      "memory usage: 468.3+ KB\n"
     ]
    }
   ],
   "source": [
    "df.info()"
   ]
  },
  {
   "cell_type": "code",
   "execution_count": 159,
   "metadata": {},
   "outputs": [
    {
     "data": {
      "text/html": [
       "<div>\n",
       "<style scoped>\n",
       "    .dataframe tbody tr th:only-of-type {\n",
       "        vertical-align: middle;\n",
       "    }\n",
       "\n",
       "    .dataframe tbody tr th {\n",
       "        vertical-align: top;\n",
       "    }\n",
       "\n",
       "    .dataframe thead th {\n",
       "        text-align: right;\n",
       "    }\n",
       "</style>\n",
       "<table border=\"1\" class=\"dataframe\">\n",
       "  <thead>\n",
       "    <tr style=\"text-align: right;\">\n",
       "      <th></th>\n",
       "      <th>price</th>\n",
       "    </tr>\n",
       "    <tr>\n",
       "      <th>facing</th>\n",
       "      <th></th>\n",
       "    </tr>\n",
       "  </thead>\n",
       "  <tbody>\n",
       "    <tr>\n",
       "      <th>East</th>\n",
       "      <td>1.748384</td>\n",
       "    </tr>\n",
       "    <tr>\n",
       "      <th>North</th>\n",
       "      <td>1.806478</td>\n",
       "    </tr>\n",
       "    <tr>\n",
       "      <th>North-East</th>\n",
       "      <td>1.939426</td>\n",
       "    </tr>\n",
       "    <tr>\n",
       "      <th>North-West</th>\n",
       "      <td>1.695000</td>\n",
       "    </tr>\n",
       "    <tr>\n",
       "      <th>South</th>\n",
       "      <td>1.776059</td>\n",
       "    </tr>\n",
       "    <tr>\n",
       "      <th>South-East</th>\n",
       "      <td>1.947639</td>\n",
       "    </tr>\n",
       "    <tr>\n",
       "      <th>South-West</th>\n",
       "      <td>1.732074</td>\n",
       "    </tr>\n",
       "    <tr>\n",
       "      <th>West</th>\n",
       "      <td>1.821749</td>\n",
       "    </tr>\n",
       "  </tbody>\n",
       "</table>\n",
       "</div>"
      ],
      "text/plain": [
       "               price\n",
       "facing              \n",
       "East        1.748384\n",
       "North       1.806478\n",
       "North-East  1.939426\n",
       "North-West  1.695000\n",
       "South       1.776059\n",
       "South-East  1.947639\n",
       "South-West  1.732074\n",
       "West        1.821749"
      ]
     },
     "execution_count": 159,
     "metadata": {},
     "output_type": "execute_result"
    }
   ],
   "source": [
    "df[['price','facing']].groupby(by='facing').mean()"
   ]
  },
  {
   "cell_type": "code",
   "execution_count": 160,
   "metadata": {},
   "outputs": [
    {
     "data": {
      "text/plain": [
       "([0, 1, 2, 3, 4, 5, 6, 7],\n",
       " [Text(0, 0, 'East'),\n",
       "  Text(1, 0, 'North'),\n",
       "  Text(2, 0, 'North-East'),\n",
       "  Text(3, 0, 'North-West'),\n",
       "  Text(4, 0, 'South'),\n",
       "  Text(5, 0, 'South-East'),\n",
       "  Text(6, 0, 'South-West'),\n",
       "  Text(7, 0, 'West')])"
      ]
     },
     "execution_count": 160,
     "metadata": {},
     "output_type": "execute_result"
    },
    {
     "data": {
      "image/png": "[encoded data removed]",
      "text/plain": [
       "<Figure size 640x480 with 1 Axes>"
      ]
     },
     "metadata": {},
     "output_type": "display_data"
    }
   ],
   "source": [
    "plt.bar(df[['price','facing']].groupby(by='facing').median().index,df[['price','facing']].groupby(by='facing').median()['price'])\n",
    "plt.tight_layout()\n",
    "plt.xticks(rotation=90)"
   ]
  },
  {
   "cell_type": "code",
   "execution_count": 161,
   "metadata": {},
   "outputs": [],
   "source": [
    "#facing has no strong correlation with the data"
   ]
  },
  {
   "cell_type": "code",
   "execution_count": 162,
   "metadata": {},
   "outputs": [
    {
     "data": {
      "text/plain": [
       "balcony\n",
       "3     973\n",
       "3+    862\n",
       "2     749\n",
       "1     315\n",
       "0      97\n",
       "Name: count, dtype: int64"
      ]
     },
     "execution_count": 162,
     "metadata": {},
     "output_type": "execute_result"
    }
   ],
   "source": [
    "df['balcony'].value_counts()"
   ]
  },
  {
   "cell_type": "code",
   "execution_count": 163,
   "metadata": {},
   "outputs": [
    {
     "name": "stdout",
     "output_type": "stream",
     "text": [
      "{<class 'str'>}\n"
     ]
    }
   ],
   "source": [
    "c=0\n",
    "s=set()\n",
    "for i in df['balcony']:\n",
    "    if type(i) in s:\n",
    "        continue\n",
    "    else:\n",
    "        s.add(type(i))\n",
    "print(s)\n"
   ]
  },
  {
   "cell_type": "code",
   "execution_count": 164,
   "metadata": {},
   "outputs": [
    {
     "data": {
      "text/plain": [
       "balcony\n",
       "3     973\n",
       "3+    862\n",
       "2     749\n",
       "1     315\n",
       "0      97\n",
       "Name: count, dtype: int64"
      ]
     },
     "execution_count": 164,
     "metadata": {},
     "output_type": "execute_result"
    }
   ],
   "source": [
    "df['balcony'].value_counts()"
   ]
  },
  {
   "cell_type": "code",
   "execution_count": 165,
   "metadata": {},
   "outputs": [],
   "source": [
    "balcony_df=pd.get_dummies(df['balcony'])"
   ]
  },
  {
   "cell_type": "code",
   "execution_count": 166,
   "metadata": {},
   "outputs": [],
   "source": [
    "balcony_df['price']=df['price']"
   ]
  },
  {
   "cell_type": "code",
   "execution_count": 167,
   "metadata": {},
   "outputs": [
    {
     "data": {
      "text/plain": [
       "0       -0.031778\n",
       "1       -0.245623\n",
       "2       -0.179502\n",
       "3        0.071728\n",
       "3+       0.276349\n",
       "price    1.000000\n",
       "Name: price, dtype: float64"
      ]
     },
     "execution_count": 167,
     "metadata": {},
     "output_type": "execute_result"
    }
   ],
   "source": [
    "balcony_df.corr()['price']"
   ]
  },
  {
   "cell_type": "code",
   "execution_count": 168,
   "metadata": {},
   "outputs": [
    {
     "data": {
      "text/plain": [
       "<BarContainer object of 5 artists>"
      ]
     },
     "execution_count": 168,
     "metadata": {},
     "output_type": "execute_result"
    },
    {
     "data": {
      "image/png": "[encoded data removed]",
      "text/plain": [
       "<Figure size 640x480 with 1 Axes>"
      ]
     },
     "metadata": {},
     "output_type": "display_data"
    }
   ],
   "source": [
    "plt.bar(balcony_df.corr()['price'].drop('price').index,balcony_df.corr()['price'].drop('price').values)"
   ]
  },
  {
   "cell_type": "code",
   "execution_count": 169,
   "metadata": {},
   "outputs": [
    {
     "data": {
      "text/plain": [
       "Index(['property_name', 'property_type', 'society', 'price', 'price_per_sqft',\n",
       "       'area', 'areaWithType', 'bedRoom', 'bathroom', 'balcony',\n",
       "       'additionalRoom', 'address', 'floorNum', 'facing', 'agePossession',\n",
       "       'nearbyLocations', 'description', 'furnishDetails', 'features',\n",
       "       'rating'],\n",
       "      dtype='object')"
      ]
     },
     "execution_count": 169,
     "metadata": {},
     "output_type": "execute_result"
    }
   ],
   "source": [
    "df.columns"
   ]
  },
  {
   "cell_type": "code",
   "execution_count": 170,
   "metadata": {},
   "outputs": [
    {
     "data": {
      "text/plain": [
       "Text(0, 0.5, 'No of Flats')"
      ]
     },
     "execution_count": 170,
     "metadata": {},
     "output_type": "execute_result"
    },
    {
     "data": {
      "image/png": "[encoded data removed]",
      "text/plain": [
       "<Figure size 640x480 with 1 Axes>"
      ]
     },
     "metadata": {},
     "output_type": "display_data"
    }
   ],
   "source": [
    "plt.plot(df['floorNum'].value_counts().sort_index().index,df['floorNum'].value_counts().sort_index().values)\n",
    "plt.xlabel('Floor Number')\n",
    "plt.ylabel('No of Flats')"
   ]
  },
  {
   "cell_type": "code",
   "execution_count": 171,
   "metadata": {},
   "outputs": [
    {
     "data": {
      "text/html": [
       "<div>\n",
       "<style scoped>\n",
       "    .dataframe tbody tr th:only-of-type {\n",
       "        vertical-align: middle;\n",
       "    }\n",
       "\n",
       "    .dataframe tbody tr th {\n",
       "        vertical-align: top;\n",
       "    }\n",
       "\n",
       "    .dataframe thead th {\n",
       "        text-align: right;\n",
       "    }\n",
       "</style>\n",
       "<table border=\"1\" class=\"dataframe\">\n",
       "  <thead>\n",
       "    <tr style=\"text-align: right;\">\n",
       "      <th></th>\n",
       "      <th>price</th>\n",
       "    </tr>\n",
       "    <tr>\n",
       "      <th>floorNum</th>\n",
       "      <th></th>\n",
       "    </tr>\n",
       "  </thead>\n",
       "  <tbody>\n",
       "    <tr>\n",
       "      <th>0.0</th>\n",
       "      <td>1.555564</td>\n",
       "    </tr>\n",
       "    <tr>\n",
       "      <th>1.0</th>\n",
       "      <td>1.429596</td>\n",
       "    </tr>\n",
       "    <tr>\n",
       "      <th>2.0</th>\n",
       "      <td>1.499535</td>\n",
       "    </tr>\n",
       "    <tr>\n",
       "      <th>3.0</th>\n",
       "      <td>1.571734</td>\n",
       "    </tr>\n",
       "    <tr>\n",
       "      <th>4.0</th>\n",
       "      <td>1.433448</td>\n",
       "    </tr>\n",
       "  </tbody>\n",
       "</table>\n",
       "</div>"
      ],
      "text/plain": [
       "             price\n",
       "floorNum          \n",
       "0.0       1.555564\n",
       "1.0       1.429596\n",
       "2.0       1.499535\n",
       "3.0       1.571734\n",
       "4.0       1.433448"
      ]
     },
     "execution_count": 171,
     "metadata": {},
     "output_type": "execute_result"
    }
   ],
   "source": [
    "floor_df=df[['floorNum','price']].groupby('floorNum').mean()\n",
    "floor_df.head()"
   ]
  },
  {
   "cell_type": "code",
   "execution_count": 172,
   "metadata": {},
   "outputs": [],
   "source": [
    "floor_df.reset_index(inplace=True)"
   ]
  },
  {
   "cell_type": "code",
   "execution_count": 173,
   "metadata": {},
   "outputs": [
    {
     "data": {
      "text/plain": [
       "<Axes: xlabel='floorNum', ylabel='price'>"
      ]
     },
     "execution_count": 173,
     "metadata": {},
     "output_type": "execute_result"
    },
    {
     "data": {
      "image/png": "[encoded data removed]",
      "text/plain": [
       "<Figure size 640x480 with 1 Axes>"
      ]
     },
     "metadata": {},
     "output_type": "display_data"
    }
   ],
   "source": [
    "sns.regplot(data=floor_df,x='floorNum',y='price')"
   ]
  },
  {
   "cell_type": "code",
   "execution_count": 174,
   "metadata": {},
   "outputs": [],
   "source": [
    "# increase in price of flat with floorNum"
   ]
  },
  {
   "cell_type": "code",
   "execution_count": 175,
   "metadata": {},
   "outputs": [
    {
     "data": {
      "text/html": [
       "<div>\n",
       "<style scoped>\n",
       "    .dataframe tbody tr th:only-of-type {\n",
       "        vertical-align: middle;\n",
       "    }\n",
       "\n",
       "    .dataframe tbody tr th {\n",
       "        vertical-align: top;\n",
       "    }\n",
       "\n",
       "    .dataframe thead th {\n",
       "        text-align: right;\n",
       "    }\n",
       "</style>\n",
       "<table border=\"1\" class=\"dataframe\">\n",
       "  <thead>\n",
       "    <tr style=\"text-align: right;\">\n",
       "      <th></th>\n",
       "      <th>property_name</th>\n",
       "      <th>property_type</th>\n",
       "      <th>society</th>\n",
       "      <th>price</th>\n",
       "      <th>price_per_sqft</th>\n",
       "      <th>area</th>\n",
       "      <th>areaWithType</th>\n",
       "      <th>bedRoom</th>\n",
       "      <th>bathroom</th>\n",
       "      <th>balcony</th>\n",
       "      <th>additionalRoom</th>\n",
       "      <th>address</th>\n",
       "      <th>floorNum</th>\n",
       "      <th>facing</th>\n",
       "      <th>agePossession</th>\n",
       "      <th>nearbyLocations</th>\n",
       "      <th>description</th>\n",
       "      <th>furnishDetails</th>\n",
       "      <th>features</th>\n",
       "      <th>rating</th>\n",
       "    </tr>\n",
       "  </thead>\n",
       "  <tbody>\n",
       "    <tr>\n",
       "      <th>0</th>\n",
       "      <td>2 BHK Flat in Krishna Colony</td>\n",
       "      <td>flat</td>\n",
       "      <td>maa bhagwati residency</td>\n",
       "      <td>0.45</td>\n",
       "      <td>5000.0</td>\n",
       "      <td>900.0</td>\n",
       "      <td>Carpet area: 900 (83.61 sq.m.)</td>\n",
       "      <td>2</td>\n",
       "      <td>2</td>\n",
       "      <td>1</td>\n",
       "      <td>not available</td>\n",
       "      <td>Krishna Colony, Gurgaon, Haryana</td>\n",
       "      <td>4.0</td>\n",
       "      <td>West</td>\n",
       "      <td>1 to 5 Year Old</td>\n",
       "      <td>['Chintapurni Mandir', 'State bank ATM', 'Pear...</td>\n",
       "      <td>So with lift.Maa bhagwati residency is one of ...</td>\n",
       "      <td>['3 Fan', '4 Light', '1 Wardrobe', 'No AC', 'N...</td>\n",
       "      <td>['Feng Shui / Vaastu Compliant', 'Security / F...</td>\n",
       "      <td>['Environment4 out of 5', 'Safety4 out of 5', ...</td>\n",
       "    </tr>\n",
       "    <tr>\n",
       "      <th>1</th>\n",
       "      <td>2 BHK Flat in Ashok Vihar</td>\n",
       "      <td>flat</td>\n",
       "      <td>apna enclave</td>\n",
       "      <td>0.50</td>\n",
       "      <td>7692.0</td>\n",
       "      <td>650.0</td>\n",
       "      <td>Carpet area: 650 (60.39 sq.m.)</td>\n",
       "      <td>2</td>\n",
       "      <td>2</td>\n",
       "      <td>1</td>\n",
       "      <td>not available</td>\n",
       "      <td>46b, Ashok Vihar, Gurgaon, Haryana</td>\n",
       "      <td>1.0</td>\n",
       "      <td>West</td>\n",
       "      <td>10+ Year Old</td>\n",
       "      <td>['Chintapurni Mandir', 'Sheetla Mata Mandir', ...</td>\n",
       "      <td>Property situated on main road, railway statio...</td>\n",
       "      <td>['3 Wardrobe', '4 Fan', '1 Exhaust Fan', '1 Ge...</td>\n",
       "      <td>['Security / Fire Alarm', 'Maintenance Staff',...</td>\n",
       "      <td>['Environment4 out of 5', 'Safety4 out of 5', ...</td>\n",
       "    </tr>\n",
       "    <tr>\n",
       "      <th>2</th>\n",
       "      <td>2 BHK Flat in Sohna</td>\n",
       "      <td>flat</td>\n",
       "      <td>tulsiani easy in homes</td>\n",
       "      <td>0.40</td>\n",
       "      <td>6722.0</td>\n",
       "      <td>595.0</td>\n",
       "      <td>Carpet area: 595 (55.28 sq.m.)</td>\n",
       "      <td>2</td>\n",
       "      <td>2</td>\n",
       "      <td>3</td>\n",
       "      <td>not available</td>\n",
       "      <td>Sohna, Gurgaon, Haryana</td>\n",
       "      <td>12.0</td>\n",
       "      <td>NaN</td>\n",
       "      <td>0 to 1 Year Old</td>\n",
       "      <td>['Huda City Metro', 'Golf Course extn road', '...</td>\n",
       "      <td>This property is 15 km away from badshapur, gu...</td>\n",
       "      <td>NaN</td>\n",
       "      <td>['Power Back-up', 'Feng Shui / Vaastu Complian...</td>\n",
       "      <td>['Environment4 out of 5', 'Safety4 out of 5', ...</td>\n",
       "    </tr>\n",
       "    <tr>\n",
       "      <th>3</th>\n",
       "      <td>2 BHK Flat in Sector 61 Gurgaon</td>\n",
       "      <td>flat</td>\n",
       "      <td>smart world orchard</td>\n",
       "      <td>1.47</td>\n",
       "      <td>12250.0</td>\n",
       "      <td>1200.0</td>\n",
       "      <td>Carpet area: 1200 (111.48 sq.m.)</td>\n",
       "      <td>2</td>\n",
       "      <td>2</td>\n",
       "      <td>2</td>\n",
       "      <td>study room</td>\n",
       "      <td>Sector 61 Gurgaon, Gurgaon, Haryana</td>\n",
       "      <td>2.0</td>\n",
       "      <td>NaN</td>\n",
       "      <td>Dec 2023</td>\n",
       "      <td>['Sector 55-56 Metro station', 'Bestech Centra...</td>\n",
       "      <td>Near to metro station of sector 56 and opposit...</td>\n",
       "      <td>NaN</td>\n",
       "      <td>['Security / Fire Alarm', 'Private Garden / Te...</td>\n",
       "      <td>NaN</td>\n",
       "    </tr>\n",
       "    <tr>\n",
       "      <th>4</th>\n",
       "      <td>2 BHK Flat in Sector 92 Gurgaon</td>\n",
       "      <td>flat</td>\n",
       "      <td>parkwood westend</td>\n",
       "      <td>0.70</td>\n",
       "      <td>5204.0</td>\n",
       "      <td>1345.0</td>\n",
       "      <td>Super Built up area 1345(124.95 sq.m.)</td>\n",
       "      <td>2</td>\n",
       "      <td>2</td>\n",
       "      <td>3</td>\n",
       "      <td>study room</td>\n",
       "      <td>Sector 92 Gurgaon, Gurgaon, Haryana</td>\n",
       "      <td>5.0</td>\n",
       "      <td>NaN</td>\n",
       "      <td>Under Construction</td>\n",
       "      <td>['Yadav Clinic', 'Bangali Clinic', 'Dr. J. S. ...</td>\n",
       "      <td>We are the proud owners of this 2 bhk alongwit...</td>\n",
       "      <td>[]</td>\n",
       "      <td>NaN</td>\n",
       "      <td>['Environment5 out of 5', 'Safety3 out of 5', ...</td>\n",
       "    </tr>\n",
       "  </tbody>\n",
       "</table>\n",
       "</div>"
      ],
      "text/plain": [
       "                     property_name property_type                 society  \\\n",
       "0     2 BHK Flat in Krishna Colony          flat  maa bhagwati residency   \n",
       "1        2 BHK Flat in Ashok Vihar          flat            apna enclave   \n",
       "2              2 BHK Flat in Sohna          flat  tulsiani easy in homes   \n",
       "3  2 BHK Flat in Sector 61 Gurgaon          flat     smart world orchard   \n",
       "4  2 BHK Flat in Sector 92 Gurgaon          flat        parkwood westend   \n",
       "\n",
       "   price  price_per_sqft    area                            areaWithType  \\\n",
       "0   0.45          5000.0   900.0          Carpet area: 900 (83.61 sq.m.)   \n",
       "1   0.50          7692.0   650.0          Carpet area: 650 (60.39 sq.m.)   \n",
       "2   0.40          6722.0   595.0          Carpet area: 595 (55.28 sq.m.)   \n",
       "3   1.47         12250.0  1200.0        Carpet area: 1200 (111.48 sq.m.)   \n",
       "4   0.70          5204.0  1345.0  Super Built up area 1345(124.95 sq.m.)   \n",
       "\n",
       "   bedRoom  bathroom balcony additionalRoom  \\\n",
       "0        2         2       1  not available   \n",
       "1        2         2       1  not available   \n",
       "2        2         2       3  not available   \n",
       "3        2         2       2     study room   \n",
       "4        2         2       3     study room   \n",
       "\n",
       "                               address  floorNum facing       agePossession  \\\n",
       "0     Krishna Colony, Gurgaon, Haryana       4.0   West     1 to 5 Year Old   \n",
       "1   46b, Ashok Vihar, Gurgaon, Haryana       1.0   West        10+ Year Old   \n",
       "2              Sohna, Gurgaon, Haryana      12.0    NaN     0 to 1 Year Old   \n",
       "3  Sector 61 Gurgaon, Gurgaon, Haryana       2.0    NaN            Dec 2023   \n",
       "4  Sector 92 Gurgaon, Gurgaon, Haryana       5.0    NaN  Under Construction   \n",
       "\n",
       "                                     nearbyLocations  \\\n",
       "0  ['Chintapurni Mandir', 'State bank ATM', 'Pear...   \n",
       "1  ['Chintapurni Mandir', 'Sheetla Mata Mandir', ...   \n",
       "2  ['Huda City Metro', 'Golf Course extn road', '...   \n",
       "3  ['Sector 55-56 Metro station', 'Bestech Centra...   \n",
       "4  ['Yadav Clinic', 'Bangali Clinic', 'Dr. J. S. ...   \n",
       "\n",
       "                                         description  \\\n",
       "0  So with lift.Maa bhagwati residency is one of ...   \n",
       "1  Property situated on main road, railway statio...   \n",
       "2  This property is 15 km away from badshapur, gu...   \n",
       "3  Near to metro station of sector 56 and opposit...   \n",
       "4  We are the proud owners of this 2 bhk alongwit...   \n",
       "\n",
       "                                      furnishDetails  \\\n",
       "0  ['3 Fan', '4 Light', '1 Wardrobe', 'No AC', 'N...   \n",
       "1  ['3 Wardrobe', '4 Fan', '1 Exhaust Fan', '1 Ge...   \n",
       "2                                                NaN   \n",
       "3                                                NaN   \n",
       "4                                                 []   \n",
       "\n",
       "                                            features  \\\n",
       "0  ['Feng Shui / Vaastu Compliant', 'Security / F...   \n",
       "1  ['Security / Fire Alarm', 'Maintenance Staff',...   \n",
       "2  ['Power Back-up', 'Feng Shui / Vaastu Complian...   \n",
       "3  ['Security / Fire Alarm', 'Private Garden / Te...   \n",
       "4                                                NaN   \n",
       "\n",
       "                                              rating  \n",
       "0  ['Environment4 out of 5', 'Safety4 out of 5', ...  \n",
       "1  ['Environment4 out of 5', 'Safety4 out of 5', ...  \n",
       "2  ['Environment4 out of 5', 'Safety4 out of 5', ...  \n",
       "3                                                NaN  \n",
       "4  ['Environment5 out of 5', 'Safety3 out of 5', ...  "
      ]
     },
     "execution_count": 175,
     "metadata": {},
     "output_type": "execute_result"
    }
   ],
   "source": [
    "df.head()"
   ]
  },
  {
   "cell_type": "code",
   "execution_count": 176,
   "metadata": {},
   "outputs": [
    {
     "name": "stdout",
     "output_type": "stream",
     "text": [
      "{<class 'float'>, <class 'str'>}\n"
     ]
    }
   ],
   "source": [
    "s=set()\n",
    "for i in df['address']:\n",
    "    if type(i) in s:\n",
    "        continue\n",
    "    else:\n",
    "        s.add(type(i))\n",
    "print(s)"
   ]
  },
  {
   "cell_type": "code",
   "execution_count": 177,
   "metadata": {},
   "outputs": [
    {
     "name": "stdout",
     "output_type": "stream",
     "text": [
      "{nan}\n"
     ]
    }
   ],
   "source": [
    "s=set()\n",
    "for i in df['address']:\n",
    "    if type(i) ==float:\n",
    "        s.add(i)\n",
    "print(s)"
   ]
  },
  {
   "cell_type": "code",
   "execution_count": 178,
   "metadata": {},
   "outputs": [
    {
     "name": "stdout",
     "output_type": "stream",
     "text": [
      "{' Haryana'}\n"
     ]
    }
   ],
   "source": [
    "# state\n",
    "s=set()\n",
    "for i in df['address'].dropna():\n",
    "    if i.split(',')[-1] in s:\n",
    "        continue\n",
    "    else:\n",
    "        s.add(i.split(',')[-1])\n",
    "print(s)"
   ]
  },
  {
   "cell_type": "code",
   "execution_count": 179,
   "metadata": {},
   "outputs": [
    {
     "name": "stdout",
     "output_type": "stream",
     "text": [
      "{' Gurgaon'}\n"
     ]
    }
   ],
   "source": [
    "# state\n",
    "s=set()\n",
    "for i in df['address'].dropna():\n",
    "    if i.split(',')[-2] in s:\n",
    "        continue\n",
    "    else:\n",
    "        s.add(i.split(',')[-2])\n",
    "print(s)"
   ]
  },
  {
   "cell_type": "code",
   "execution_count": 180,
   "metadata": {},
   "outputs": [
    {
     "name": "stdout",
     "output_type": "stream",
     "text": [
      "['Krishna Colony', ' Ashok Vihar', 'Sohna', 'Sector 61 Gurgaon', 'Sector 92 Gurgaon', ' Sector 36 Gurgaon', 'Dwarka Expressway Gurgaon', 'Sector 104 Gurgaon', ' Sector 88B Gurgaon', 'Sector 78 Gurgaon', 'Sector 81 Gurgaon', 'Sohna', 'Sector 79 Gurgaon', ' Sector 33 Gurgaon', 'Sector 90 Gurgaon', ' Sector 108 Gurgaon', ' Sector 62 Gurgaon', ' Sector 102 Gurgaon', 'Sector-33 Sohna', 'Sector 89 Gurgaon', 'Sector 79 Gurgaon', 'Sector 89 Gurgaon', 'Sector 102 Gurgaon', 'Sector 113 Gurgaon ', ' Sector 36 Gurgaon', ' Sector 65 Gurgaon', 'Sector 48 Gurgaon', 'Sector 37C Gurgaon', ' Sector 3 Gurgaon', 'New Palam Vihar', 'Sector 43 Gurgaon', ' Sector 88A Gurgaon', ' Sector 92 Gurgaon', ' Sector 90 Gurgaon', ' Sector 68 Gurgaon', 'Sector 109 Gurgaon', ' Sohna', ' Sector 37C Gurgaon', ' Sector 43 Gurgaon', 'Sohna', ' Sector 106 Gurgaon', 'Sector 82 Gurgaon', ' Ashok Vihar Phase 3 Extension', 'Sohna', 'Sector 90 Gurgaon', 'Sector 106 Gurgaon', 'Sector 85 Gurgaon', 'Sector 82A Gurgaon', ' Sector 65 Gurgaon', 'DLF Phase 4', 'Sector 79 Gurgaon', ' Sohna', 'Sector 10A Gurgaon', 'Sector 1A IMT Manesar', ' Block A Surya Vihar', 'Sector 84 Gurgaon', ' Sector 33 Gurgaon', 'Sector 71 Gurgaon', ' Sector-7 Housing Board', ' Sohna', 'Sector 92 Gurgaon', 'Sector 77 Gurgaon', 'Sector 37D Gurgaon', 'Sector 67A Gurgaon', ' Sector 37C Gurgaon', 'Sector 57 Gurgaon', 'Sector 3 Gurgaon', 'Sector 95 Gurgaon', ' Sector 95 Gurgaon', 'Sector 92 Gurgaon', 'Sohna', 'Sector 99A Gurgaon', 'Sector 103 Gurgaon', 'Sector 89 Gurgaon', 'Sohna', 'Sohna', 'Sector 49 Gurgaon', ' Sector 90 Gurgaon', 'Sector 30 Gurgaon', ' Sector 89 Gurgaon', 'Sector 86 Gurgaon', ' Sector 66 Gurgaon', ' Sector 15 Part 1', 'Sohna', ' Sector 61 Gurgaon', 'Sector 109 Gurgaon', 'Laxman Vihar', ' New Palam Vihar', ' Sector 37D Gurgaon', ' Sector 65 Gurgaon', 'Sohna', ' Sohna', ' Sector-33 Sohna', ' Sector 68 Gurgaon', 'Sector 90 Gurgaon', 'Sector-33 Sohna', 'Sector 22 Gurgaon', 'Sector 63A Gurgaon', ' Sector 88A Gurgaon', 'Sector 65 Gurgaon', ' Sector 79 Gurgaon', 'Sector 61 Gurgaon', 'Sohna', ' Sector 77 Gurgaon', 'Sector-33 Sohna', 'Sector 79 Gurgaon', 'Sector 95 Gurgaon', ' Sector 109 Gurgaon', 'Sector 99A Gurgaon', ' Sector 86 Gurgaon', 'Sector 78 Gurgaon', ' Sector 65 Gurgaon', 'Sector 95A Gurgaon', ' Laxman Vihar', 'Sector-33 Sohna', 'Dwarka Expressway Gurgaon', 'Sector 113 Gurgaon ', 'Sector 103 Gurgaon', ' Sector 63A Gurgaon', ' Sohna', 'Sohna', ' Sector 89 Gurgaon', 'Sector 77 Gurgaon', 'Dwarka Expressway Gurgaon', 'Sector 99A Gurgaon', 'Sector 113 Gurgaon ', 'Sector 113 Gurgaon ', ' Sector 104 Gurgaon', 'Sector 52 Gurgaon', ' Sector 67 Gurgaon', 'Sector 86 Gurgaon', 'Sohna', 'Sohna', 'Sushant Lok Phase 1', 'Sector 78 Gurgaon', 'Sector 92 Gurgaon', 'Sector 107 Gurgaon', 'Sector 89 Gurgaon', 'Sector-33 Sohna', 'Sector 92 Gurgaon', ' Sector 82A Gurgaon', ' Sector 12A Gurgaon', ' Sector 89 Gurgaon', 'Sohna Road', 'Sohna', 'Sector 104 Gurgaon', 'Ashok Vihar Phase 2', 'Sector 65 Gurgaon', 'Rajiv Colony', ' Sector 2 Gurgaon', 'Garauli Kalan', ' Sector 108 Gurgaon', 'Sector 37D Gurgaon', 'Sector 90 Gurgaon', ' Sector 79 Gurgaon', 'Bhawani Enclave', 'Sector 86 Gurgaon', 'Sector 65 Gurgaon', ' Sector-33 Sohna', 'Sector 61 Gurgaon', 'Sohna', 'Sector 95A Gurgaon', 'Sector 77 Gurgaon', ' Sector 67A Gurgaon', 'Sector 95 Gurgaon', 'Sector 89 Gurgaon', 'Sector 99 Gurgaon', 'IFFCO Chowk', ' Sector 99A Gurgaon', ' Sector 82A Gurgaon', ' Palam Vihar', ' Sector 88A Gurgaon', 'Sector 91 Gurgaon', ' Sector 91 Gurgaon', 'near sector 1 market', ' Sector 68 Gurgaon', 'Sector 70 Gurgaon', 'Sector 37C Gurgaon', ' Dwarka Expressway Gurgaon', 'Sector 85 Gurgaon', 'Sector 67 Gurgaon', 'Sector 70A Gurgaon', 'Sector 90 Gurgaon', ' Sector 85 Gurgaon', 'Gwal Pahari', ' Block A Surya Vihar', 'Sector 7 Gurgaon', 'Sohna', 'Sector 79 Gurgaon', ' Sohna Road', 'Sector 113 Gurgaon ', 'Sector 92 Gurgaon', 'Malibu Town', ' Sector 70A Gurgaon', ' Sector 65 Gurgaon', ' Sohna', ' Sohna', ' Golf Course Road', ' Sector 4 Gurgaon', ' Sector 99 Gurgaon', 'Sector 68 Gurgaon', 'Sector 54 Gurgaon', 'Sector 111 Gurgaon', ' Sector 95 Gurgaon', 'Chakkarpur', ' Sector 65 Gurgaon', 'Sector 79 Gurgaon', 'Sector 37D Gurgaon', ' Sector 89 Gurgaon', ' Sector 99A Gurgaon', ' Laxman Vihar', ' Sector 37D Gurgaon', 'Sector 79 Gurgaon', 'Sohna', 'Sector 65 Gurgaon', 'Sector 65 Gurgaon', ' Sector 82A Gurgaon', 'Sector 65 Gurgaon', 'Sector 65 Gurgaon', ' Sector 65 Gurgaon', ' Sector 41 Gurgaon', ' Sector 12 Gurgaon', 'Sector 104 Gurgaon', ' Sector 95 Gurgaon', ' Sector 71 Gurgaon', ' Sector 37D Gurgaon', 'Sector 79 Gurgaon', ' Sector 37C Gurgaon', 'Sector 113 Gurgaon ', 'Sector 102 Gurgaon', 'Sector 61 Gurgaon', 'Sector 79 Gurgaon', 'Sector 61 Gurgaon', 'Sector 33 Gurgaon', 'Sector 102 Gurgaon', 'Sector 92 Gurgaon', ' Sector 89 Gurgaon', 'Sector 84 Gurgaon', 'Sector 73 Gurgaon', ' Krishna Colony', ' Sector 36 Sohna', ' Sector 71 Gurgaon', 'Sector 56 Gurgaon', ' Sector 83 Gurgaon', 'Sector 37D Gurgaon', 'Sector 65 Gurgaon', 'Sector 102 Gurgaon', 'Sector 53 Gurgaon', ' Ashok Vihar Phase 2', 'Sector-33 Sohna', 'Sector 65 Gurgaon', 'Sector 68 Gurgaon', 'Sector 62 Gurgaon', ' Sector 78 Gurgaon', 'Sector 83 Gurgaon', 'Sector 4 Gurgaon', 'Sector 72 Gurgaon', 'Sector 90 Gurgaon', 'Sector 1 Imt Manesar', 'Sector 70A Gurgaon', ' Sector 61 Gurgaon', 'Sector 1 Imt Manesar', 'Sector 79 Gurgaon', 'Sector 99 Gurgaon', 'Sector 92 Gurgaon', 'Sector 70 Gurgaon', ' Sector 79 Gurgaon', 'Sector 103 Gurgaon', 'Sector 69 Gurgaon', 'Sector 82 Gurgaon', ' Sector 47 Gurgaon', ' Sector 37C Gurgaon', ' Sector 113 Gurgaon ', 'Sector 70 Gurgaon', ' Sector 37D Gurgaon', ' Sector 89 Gurgaon', ' Sector 83 Gurgaon', ' Sector 99A Gurgaon', ' Sector 92 Gurgaon', ' Sector 54 Gurgaon', ' Sector 63 Gurgaon', ' Sector 110 Gurgaon', ' Sector 85 Gurgaon', ' Sector 113 Gurgaon ', ' Sector 56 Gurgaon', ' Sector 65 Gurgaon', 'Palam Vihar', ' Sector 84 Gurgaon', ' Sector 33 Gurgaon', ' Kanahi', ' Sector-11 sohna', ' Sector 67 Gurgaon', ' Sector 62 Gurgaon', 'Sector-33 Sohna', 'DLF Phase 5', ' Sector 61 Gurgaon', ' Sohna', ' Sector 9A Gurgaon', 'Sector 85 Gurgaon', ' Sector 77 Gurgaon', 'Sector 28 Gurgaon', ' Sector 14 Gurgaon', ' Sector 86 Gurgaon', 'Sector 102 Gurgaon', ' Sector 61 Gurgaon', 'Nirvana Country', ' Sector 61 Gurgaon', 'Sector 102 Gurgaon', ' Sector-33 Sohna', 'Sector 103 Gurgaon', ' Sector 113 Gurgaon ', 'Sector 102 Gurgaon', 'DLF Phase 2', 'Sector 111 Gurgaon', 'Sector 79 Gurgaon', ' Sector 48 Gurgaon', ' Sector 56 Gurgaon', ' Sector 65 Gurgaon', 'Palam Vihar', ' Sector 84 Gurgaon', ' Sector 67 Gurgaon', ' Sector 62 Gurgaon', 'DLF Phase 5', ' Sohna', ' Sector 9A Gurgaon', 'Sector 85 Gurgaon', ' Sector 77 Gurgaon', 'Sector 28 Gurgaon', ' Sector 14 Gurgaon', ' Sector 86 Gurgaon', 'Sector 102 Gurgaon', 'Nirvana Country', 'Sector 102 Gurgaon', 'Sector 103 Gurgaon', 'Sector 102 Gurgaon', 'DLF Phase 2', 'Sector 79 Gurgaon', 'Sector 53 Gurgaon', ' Sector 92 Gurgaon', 'Sector 70A Gurgaon', 'Sector 108 Gurgaon', ' Sector 37D Gurgaon', ' Sector 48 Gurgaon', 'Sector 83 Gurgaon', ' Sector 71 Gurgaon', ' Sohna', 'Sector 59 Gurgaon', 'Sector 92 Gurgaon', 'Sector-33 Sohna', ' Sector 67 Gurgaon', ' Sector 108 Gurgaon', ' Sector 108 Gurgaon', 'Sector-33 Sohna', ' Sector 61 Gurgaon', 'Sector 66 Gurgaon', ' Palam Vihar', ' Palam Vihar', ' Sector 67 Gurgaon', ' Sector 86 Gurgaon', ' Sector 102 Gurgaon', 'Sector 30 Gurgaon', ' DLF Phase 4', ' Sector 67 Gurgaon', 'Sector 22 Gurgaon', ' Sector 92 Gurgaon', ' Sector 9A Gurgaon', 'Sector 102 Gurgaon', 'DLF Phase 2', 'Sector 108 Gurgaon', 'Sector 108 Gurgaon', ' Sector 86 Gurgaon', 'Gwal Pahari', ' Sector 113 Gurgaon ', ' DLF Phase 3', 'Heritage City', 'Sector 79 Gurgaon', ' Sector 103 Gurgaon', 'Sector 85 Gurgaon', 'Gwal Pahari', ' Sector 82 Gurgaon', 'Sector 1 Gurgaon', 'Sector 38 Gurgaon', ' DLF Phase 3', ' Sector 49 Gurgaon', 'Sector 52 Gurgaon', 'Nirvana Country', 'Dwarka Expressway Gurgaon', 'Palam Vihar', 'Sector 108 Gurgaon', 'Palam Vihar', 'Sector 15 Gurgaon', ' Sector 86 Gurgaon', 'Sector 102 Gurgaon', 'Sector 102 Gurgaon', ' DLF Phase 4', ' Sector-33 Sohna', ' Sector 37D Gurgaon', 'Sector 85 Gurgaon', ' Sector 67 Gurgaon', ' Sector 62 Gurgaon', ' Sector 67 Gurgaon', 'DLF Phase 4', 'Ambience Island', 'Ambience Island', ' Sector 65 Gurgaon', 'Sector 103 Gurgaon', ' Sector 85 Gurgaon', 'Sector 1A IMT Manesar', ' Sector 81 Gurgaon', 'Sector 113 Gurgaon ', ' Sector 37D Gurgaon', ' Sector 110 Gurgaon', ' Sector 56 Gurgaon', ' Sector 65 Gurgaon', 'Sector 66 Gurgaon', 'Sector 30 Gurgaon', 'Sector 112 Gurgaon', ' Sector 112 Gurgaon', ' Sector 112 Gurgaon', ' Sector 84 Gurgaon', 'Sector 108 Gurgaon', 'Sector 47 Gurgaon', ' Sector 56 Gurgaon', 'Sector 106 Gurgaon', 'Sector 109 Gurgaon', ' Sector 110 Gurgaon', 'Sector 48 Gurgaon', ' Sector-33 Sohna', 'Palam Vihar', ' Sector 102 Gurgaon', 'Sector 66 Gurgaon', ' Sector 102 Gurgaon', 'Sector 65 Gurgaon', ' Sector 82 Gurgaon', 'Sector 65 Gurgaon', 'Sector 45 Gurgaon', 'Sector 109 Gurgaon', ' Sector 9A Gurgaon', ' Sector 62 Gurgaon', ' Sector 83 Gurgaon', 'Sector 91 Gurgaon', 'Sector 65 Gurgaon', 'Sector 62 Gurgaon', 'Sector 77 Gurgaon', 'Sector 65 Gurgaon', ' Sector 54 Gurgaon', ' Sector 67 Gurgaon', ' Sector 65 Gurgaon', ' Sector 74 Gurgaon', ' Sector 82A Gurgaon', ' Sector 82A Gurgaon', 'Sector 90 Gurgaon', 'Sector 106 Gurgaon', 'Sector 61 Gurgaon', ' Sector 85 Gurgaon', 'Sector 71 Gurgaon', ' Sector 60 Gurgaon', ' Sector 72 Gurgaon', ' Sector 113 Gurgaon ', ' Sector 90 Gurgaon', 'Sector 81 Gurgaon', 'Sector 69 Gurgaon', 'Sector 103 Gurgaon', 'Sector 109 Gurgaon', 'Sector 82 Gurgaon', ' Sector 60 Gurgaon', ' Sector 85 Gurgaon', 'Sector 102 Gurgaon', 'Palam Vihar', ' Sector 107 Gurgaon', ' Sector 22 Gurgaon', ' Sector 103 Gurgaon', 'Sector 99A Gurgaon', ' Sector 48 Gurgaon', 'Sector 66 Gurgaon', 'Sector 102 Gurgaon', 'Sector 65 Gurgaon', 'Sector 90 Gurgaon', ' Sector 67 Gurgaon', ' Sector 67 Gurgaon', ' Sector 67 Gurgaon', 'Palam Vihar', ' Sector 74 Gurgaon', ' Sector 74 Gurgaon', ' Sector 74 Gurgaon', ' Sector 104 Gurgaon', ' Sector 85 Gurgaon', ' Sector 85 Gurgaon', ' Sector 85 Gurgaon', ' Sector 85 Gurgaon', ' Sector 85 Gurgaon', 'Sector 74 Gurgaon', 'Sector 2 Gurgaon', ' Sector 47 Gurgaon', 'Sector 1 Imt Manesar', 'Sector 1 Imt Manesar', ' Sector 65 Gurgaon', 'Sector 112 Gurgaon', 'Sector 112 Gurgaon', 'Sector 102 Gurgaon', 'Sector 112 Gurgaon', 'Sector 110 Gurgaon', 'Sector 110 Gurgaon', ' Sector 60 Gurgaon', ' Sector 72 Gurgaon', 'Sector 82 Gurgaon', ' Sector 51 Gurgaon', 'Sector 102 Gurgaon', 'Sector 102 Gurgaon', 'Sector 102 Gurgaon', ' Sector 102 Gurgaon', ' Sector 56 Gurgaon', ' Sector 81 Gurgaon', ' Sector 81 Gurgaon', ' Sector 81 Gurgaon', 'Sector 84 Gurgaon', ' Sector 81 Gurgaon', 'Sector 107 Gurgaon', 'Sector 104 Gurgaon', 'Sector 107 Gurgaon', 'Sector 65 Gurgaon', ' Sector 50 Gurgaon', 'Palam Vihar', 'Palam Vihar', 'Palam Vihar', ' Sector 84 Gurgaon', 'Sector 1A IMT Manesar', ' Sector 103 Gurgaon', ' Sector 37C Gurgaon', ' Sector 85 Gurgaon', ' Sector 66 Gurgaon', ' Sector 83 Gurgaon', ' Sector 83 Gurgaon', ' Sector 60 Gurgaon', ' Sector 81 Gurgaon', 'Sector 90 Gurgaon', ' Sector 85 Gurgaon', ' Sector 85 Gurgaon', 'Sector 85 Gurgaon', ' Sector 85 Gurgaon', ' Sector 85 Gurgaon', ' Sector 85 Gurgaon', ' Sector 60 Gurgaon', ' Sector 72 Gurgaon', ' Sector 72 Gurgaon', ' Sector 72 Gurgaon', ' Sector 84 Gurgaon', ' Sector 84 Gurgaon', ' Sector 70 Gurgaon', 'Sector 81 Gurgaon', 'Sector 81 Gurgaon', ' Sector 82 Gurgaon', ' Nirvana Country', ' Sector 67 Gurgaon', ' Sector 83 Gurgaon', ' Sector 67 Gurgaon', ' Sector 65 Gurgaon', ' Sector 102 Gurgaon', ' Sector 78 Gurgaon', ' Sector 78 Gurgaon', ' Sector 83 Gurgaon', ' Sector 81 Gurgaon', ' Sector 81 Gurgaon', ' Sector 81 Gurgaon', ' Sector 81 Gurgaon', ' Sector 81 Gurgaon', ' Sector 92 Gurgaon', ' Sector 81 Gurgaon', 'Suncity', 'Sector 70A Gurgaon', ' Sector 22 Gurgaon', ' Sector 68 Gurgaon', ' Sector 71 Gurgaon', 'Sector 107 Gurgaon', 'Sector 107 Gurgaon', ' Sector 77 Gurgaon', ' Sector 77 Gurgaon', ' Sector 86 Gurgaon', ' Sector 113 Gurgaon ', ' Sector 66 Gurgaon', 'Sector 53 Gurgaon', ' Sector 54 Gurgaon', ' Sector 113 Gurgaon ', 'Sector 110 A Gurgaon', ' Sector 70A Gurgaon', ' Sector 83 Gurgaon', ' Sector 83 Gurgaon', 'Gwal Pahari', 'Sector 79 Gurgaon', 'Sector 92 Gurgaon', ' Sector 67 Gurgaon', ' Sector 90 Gurgaon', ' Sector 90 Gurgaon', ' Sector 90 Gurgaon', ' Sector 90 Gurgaon', ' Sector 90 Gurgaon', ' Sector 90 Gurgaon', ' Nirvana Country', ' Sector 37D Gurgaon', ' Sector 112 Gurgaon', 'Sector 65 Gurgaon', 'Sector 67 Gurgaon', 'Sector 83 Gurgaon', ' Sector 56 Gurgaon', ' Sector 56 Gurgaon', ' DLF Phase 3', ' Sector 82 Gurgaon', ' Sector 102 Gurgaon', 'Sector 81 Gurgaon', ' Sector 65 Gurgaon', ' Sector 37C Gurgaon', ' Sector 90 Gurgaon', ' Sector 81 Gurgaon', ' Sector 67 Gurgaon', ' Sector 74 Gurgaon', 'Sector 90 Gurgaon', 'Sector 86 Gurgaon', 'Sector 90 Gurgaon', ' Sector 82A Gurgaon', ' Sector 103 Gurgaon', ' Sector 48 Gurgaon', ' Sector 102 Gurgaon', ' DLF Phase 4', 'Sector 79 Gurgaon', ' Sector 102 Gurgaon', ' DLF Phase 4', ' Sector 109 Gurgaon', ' Sector 108 Gurgaon', ' Sector 109 Gurgaon', ' Sector 85 Gurgaon', ' Sector 67 Gurgaon', ' Sector 61 Gurgaon', 'Sector 84 Gurgaon', 'Sector 88A Gurgaon', 'Sector 65 Gurgaon', 'Sector 83 Gurgaon', ' Sector 77 Gurgaon', ' Sector 83 Gurgaon', 'Sector 1A IMT Manesar', 'Sector 1A IMT Manesar', ' Sector 104 Gurgaon', ' Sector 104 Gurgaon', ' Sector 110 Gurgaon', ' Sector 92 Gurgaon', ' Sector 67 Gurgaon', ' Sector 67 Gurgaon', ' Sector 67 Gurgaon', ' Sector 81 Gurgaon', ' Sector 81 Gurgaon', ' Sector 22 Gurgaon', 'Sector 70 Gurgaon', 'Sector 60 Gurgaon', 'Sector 22 Gurgaon', 'Sector 65 Gurgaon', ' Sector 77 Gurgaon', ' Sector 79 Gurgaon', ' Sector 79 Gurgaon', ' Sector 79 Gurgaon', 'Sector 39 Gurgaon', 'Sector 39 Gurgaon', ' Sector 70 Gurgaon', ' Sector 84 Gurgaon', ' Sector 47 Gurgaon', 'Sector 92 Gurgaon', 'Sector 43 Gurgaon', ' Sector 67 Gurgaon', ' Sector 47 Gurgaon', 'Sector 72 Gurgaon', 'Sector 71 Gurgaon', ' Sector 90 Gurgaon', 'Gwal Pahari', 'Sector 54 Gurgaon', 'Sector 90 Gurgaon', 'Sector 90 Gurgaon', ' Sector 65 Gurgaon', ' Sector 49 Gurgaon', ' Sector 86 Gurgaon', ' Sector 81 Gurgaon', 'Sector 83 Gurgaon', 'Sector 108 Gurgaon', ' Sector 102 Gurgaon', 'Sector 85 Gurgaon', 'Sector 85 Gurgaon', 'Sector 85 Gurgaon', 'Sector 90 Gurgaon', 'Sector 85 Gurgaon', 'Sector 95 Gurgaon', ' Sector 69 Gurgaon', ' Sector 104 Gurgaon', ' Sector 102 Gurgaon', ' Sector 109 Gurgaon', ' Sector 104 Gurgaon', 'Sector 83 Gurgaon', ' Sector 108 Gurgaon', 'Sector 62 Gurgaon', 'Sector 106 Gurgaon', 'Sector 106 Gurgaon', ' Sector 113 Gurgaon ', ' Sector 56 Gurgaon', ' Sector 103 Gurgaon', ' Sector 108 Gurgaon', ' Sector 67 Gurgaon', ' Sector 67 Gurgaon', ' Sector 109 Gurgaon', ' Sector 102 Gurgaon', ' Sector 111 Gurgaon', ' Sector 110 Gurgaon', ' Sector 104 Gurgaon', ' Sector 104 Gurgaon', ' Sector 106 Gurgaon', ' Sector 102 Gurgaon', ' Sector 108 Gurgaon', ' Sector 108 Gurgaon', ' Sector 108 Gurgaon', ' Sector 109 Gurgaon', ' Sector 104 Gurgaon', ' Sector 107 Gurgaon', 'Sector 107 Gurgaon', 'Sector 107 Gurgaon', 'Sector 107 Gurgaon', 'Sector 107 Gurgaon', 'Sector 108 Gurgaon', 'Sector 107 Gurgaon', 'Sector 102 Gurgaon', 'Sai Kunj', ' Sector 99A Gurgaon', 'Sector 67A Gurgaon', 'Sector 69 Gurgaon', ' Sector 82A Gurgaon', 'Sector 112 Gurgaon', ' Sector 103 Gurgaon', ' Sector 107 Gurgaon', ' Sector 107 Gurgaon', ' Sector 107 Gurgaon', ' Sector 88A Gurgaon', ' Sector 88A Gurgaon', 'Sector 103 Gurgaon', ' Sector 83 Gurgaon', ' Sector 83 Gurgaon', ' Sector 108 Gurgaon', 'Sector 102 Gurgaon', ' Sector 54 Gurgaon', ' Sector 69 Gurgaon', ' Sector 69 Gurgaon', 'Manesar', 'Sector 1 Gurgaon', ' Sector 60 Gurgaon', ' Sector 60 Gurgaon', 'Sector 77 Gurgaon', 'Sector 85 Gurgaon', 'Sector 84 Gurgaon', ' Sector 67 Gurgaon', ' Sector 67 Gurgaon', ' Sector 67 Gurgaon', ' DLF Phase 5', ' Sector 67 Gurgaon', ' Sector 92 Gurgaon', 'Sector 56 Gurgaon', ' Sector 43 Gurgaon', ' Sector 67 Gurgaon', ' sector 58 Gurgaon', ' Sector 74 Gurgaon', 'Sector 83 Gurgaon', 'Sector 112 Gurgaon', 'Sector 70A Gurgaon', ' Sector 48 Gurgaon', ' Sector 113 Gurgaon ', 'Sector 69 Gurgaon', ' Sector 81 Gurgaon', ' Sector 82A Gurgaon', ' Sector 81 Gurgaon', 'Sector 83 Gurgaon', 'Sector 84 Gurgaon', 'Sector 84 Gurgaon', 'Sector 53 Gurgaon', ' Sector 92 Gurgaon', ' Sector 92 Gurgaon', ' Sector 83 Gurgaon', ' Sector 65 Gurgaon', 'Sector 86 Gurgaon', ' Sector 65 Gurgaon', ' Sector 83 Gurgaon', ' Sector 37D Gurgaon', ' Sector 102 Gurgaon', ' Sector 102 Gurgaon', ' Nirvana Country', 'Sushant Lok Phase 1', 'Sector 99A Gurgaon', ' Sector 86 Gurgaon', ' Sector 86 Gurgaon', ' Sector 85 Gurgaon', ' Sector 85 Gurgaon', 'Sector 107 Gurgaon', ' Sector 110 Gurgaon', ' Sector 102 Gurgaon', ' Sector 111 Gurgaon', ' DLF Phase 4', ' Sector 66 Gurgaon', ' Sohna', ' Sohna', 'Sector 113 Gurgaon ', 'Sector 113 Gurgaon ', 'Sector 99A Gurgaon', 'Sector 99A Gurgaon', 'Sector 99A Gurgaon', ' Sector 113 Gurgaon ', ' Sector 113 Gurgaon ', ' Sector 113 Gurgaon ', ' Sector 109 Gurgaon', ' Sector 102 Gurgaon', ' Sector 102 Gurgaon', ' Sector 111 Gurgaon', ' Sector 113 Gurgaon ', ' Sector 108 Gurgaon', ' Sector 108 Gurgaon', ' Sector 107 Gurgaon', ' Sector 109 Gurgaon', ' Sector 109 Gurgaon', ' Sector 109 Gurgaon', ' Sector 109 Gurgaon', ' Sector 69 Gurgaon', ' Sector 69 Gurgaon', ' Sector 69 Gurgaon', ' Sector 69 Gurgaon', ' Sector 69 Gurgaon', 'Sector 69 Gurgaon', ' Sector 81 Gurgaon', ' Sector 81 Gurgaon', ' Sector 109 Gurgaon', ' Sector 109 Gurgaon', ' Sector 109 Gurgaon', 'Sector 65 Gurgaon', ' Sector 54 Gurgaon', 'Sector 74 Gurgaon', ' Sector 56 Gurgaon', ' Sector 54 Gurgaon', 'Sector 83 Gurgaon', ' Sector 65 Gurgaon', ' Sector 81 Gurgaon', ' Sector 83 Gurgaon', ' Sector 78 Gurgaon', ' Sector 83 Gurgaon', 'Sector 37D Gurgaon', 'Sector 74 Gurgaon', 'Sector 71 Gurgaon', 'Sector 71 Gurgaon', ' Sector 71 Gurgaon', 'Sector 71 Gurgaon', ' Sector 66 Gurgaon', ' Sector 86 Gurgaon', ' Sector 49 Gurgaon', 'Sector 1 Imt Manesar', ' Sector 54 Gurgaon', 'Sector 102 Gurgaon', 'Sector 102 Gurgaon', 'Sector 109 Gurgaon', ' Sector 110 A Gurgaon', ' Sector 110 A Gurgaon', ' Sector 67 Gurgaon', 'Sector 86 Gurgaon', ' Sector 82 Gurgaon', ' Sector 102 Gurgaon', ' Sector 102 Gurgaon', ' Sector 83 Gurgaon', ' Sector 103 Gurgaon', 'Palam Vihar', 'Palam Vihar', 'Sector 60 Gurgaon', 'Sector 61 Gurgaon', 'Sector 63 Gurgaon', 'Sector 108 Gurgaon', ' Sector 70A Gurgaon', 'Sector 82 Gurgaon', ' Sector 102 Gurgaon', ' DLF Phase 5', ' Sector 49 Gurgaon', ' Sector 54 Gurgaon', 'Palam Vihar', ' Sector 108 Gurgaon', ' Sector 49 Gurgaon', ' DLF Phase 5', ' Sector 56 Gurgaon', ' Sector 49 Gurgaon', 'Sector 56 Gurgaon', 'Sector 52 Gurgaon', ' Sector 109 Gurgaon', ' Sector 103 Gurgaon', ' Sector 109 Gurgaon', ' Sector 111 Gurgaon', ' Sector 104 Gurgaon', ' Sector 104 Gurgaon', ' Sector 104 Gurgaon', ' Sector 103 Gurgaon', ' Sector 56 Gurgaon', ' Sector 104 Gurgaon', ' Sector 102 Gurgaon', 'Sector 70A Gurgaon', ' Sector 70 Gurgaon', 'Sector 70 Gurgaon', 'Sector 85 Gurgaon', ' Sector 90 Gurgaon', 'Sector 67A Gurgaon', ' Sector 90 Gurgaon', ' Sector 85 Gurgaon', ' Sector 85 Gurgaon', ' Sector 85 Gurgaon', ' Sector 85 Gurgaon', ' Sector 81 Gurgaon', ' Sector 84 Gurgaon', ' Sector 82A Gurgaon', ' Sector 85 Gurgaon', ' Sector 90 Gurgaon', 'Sector 112 Gurgaon', ' Sector 90 Gurgaon', ' Sector 86 Gurgaon', ' Sector 83 Gurgaon', ' Sector 90 Gurgaon', ' Sector 91 Gurgaon', ' Sector 90 Gurgaon', ' Sector 81 Gurgaon', 'Sector 104 Gurgaon', ' Sector 106 Gurgaon', ' Sector 106 Gurgaon', ' Sector 99A Gurgaon', ' Sohna', ' Sohna', 'Sector 65 Gurgaon', ' Sector 81 Gurgaon', 'Sector 95 Gurgaon', ' Sector 107 Gurgaon', ' Sector 107 Gurgaon', 'Sector 104 Gurgaon', ' DLF Phase 5', ' Sector 107 Gurgaon', ' Sector 104 Gurgaon', ' Sector 107 Gurgaon', ' Sector 83 Gurgaon', ' Sector 108 Gurgaon', 'Sector 91 Gurgaon', 'Sector 91 Gurgaon', ' Nirvana Country', 'Sector 2 Gurgaon', 'DLF Phase 4', ' Sector 74 Gurgaon', 'Sector 37C Gurgaon', 'Sector 37C Gurgaon', 'Sector 68 Gurgaon', 'Sector 53 Gurgaon', 'Sector 62 Gurgaon', 'DLF Phase 5', 'Sector 54 Gurgaon', ' Sector 90 Gurgaon', 'Sector 109 Gurgaon', ' Sector 56 Gurgaon', ' Sector 102 Gurgaon', ' Sector 102 Gurgaon', ' Sector 102 Gurgaon', ' Sector 102 Gurgaon', ' Sector 103 Gurgaon', 'Sector 108 Gurgaon', 'Sector 106 Gurgaon', 'Sector 113 Gurgaon ', 'Sector 113 Gurgaon ', 'Sector 113 Gurgaon ', 'Sector 113 Gurgaon ', 'Sector 106 Gurgaon', 'Sector 106 Gurgaon', 'Sector 106 Gurgaon', 'Sector 106 Gurgaon', 'Sector 106 Gurgaon', 'Sector 106 Gurgaon', 'Sector 99A Gurgaon', 'Sector 99A Gurgaon', 'Sector 113 Gurgaon ', 'Sector 113 Gurgaon ', ' Sector 83 Gurgaon', 'Sector 79 Gurgaon', ' Sector 83 Gurgaon', 'Sector 79 Gurgaon', 'Sector 79 Gurgaon', ' Sector 83 Gurgaon', 'Sector 84 Gurgaon', 'Sector 85 Gurgaon', 'Sector 85 Gurgaon', 'Sector 85 Gurgaon', 'Sector 85 Gurgaon', 'Sector 79 Gurgaon', 'Sector 83 Gurgaon', 'Sector 83 Gurgaon', 'Sector 83 Gurgaon', 'Sector 84 Gurgaon', 'Sector 83 Gurgaon', 'Sector 83 Gurgaon', 'Sector 79 Gurgaon', 'Sector 79 Gurgaon', 'Sector 81 Gurgaon', 'Sector 49 Gurgaon', ' Sector 90 Gurgaon', 'Sector 91 Gurgaon', 'Sector 88A Gurgaon', 'Sector 88A Gurgaon', 'Sector 79 Gurgaon', 'Sector 88A Gurgaon', 'Sector 88A Gurgaon', 'Sector 66 Gurgaon', 'Sector 77 Gurgaon', ' Sector 107 Gurgaon', ' Sector 107 Gurgaon', ' Sector 109 Gurgaon', ' Sector 102 Gurgaon', ' Sector 111 Gurgaon', ' Sector 111 Gurgaon', ' Sector 109 Gurgaon', ' Sector 108 Gurgaon', 'Sector 112 Gurgaon', ' Sector 79 Gurgaon', ' Sector 72 Gurgaon', ' Sector 62 Gurgaon', 'Sector 85 Gurgaon', ' Sector 72 Gurgaon', ' Sector 72 Gurgaon', ' Sector 72 Gurgaon', ' Sector 113 Gurgaon ', ' Sector 48 Gurgaon', ' Sector 22 Gurgaon', ' Sector 22 Gurgaon', ' Sector 22 Gurgaon', ' Sector 22 Gurgaon', 'Sector 69 Gurgaon', ' Sector 22 Gurgaon', ' Sector 37C Gurgaon', ' Sector 37C Gurgaon', ' Sector 37C Gurgaon', 'Sector 102 Gurgaon', ' Nirvana Country', ' Sector 37D Gurgaon', ' Sector 37D Gurgaon', ' Sector 37D Gurgaon', 'Sector 109 Gurgaon', ' Sector 70A Gurgaon', 'Sector 107 Gurgaon', ' Sector 30 Gurgaon', ' DLF Phase 5', 'Sector 48 Gurgaon', ' Sector 70A Gurgaon', 'Sector 39 Gurgaon', ' Sector 83 Gurgaon', 'Sector 67A Gurgaon', ' Sector 70 Gurgaon', ' Sector 65 Gurgaon', ' Sector 65 Gurgaon', ' Sector 54 Gurgaon', ' Sector 83 Gurgaon', 'Sector 90 Gurgaon', 'Sector 81 Gurgaon', 'Sector 90 Gurgaon', 'Sector 85 Gurgaon', ' Sector 85 Gurgaon', ' Sector 85 Gurgaon', ' Sector 83 Gurgaon', ' Sector 65 Gurgaon', ' Sector 65 Gurgaon', ' Sector 65 Gurgaon', ' Sector 65 Gurgaon', ' Sector 65 Gurgaon', ' Sector 65 Gurgaon', ' Sector 65 Gurgaon', ' Sector 65 Gurgaon', ' Sector 65 Gurgaon', ' Sector 66 Gurgaon', 'Sector 77 Gurgaon', ' Gwal Pahari', ' Nirvana Country', ' Nirvana Country', 'Sector 83 Gurgaon', ' Nirvana Country', 'Sector 84 Gurgaon', 'Sector 83 Gurgaon', ' Nirvana Country', ' Nirvana Country', ' Sector 69 Gurgaon', ' Sector 69 Gurgaon', ' Sector 69 Gurgaon', ' Sector 69 Gurgaon', ' Sector 86 Gurgaon', 'Sector 83 Gurgaon', ' Sector 70A Gurgaon', ' Sector 82 Gurgaon', ' Sector 49 Gurgaon', 'Sector 104 Gurgaon', 'Sector 104 Gurgaon', 'Sector 104 Gurgaon', 'Sector 104 Gurgaon', 'Sector 66 Gurgaon', 'Sector 84 Gurgaon', 'Sector 107 Gurgaon', 'Sector 102 Gurgaon', 'Sector 60 Gurgaon', ' Gwal Pahari', 'Sector 113 Gurgaon ', ' Nirvana Country', 'Sector 82 Gurgaon', 'Sector 82 Gurgaon', ' Nirvana Country', 'Sector 82 Gurgaon', 'Sector 82 Gurgaon', 'Sector 82 Gurgaon', 'Sector 82 Gurgaon', 'Sector 85 Gurgaon', 'Sector 79 Gurgaon', 'Sector 85 Gurgaon', 'Sector 90 Gurgaon', 'Sector 84 Gurgaon', 'Sector 90 Gurgaon', 'Sector 83 Gurgaon', ' Sector 85 Gurgaon', ' Sector 69 Gurgaon', ' Sector 69 Gurgaon', ' Sector 69 Gurgaon', ' Sector 81 Gurgaon', ' Sector 90 Gurgaon', 'Sector 92 Gurgaon', 'Sector 77 Gurgaon', ' Sector 65 Gurgaon', ' Sector 90 Gurgaon', 'Sector 72 Gurgaon', ' Sohna', 'Sohna', 'Sector 85 Gurgaon', 'Sector 85 Gurgaon', ' Sector 69 Gurgaon', ' Sector 69 Gurgaon', ' Sector 69 Gurgaon', ' Sector 69 Gurgaon', ' Sector 69 Gurgaon', ' Sector 69 Gurgaon', ' Sector 69 Gurgaon', ' Sector 69 Gurgaon', ' Sector 69 Gurgaon', 'Sector 86 Gurgaon', 'Sector 86 Gurgaon', ' Sector 69 Gurgaon', ' Sector 69 Gurgaon', ' Sector 86 Gurgaon', ' Sector 107 Gurgaon', ' Sector 107 Gurgaon', 'Sector 72 Gurgaon', ' Sector 95 Gurgaon', ' Sector 92 Gurgaon', ' Sector 83 Gurgaon', ' Sector 83 Gurgaon', 'Sector 61 Gurgaon', 'Sector 107 Gurgaon', 'Sector 107 Gurgaon', 'Sector 107 Gurgaon', 'Sector 107 Gurgaon', 'Sector 103 Gurgaon', 'Sector 107 Gurgaon', 'Sector 107 Gurgaon', 'Sector 107 Gurgaon', 'Sector 107 Gurgaon', 'Sector 107 Gurgaon', 'Sector 65 Gurgaon', 'Sector 66 Gurgaon', ' Sector 65 Gurgaon', 'Sector 69 Gurgaon', ' Sector 90 Gurgaon', ' Sector 90 Gurgaon', ' Sector 90 Gurgaon', 'Sector 69 Gurgaon', 'Sector 69 Gurgaon', 'Sector 56 Gurgaon', 'Sector 70 Gurgaon', 'IMT Manesar', 'Sector 85 Gurgaon', 'Sector 91 Gurgaon', 'Sector 85 Gurgaon', 'Sector 102 Gurgaon', ' Sector 67 Gurgaon', ' Sector 67 Gurgaon', ' Sector 81 Gurgaon', ' Sector 70A Gurgaon', ' Sector 81 Gurgaon', 'Sector 77 Gurgaon', 'Sector 70 Gurgaon', ' Sector 70A Gurgaon', ' Sector 70A Gurgaon', ' Sector 70A Gurgaon', ' Sector 70A Gurgaon', ' Sector 70 Gurgaon', ' Sector 70 Gurgaon', ' Sector 81 Gurgaon', ' Sector 81 Gurgaon', ' Sector 81 Gurgaon', 'Sector 82 Gurgaon', ' Sector 62 Gurgaon', 'Sector 62 Gurgaon', 'Sector 62 Gurgaon', 'Sector 1 Imt Manesar', 'Sector 1 Imt Manesar', 'Sector 1 Imt Manesar', 'Sector 1 Imt Manesar', 'Sector 1 Imt Manesar', 'Sector 67 Gurgaon', ' Sector 71 Gurgaon', ' Sector 71 Gurgaon', ' Sector 71 Gurgaon', ' Sector 71 Gurgaon', 'Sector 107 Gurgaon', 'Sector 70 Gurgaon', 'Sector 90 Gurgaon', 'Sector 70 Gurgaon', 'Sector 70 Gurgaon', 'Sector 70 Gurgaon', 'Sector 70 Gurgaon', 'Sector 69 Gurgaon', 'Sector 69 Gurgaon', 'Gwal Pahari', 'Sector 99A Gurgaon', 'Sector 99A Gurgaon', ' Sector 102 Gurgaon', ' Sector 102 Gurgaon', 'Sector 106 Gurgaon', 'Sector 106 Gurgaon', 'Sector 106 Gurgaon', ' Sector 106 Gurgaon', 'Sector 106 Gurgaon', ' Sector 37D Gurgaon', ' Sector 37D Gurgaon', 'Sector 113 Gurgaon ', ' Sector 56 Gurgaon', 'Sector 111 Gurgaon', ' Sector 81 Gurgaon', ' Sector 81 Gurgaon', ' Sector 81 Gurgaon', 'Sector 37C Gurgaon', 'Sector 37C Gurgaon', 'Sector 37C Gurgaon', 'Sector 37C Gurgaon', 'Sector 37C Gurgaon', 'Sector 37C Gurgaon', 'Sector 37C Gurgaon', 'Sector 37C Gurgaon', 'Sector 37C Gurgaon', 'Sector 37C Gurgaon', 'Sector 37C Gurgaon', 'Sector 37C Gurgaon', 'Sector 37C Gurgaon', 'Sector 37D Gurgaon', 'Sector 37D Gurgaon', 'Sector 37D Gurgaon', 'Sector 37D Gurgaon', 'Sector 37D Gurgaon', 'Sector 37D Gurgaon', 'Sector 85 Gurgaon', 'Sector 85 Gurgaon', ' Sector 84 Gurgaon', ' Sector 84 Gurgaon', ' Sector 84 Gurgaon', ' Sector 84 Gurgaon', 'Sector 85 Gurgaon', 'Sector 49 Gurgaon', 'Sector 70 Gurgaon', 'Sector 70 Gurgaon', 'Sector 56 Gurgaon', ' Sector 56 Gurgaon', ' Sector 70A Gurgaon', ' Sector 70A Gurgaon', ' Sector 70A Gurgaon', ' Sector 70A Gurgaon', ' Sector 108 Gurgaon', 'Sector 62 Gurgaon', ' Sector 70A Gurgaon', ' Sector 70A Gurgaon', 'Sector 65 Gurgaon', 'Sector 65 Gurgaon', ' Sector 82A Gurgaon', ' Sector 77 Gurgaon', ' Sector 77 Gurgaon', 'Sector 70A Gurgaon', ' Sector 108 Gurgaon', ' Sector 108 Gurgaon', ' Sector 56 Gurgaon', ' Sector 56 Gurgaon', ' Sector 56 Gurgaon', ' Sector 52 Gurgaon', ' Sector 85 Gurgaon', ' Sector 65 Gurgaon', ' Sector 81 Gurgaon', ' Sector 83 Gurgaon', ' Sector 83 Gurgaon', ' Sector 83 Gurgaon', ' Sector 80 Gurgaon', ' Sector 80 Gurgaon', ' Sector 81 Gurgaon', 'sector 58 Gurgaon', 'Sector 54 Gurgaon', 'Sector 54 Gurgaon', 'MG Road', ' Sector 83 Gurgaon', ' Sector 81 Gurgaon', ' Sector 83 Gurgaon', ' Sector 80 Gurgaon', 'Sector 95 Gurgaon', 'Sector 95 Gurgaon', 'Sector 95 Gurgaon', 'Sector 95 Gurgaon', 'Sector 95 Gurgaon', 'Sector 95 Gurgaon', 'Sector 95 Gurgaon', ' Sector 71 Gurgaon', 'Sector 102 Gurgaon', ' Sector 103 Gurgaon', 'Sector 104 Gurgaon', ' Sector 111 Gurgaon', 'Sector 1 Imt Manesar', 'Sector 84 Gurgaon', ' Sector 54 Gurgaon', 'Sector 104 Gurgaon', ' Sector 59 Gurgaon', ' Sector 70 Gurgaon', ' Sector 74 Gurgaon', ' Sector 85 Gurgaon', ' Sector 85 Gurgaon', ' Sector 86 Gurgaon', ' Sector 90 Gurgaon', ' Sector 95 Gurgaon', ' Sector 95 Gurgaon', ' Sector 95 Gurgaon', ' Sector 95 Gurgaon', ' Sector 95 Gurgaon', ' Sector 95 Gurgaon', ' Sector 82 Gurgaon', ' Sector 84 Gurgaon', 'Sector 71 Gurgaon', ' Sector 92 Gurgaon', ' Sector 92 Gurgaon', ' Sector 92 Gurgaon', ' Sector 92 Gurgaon', ' Sector 102 Gurgaon', ' Sector 109 Gurgaon', 'Palam Vihar', 'Palam Vihar', 'Palam Vihar', 'Palam Vihar', 'Palam Vihar', 'Palam Vihar', 'Palam Vihar', ' Sector 102 Gurgaon', ' Sector 102 Gurgaon', ' Sector 102 Gurgaon', ' Sector 102 Gurgaon', ' Sector 106 Gurgaon', 'Sector 84 Gurgaon', 'Sector 102 Gurgaon', ' sector 58 Gurgaon', ' sector 58 Gurgaon', ' Sector 108 Gurgaon', ' Sector 108 Gurgaon', ' Sector 102 Gurgaon', 'Sector 92 Gurgaon', 'Sector 66 Gurgaon', 'sector 58 Gurgaon', ' Sector 112 Gurgaon', ' DLF Phase 4', 'Sector 65 Gurgaon', ' Sector 65 Gurgaon', ' Sector 65 Gurgaon', 'Sector 65 Gurgaon', 'Sector 65 Gurgaon', ' Sector 56 Gurgaon', ' Sector 56 Gurgaon', ' Sector 104 Gurgaon', ' Sector 108 Gurgaon', ' Sector 108 Gurgaon', ' Sector 102 Gurgaon', ' Sector 108 Gurgaon', 'Sector 48 Gurgaon', 'Sector 48 Gurgaon', ' Sector 48 Gurgaon', ' Sector 49 Gurgaon', ' Sector 60 Gurgaon', ' Sector 60 Gurgaon', ' Sector 67 Gurgaon', 'Sector 109 Gurgaon', ' Sector 83 Gurgaon', 'Sector 102 Gurgaon', 'Sector 102 Gurgaon', 'Sector 102 Gurgaon', 'Sector 102 Gurgaon', 'Sector 102 Gurgaon', ' Sector 86 Gurgaon', ' Sector 70 Gurgaon', ' Sector 85 Gurgaon', ' Sector 85 Gurgaon', ' Sector 70 Gurgaon', ' Sector 70 Gurgaon', ' Sector 70 Gurgaon', ' Sector 70 Gurgaon', 'Sector 109 Gurgaon', 'Sector 109 Gurgaon', 'Sector 109 Gurgaon', 'Sector 90 Gurgaon', ' Sector 86 Gurgaon', ' Sector 85 Gurgaon', ' Sector 85 Gurgaon', ' Sector 85 Gurgaon', ' Sector 82A Gurgaon', ' Sector 82A Gurgaon', ' Sector 90 Gurgaon', ' Sector 86 Gurgaon', ' Sector 86 Gurgaon', 'Sector 112 Gurgaon', ' Sector 81 Gurgaon', ' Sector 82A Gurgaon', ' Sector 86 Gurgaon', ' Sector 81 Gurgaon', ' Sector 81 Gurgaon', ' Sector 37C Gurgaon', ' Sector 37C Gurgaon', ' Sector 37D Gurgaon', ' Sector 37D Gurgaon', ' Sector 37D Gurgaon', ' Sector 37D Gurgaon', ' Sector 37D Gurgaon', ' Sector 37D Gurgaon', ' Sector 102 Gurgaon', 'Sector 103 Gurgaon', ' Sector 102 Gurgaon', ' Sohna', ' Sohna', ' Sohna', ' Sohna', ' Sohna', ' Sohna', ' Sohna', ' Sohna', ' Sohna', ' Sohna', ' Sohna', ' Sector 37C Gurgaon', ' Sector 37C Gurgaon', ' Sector 37C Gurgaon', ' Sohna', ' Sohna', ' Sohna', ' Sohna', ' Sohna', ' Sohna', ' Sohna', ' Sohna', 'Sector 111 Gurgaon', ' Sector 66 Gurgaon', ' Sector 90 Gurgaon', ' Sector 99A Gurgaon', ' Sector 72 Gurgaon', ' Sector 67 Gurgaon', ' Sector 72 Gurgaon', ' Sector 66 Gurgaon', ' Sector 66 Gurgaon', ' Sector 66 Gurgaon', ' Sector 74 Gurgaon', ' Sector 74 Gurgaon', ' Sector 81 Gurgaon', 'sector 58 Gurgaon', 'Sector 110 Gurgaon', 'Gwal Pahari', 'Sector 109 Gurgaon', 'Sector 110 Gurgaon', 'Sector 110 Gurgaon', 'Sector 110 Gurgaon', 'Sector 102 Gurgaon', ' Sector 67 Gurgaon', 'Sector 104 Gurgaon', ' Sector 104 Gurgaon', ' Sector 83 Gurgaon', ' Sector 79 Gurgaon', ' Sector 79 Gurgaon', ' Sector 79 Gurgaon', ' Sector 83 Gurgaon', ' Sector 83 Gurgaon', ' Sector 106 Gurgaon', 'Sector 69 Gurgaon', ' Sector 104 Gurgaon', ' Sector 79 Gurgaon', ' Sector 79 Gurgaon', ' Sector 79 Gurgaon', ' Sector 79 Gurgaon', ' Sector 79 Gurgaon', ' Sector 109 Gurgaon', ' Sector 66 Gurgaon', ' Sector 92 Gurgaon', 'Sector 90 Gurgaon', ' Sector 83 Gurgaon', ' Sector 83 Gurgaon', ' Sector 74 Gurgaon', 'Sector 53 Gurgaon', 'Sector 54 Gurgaon', 'Sector 54 Gurgaon', ' Sector 48 Gurgaon', ' Sector 48 Gurgaon', 'Sector 48 Gurgaon', 'Sector 49 Gurgaon', ' Sector 55 Gurgaon', ' Sector 56 Gurgaon', ' Sector 56 Gurgaon', ' Sector 56 Gurgaon', ' Sector 56 Gurgaon', ' Sector 56 Gurgaon', 'Sector 102 Gurgaon', 'Sector 109 Gurgaon', 'Sector 109 Gurgaon', 'Sector 102 Gurgaon', 'Sultanpur', ' Sector 109 Gurgaon', ' Sector 109 Gurgaon', 'Sector 85 Gurgaon', 'Sector 85 Gurgaon', 'Sector 85 Gurgaon', 'Sector 85 Gurgaon', 'Sector 85 Gurgaon', 'Sector 83 Gurgaon', 'Sector 85 Gurgaon', 'Sector 85 Gurgaon', 'Sector 85 Gurgaon', 'Sector 85 Gurgaon', 'Sector 85 Gurgaon', 'Sector 85 Gurgaon', 'Sector 85 Gurgaon', 'Sector 85 Gurgaon', 'Sector 85 Gurgaon', 'Sector 85 Gurgaon', 'Sector 49 Gurgaon', 'Sector 49 Gurgaon', 'Sector 49 Gurgaon', 'Sector 49 Gurgaon', 'Sector 49 Gurgaon', 'Sector 49 Gurgaon', ' Sector 79 Gurgaon', 'Sector 66 Gurgaon', ' Sector 59 Gurgaon', ' Sector 72 Gurgaon', ' Sector 93 Gurgaon', ' Sector 81 Gurgaon', 'Sector 81 Gurgaon', ' Sector 93 Gurgaon', ' Sector 83 Gurgaon', 'Sector 92 Gurgaon', ' Sector 92 Gurgaon', ' Sector 92 Gurgaon', ' Sector 81 Gurgaon', ' Sector 85 Gurgaon', ' Sector 81 Gurgaon', ' Sector 72 Gurgaon', ' Sector 70 Gurgaon', ' Sector 85 Gurgaon', ' Sector 85 Gurgaon', ' Sector 85 Gurgaon', ' Sector 85 Gurgaon', ' Sector 85 Gurgaon', ' Sector 85 Gurgaon', ' Sector 85 Gurgaon', ' Sector 85 Gurgaon', ' Sector 85 Gurgaon', ' Sector 85 Gurgaon', ' Sector 85 Gurgaon', ' Sector 70A Gurgaon', ' Sector 70 Gurgaon', 'Sector 104 Gurgaon', 'Sector 72 Gurgaon', ' Sector 68 Gurgaon', ' Sector 68 Gurgaon', ' Sector 68 Gurgaon', ' Sector 68 Gurgaon', ' Sector 68 Gurgaon', ' Sector 70A Gurgaon', 'Sector 85 Gurgaon', ' Sector 85 Gurgaon', ' Sector 70 Gurgaon', 'Sector 102 Gurgaon', 'Sector 107 Gurgaon', ' Sector 108 Gurgaon', ' Sector 108 Gurgaon', ' Sector 67A Gurgaon', ' Sector 67A Gurgaon', 'Sector 60 Gurgaon', ' Sector 85 Gurgaon', ' Sector 85 Gurgaon', 'Sector 112 Gurgaon', 'Sector 86 Gurgaon', ' Sector 102 Gurgaon', 'Sector 108 Gurgaon', ' Sector 107 Gurgaon', ' Sector 107 Gurgaon', ' Sector 107 Gurgaon', ' Sector 107 Gurgaon', 'Sushant Lok Phase 1', 'Sector 82 Gurgaon', ' Sector 82 Gurgaon', ' Sector 81 Gurgaon', ' Sector 81 Gurgaon', ' Sector 70 Gurgaon', ' Sector 70 Gurgaon', 'Sector 60 Gurgaon', 'Sector 70 Gurgaon', 'Sector 70 Gurgaon', 'Sector 49 Gurgaon', ' Suncity', ' Sector 56 Gurgaon', ' Sector 56 Gurgaon', 'Sector 53 Gurgaon', ' Sector 56 Gurgaon', ' Sector 67A Gurgaon', ' Sector 56 Gurgaon', ' Sector 67A Gurgaon', ' Sector 67A Gurgaon', ' Sector 56 Gurgaon', ' Sector 67A Gurgaon', ' Sector 67A Gurgaon', ' Sector 37D Gurgaon', 'Sector 70 Gurgaon', ' Sector 37D Gurgaon', 'Sector 37D Gurgaon', 'Sector 43 Gurgaon', ' Sector 47 Gurgaon', ' Sector 112 Gurgaon', 'Sector 77 Gurgaon', 'Sector 77 Gurgaon', 'MG Road', 'MG Road', 'Sector 50 Gurgaon', 'Sector 50 Gurgaon', 'Sector 50 Gurgaon', ' Sector 72 Gurgaon', 'Sector 72 Gurgaon', 'Sector 65 Gurgaon', 'Sector 65 Gurgaon', ' Sector 112 Gurgaon', 'Sector 72 Gurgaon', 'Sector 70A Gurgaon', ' Sector 72 Gurgaon', ' Sector 95 Gurgaon', 'Sector 112 Gurgaon', 'Sector 95 Gurgaon', ' Nirvana Country', ' Nirvana Country', ' Sector 68 Gurgaon', ' Sector 90 Gurgaon', ' Sector 92 Gurgaon', ' Sector 90 Gurgaon', ' Sector 65 Gurgaon', ' Sector 49 Gurgaon', ' Sector 49 Gurgaon', ' Sector 90 Gurgaon', ' Sector 90 Gurgaon', 'Sector 86 Gurgaon', ' Sector 90 Gurgaon', ' Sector 91 Gurgaon', ' Sector 111 Gurgaon', ' Sector 109 Gurgaon', ' Sector 104 Gurgaon', ' Sector 108 Gurgaon', ' Sector 103 Gurgaon', ' Sector 103 Gurgaon', 'Sector 102 Gurgaon', ' Sector 102 Gurgaon', ' Sector 102 Gurgaon', ' Sector 102 Gurgaon', 'Sector 86 Gurgaon', 'Sector 108 Gurgaon', 'Sector 70A Gurgaon', ' Sector 70A Gurgaon', ' Sector 90 Gurgaon', ' Sector 90 Gurgaon', ' Sector 90 Gurgaon', ' Sector 90 Gurgaon', ' Sector 49 Gurgaon', ' Sector 49 Gurgaon', ' Sector 102 Gurgaon', 'Sector 102 Gurgaon', 'Sector 90 Gurgaon', 'Sector 106 Gurgaon', ' Sector 71 Gurgaon', ' Sector 104 Gurgaon', ' Sector 111 Gurgaon', 'Sector 111 Gurgaon', ' Sector 112 Gurgaon', ' Sector 104 Gurgaon', ' Sector 102 Gurgaon', 'Sector 108 Gurgaon', ' Sector 102 Gurgaon', 'Sector 82 Gurgaon', ' Nirvana Country', 'Sector 82 Gurgaon', 'Sector 79 Gurgaon', 'Sector 79 Gurgaon', 'Sector 104 Gurgaon', 'Sector 104 Gurgaon', 'Sector 107 Gurgaon', 'Sector 102 Gurgaon', ' Sector 90 Gurgaon', ' Sector 79 Gurgaon', ' Sector 79 Gurgaon', ' Sector 69 Gurgaon', ' Sector 69 Gurgaon', 'Sector 69 Gurgaon', ' Sector 69 Gurgaon', 'Sector 69 Gurgaon', ' Sector 69 Gurgaon', 'Sector 69 Gurgaon', 'Sector 81 Gurgaon', 'Sector 81 Gurgaon', ' Sector 84 Gurgaon', 'Sector 86 Gurgaon', 'Sector 84 Gurgaon', ' Sector 84 Gurgaon', ' Sector 84 Gurgaon', ' Sector 69 Gurgaon', 'Sector 69 Gurgaon', ' Sector 69 Gurgaon', ' Sector 69 Gurgaon', 'Sector 69 Gurgaon', ' Sector 69 Gurgaon', ' Sector 69 Gurgaon', ' Sector 69 Gurgaon', ' Sector 69 Gurgaon', ' Sector 69 Gurgaon', ' Sector 84 Gurgaon', ' Sector 84 Gurgaon', ' Sector 84 Gurgaon', ' Sector 90 Gurgaon', ' Sector 92 Gurgaon', ' Sector 92 Gurgaon', 'Sector 82 Gurgaon', 'Sector 86 Gurgaon', ' Sector 81 Gurgaon', ' Sector 90 Gurgaon', ' Sector 81 Gurgaon', ' Sector 90 Gurgaon', ' Sector 84 Gurgaon', ' Sector 84 Gurgaon', ' Sector 84 Gurgaon', 'Sector 90 Gurgaon', ' Sector 90 Gurgaon', ' Sector 90 Gurgaon', ' Sector 81 Gurgaon', ' Sector 70A Gurgaon', 'Sector-33 Sohna', 'Sector-33 Sohna', 'Sector 90 Gurgaon', 'Sector 90 Gurgaon', 'Sector 79 Gurgaon', ' Sector 79 Gurgaon', 'Sector 69 Gurgaon', 'Sector 69 Gurgaon', 'Sector 70 Gurgaon', 'Sector 69 Gurgaon', ' Sector 69 Gurgaon', 'Sector 69 Gurgaon', 'Sector 69 Gurgaon', 'Sector 69 Gurgaon', 'Sector 69 Gurgaon', 'Sector 69 Gurgaon', 'Sector 69 Gurgaon', 'Sector 69 Gurgaon', 'Sector 69 Gurgaon', 'Sector 69 Gurgaon', 'Sector 69 Gurgaon', ' Sector 69 Gurgaon', 'Sector 81 Gurgaon', ' Sector 69 Gurgaon', ' Sector 69 Gurgaon', ' Sector 69 Gurgaon', ' Sector 83 Gurgaon', ' Sector 83 Gurgaon', ' Sector 77 Gurgaon', ' Sector 81 Gurgaon', ' Sector 84 Gurgaon', ' Sector 84 Gurgaon', 'Sector 79 Gurgaon', 'Sector 84 Gurgaon', ' Sector 86 Gurgaon', ' Sector 90 Gurgaon', ' Sector 90 Gurgaon', ' Sector 90 Gurgaon', 'Sector 86 Gurgaon', ' Sector 84 Gurgaon', ' Sector 84 Gurgaon', ' Sector 82 Gurgaon', 'Sector 108 Gurgaon', ' Sector 69 Gurgaon', ' Sector 69 Gurgaon', ' Sector 69 Gurgaon', ' Sector 69 Gurgaon', ' Sector 69 Gurgaon', ' Sector 69 Gurgaon', ' Sector 37D Gurgaon', 'Sector 79 Gurgaon', ' Sector 86 Gurgaon', ' Sector 92 Gurgaon', ' Sector 86 Gurgaon', ' Sector 92 Gurgaon', ' Sector 81 Gurgaon', 'Sector 86 Gurgaon', ' Sector 86 Gurgaon', 'Sector 48 Gurgaon', ' Sector 106 Gurgaon', 'Sector 99A Gurgaon', ' Sector 92 Gurgaon', ' Sector 90 Gurgaon', 'Sector 90 Gurgaon', 'Sector 37D Gurgaon', 'Sector 37D Gurgaon', 'Sector 37D Gurgaon', ' Sector 102 Gurgaon', 'Sector 81 Gurgaon', ' Sector 92 Gurgaon', ' Sector 85 Gurgaon', 'Sector 67 Gurgaon', ' Sector 86 Gurgaon', 'sector 58 Gurgaon', ' Sector 106 Gurgaon', ' Sector 106 Gurgaon', ' Sector 88B Gurgaon', ' Sector 106 Gurgaon', ' Sector 106 Gurgaon', ' Sector 49 Gurgaon', ' Sector 49 Gurgaon', ' Sector 66 Gurgaon', ' Sector 66 Gurgaon', ' Sector 48 Gurgaon', ' Sector 108 Gurgaon', 'Sector 108 Gurgaon', ' Sector 104 Gurgaon', ' Sector 104 Gurgaon', ' Sector 104 Gurgaon', ' Sector 104 Gurgaon', ' Sector 107 Gurgaon', 'Sector 109 Gurgaon', ' Sector 109 Gurgaon', 'Sector 67A Gurgaon', ' Sector 90 Gurgaon', ' Sector 90 Gurgaon', ' Sector 90 Gurgaon', ' Sector 90 Gurgaon', ' Sector 90 Gurgaon', ' Sector 90 Gurgaon', 'Sector 1 Imt Manesar', 'Manesar', 'Sector 1 Gurgaon', ' Sector 65 Gurgaon', 'Sector 65 Gurgaon', 'Sector 65 Gurgaon', 'Sector 65 Gurgaon', 'Sector 65 Gurgaon', 'Sector 65 Gurgaon', ' Nirvana Country', ' Sector 33 Gurgaon', ' Nirvana Country', ' Sector 67 Gurgaon', ' Nirvana Country', 'Sector 85 Gurgaon', ' Sector 85 Gurgaon', ' Sector 66 Gurgaon', ' Sector 66 Gurgaon', ' Sector 82 Gurgaon', ' Sector 79 Gurgaon', ' Sector 79 Gurgaon', ' Sector 81 Gurgaon', ' Sector 81 Gurgaon', ' Sector 81 Gurgaon', ' Sector 103 Gurgaon', ' Sector 108 Gurgaon', ' Sector 102 Gurgaon', 'Sector 82A Gurgaon', ' Sector 102 Gurgaon', 'Sector 62 Gurgaon', ' Sector 62 Gurgaon', ' Sector-33 Sohna', 'Sector 109 Gurgaon', 'Sector 106 Gurgaon', 'Sector 99A Gurgaon', ' Sector 106 Gurgaon', 'Sector 113 Gurgaon ', 'Sector 113 Gurgaon ', ' Sector 113 Gurgaon ', 'Sector 113 Gurgaon ', 'Sector 113 Gurgaon ', ' Sector 102 Gurgaon', ' Sector 102 Gurgaon', ' Sector 102 Gurgaon', ' Sector 102 Gurgaon', ' Sector 102 Gurgaon', ' Sector 102 Gurgaon', ' Sector 102 Gurgaon', ' Sector 109 Gurgaon', ' Sector 109 Gurgaon', ' Sector 107 Gurgaon', ' Sector 83 Gurgaon', 'Sector 79 Gurgaon', 'Sector 23A Gurgaon', 'Sohna', 'Sector 51 Gurgaon', 'Sohna', 'Sector 81 Gurgaon', 'Sector 48 Gurgaon', 'Sector 37D Gurgaon', 'Sector 36A Gurgaon', 'Sector 83 Gurgaon', 'Sector 49 Gurgaon', 'Sector 91 Gurgaon', 'Sector 56 Gurgaon', ' Sector 71 Gurgaon', 'Sector 111 Gurgaon', 'Sector 65 Gurgaon', 'Sector 52 Gurgaon', 'Sector 103 Gurgaon', 'Sector 103 Gurgaon', 'Sector 92 Gurgaon', 'Sector 99A Gurgaon', 'Sector 90 Gurgaon', 'Sohna', 'Sector 66 Gurgaon', 'Sector 86 Gurgaon', ' Sohna', 'Sector 92 Gurgaon', 'Sector 85 Gurgaon', 'Sector 49 Gurgaon', 'Sector 54 Gurgaon', ' Sector 113 Gurgaon ', 'Sector 37D Gurgaon', 'Sector-33 Sohna', 'Sector-33 Sohna', 'Sector 77 Gurgaon', 'Sector 91 Gurgaon', 'Sector 102 Gurgaon', 'Sector 52 Gurgaon', 'Sector 95 Gurgaon', 'Sector 67 Gurgaon', ' Civil Lines', 'Sector 84 Gurgaon', ' Sohna', 'Sohna', 'Sector 88A Gurgaon', ' Sector 92 Gurgaon', 'Sector 91 Gurgaon', 'Sector 86 Gurgaon', 'Sector 28 Gurgaon', 'Sector 89 Gurgaon', 'Sector 43 Gurgaon', 'Sector 77 Gurgaon', 'Sector 81 Gurgaon', 'Sector 79 Gurgaon', 'Sector 76 Gurgaon', 'Sector 92 Gurgaon', 'Sector 68 Gurgaon', 'Sector 89 Gurgaon', 'Sector 57 Gurgaon', 'Sector 95 Gurgaon', 'Sector 95 Gurgaon', ' Sector 7', 'Sector 104 Gurgaon', 'Sector 70 Gurgaon', 'Sector 102 Gurgaon', 'Sector 62 Gurgaon', 'Sector 37C Gurgaon', ' Sector 107 Gurgaon', 'Sector 95A Gurgaon', 'Sector 92 Gurgaon', 'Sector 37D Gurgaon', ' Sector 92 Gurgaon', 'Sector 37C Gurgaon', ' Sector 86 Gurgaon', 'Sector 65 Gurgaon', ' Sector 31 Gurgaon', 'Sohna', 'Sector 66 Gurgaon', 'Sohna', 'Sector 102 Gurgaon', ' Sector 99A Gurgaon', 'Sector 9A Gurgaon', 'Sector 70A Gurgaon', 'Sector 112 Gurgaon', 'Sector 99 Gurgaon', 'Sector 3 Gurgaon', 'Sohna', 'Sohna', 'Sector 67 Gurgaon', 'Sector 31 Gurgaon', 'Sector 91 Gurgaon', ' Sector 86 Gurgaon', ' Sector 109 Gurgaon', ' Lajpat Nagar', 'Sohna', 'Sector 63 Gurgaon', 'Sector 48 Gurgaon', 'Sector 70 Gurgaon', ' Sector 48 Gurgaon', 'Sector 108 Gurgaon', 'Sector 63A Gurgaon', 'Sohna', 'Sector-33 Sohna', 'Sector-33 Sohna', 'Sector 91 Gurgaon', ' Sector 99A Gurgaon', 'Sector 37D Gurgaon', ' Sector 108 Gurgaon', 'Sohna', ' Nirvana Country', 'Sohna', 'Sector 89 A Gurgaon', 'Sector 63A Gurgaon', 'Sector 95 Gurgaon', 'Sector 51 Gurgaon', 'Sector 92 Gurgaon', 'Sector 92 Gurgaon', 'Sohna', 'Sector 102 Gurgaon', ' Sector 95A Gurgaon', 'Sector 92 Gurgaon', ' Sector 2 Gurgaon', 'Sector 1 Imt Manesar', 'Sector 81 Gurgaon', ' Sector 113 Gurgaon ', ' Sector 69 Gurgaon', ' Sector 108 Gurgaon', 'Sector 92 Gurgaon', 'Sector 70A Gurgaon', 'Sector 95A Gurgaon', ' Sector 107 Gurgaon', 'Sector 69 Gurgaon', 'Sector 71 Gurgaon', ' Sector-33 Sohna', 'Sector 7 Gurgaon', ' Sector 23A Gurgaon', ' Sector 63A Gurgaon', 'Sector 63A Gurgaon', 'Sector 51 Gurgaon', 'Sector 83 Gurgaon', ' Sector 73 Gurgaon', ' Sector 67A Gurgaon', 'New Gurgaon', 'Sector 89 A Gurgaon', ' Sector 70 Gurgaon', ' Sector 53 Gurgaon', 'Sector-33 Sohna', ' Sector 37C Gurgaon', ' DLF Phase 5', ' Sector 70A Gurgaon', ' Sector 71 Gurgaon', 'Sector-33 Sohna', ' Sector 86 Gurgaon', 'Sector 90 Gurgaon', 'Sector 108 Gurgaon', ' Sohna', 'Sector 92 Gurgaon', 'Sector 113 Gurgaon ', 'Sector 89 A Gurgaon', 'Sector 36A Gurgaon', ' Sector 63 Gurgaon', 'Sector 113 Gurgaon ', 'Sector-33 Sohna', 'Sector 69 Gurgaon', 'Sector 70 Gurgaon', 'Sector 81 Gurgaon', 'Chakkarpur', 'Sector 89 Gurgaon', ' Sector 70A Gurgaon', 'Sector 70A Gurgaon', 'Sector 106 Gurgaon', 'Sector 37D Gurgaon', 'Sector 68 Gurgaon', ' Sector 52 Gurgaon', ' Sohna', ' Sector 93 Gurgaon', ' Sohna', ' Sector 65 Gurgaon', 'Sector 63 Gurgaon', ' Sector 82 Gurgaon', ' Sector 69 Gurgaon', 'Sector 65 Gurgaon', ' Sector 88A Gurgaon', ' Sector 74 Gurgaon', ' Sohna', 'Sohna', 'Sohna', ' Sector 11 Gurgaon', ' Sector 104 Gurgaon', ' Sector 103 Gurgaon', 'Sector 37D Gurgaon', 'Sector 37D Gurgaon', 'Sector 69 Gurgaon', ' Sohna', 'Sohna', ' Sector 71 Gurgaon', ' Sector 92 Gurgaon', ' Sector 63A Gurgaon', 'Sector 51 Gurgaon', ' Sector-33 Sohna', 'Sector 92 Gurgaon', 'Sector 92 Gurgaon', 'Sector-33 Sohna', 'Sector 88A Gurgaon', ' Sector 92 Gurgaon', ' Sector 32 Gurgaon', 'Sector 79 Gurgaon', 'Sector 104 Gurgaon', 'Sector 68 Gurgaon', 'Sector 103 Gurgaon', 'Sector 92 Gurgaon', 'Sector 1A IMT Manesar', 'Sector 107 Gurgaon', 'Sector 104 Gurgaon', ' Sector 81 Gurgaon', 'Sohna', 'Gwal Pahari', 'Sector 95 Gurgaon', 'Sector 70 Gurgaon', 'Sector 65 Gurgaon', ' Sector 61 Gurgaon', 'Sector 10A Gurgaon', ' Sector 83 Gurgaon', 'Sector 61 Gurgaon', 'Sector 79 Gurgaon', 'Sector 85 Gurgaon', ' DLF Phase 2', ' Sector 70A Gurgaon', ' Surya Vihar', 'Near Pataudi Chowk', 'Sector 79 Gurgaon', ' Sector 50 Gurgaon', 'Sector 37D Gurgaon', 'Sector 63 Gurgaon', 'DLF Phase 5', 'Gwal Pahari', 'Sector 92 Gurgaon', ' Sector 84 Gurgaon', ' Sohna', 'Sector 59 Gurgaon', 'Sector 92 Gurgaon', ' Sector 85 Gurgaon', 'Sector 67A Gurgaon', 'Sector 104 Gurgaon', ' Sohna', ' Sector 79 Gurgaon', ' Sector 3 Gurgaon', ' Sector 89 Gurgaon', ' Sector 103 Gurgaon', 'Sohna', 'Sector 102 Gurgaon', ' Cyber City', ' Sector 81 Gurgaon', ' Sector 79 Gurgaon', ' Sohna', ' Sector 86 Gurgaon', ' Sector 32 Gurgaon', ' Sector 77 Gurgaon', ' Sector 85 Gurgaon', 'Sector 68 Gurgaon', ' Sector 81 Gurgaon', 'New Colony', 'Sector 67A Gurgaon', 'Sector 9A Gurgaon', 'Sector 36A Gurgaon', ' Sector 89 Gurgaon', ' Sector 103 Gurgaon', ' Sector-33 Sohna', 'Sector 51 Gurgaon', 'Sector 99 Gurgaon', 'Sector 84 Gurgaon', ' Subhash Nagar', ' Sector 68 Gurgaon', 'Sector 103 Gurgaon', 'Sector 56 Gurgaon', 'Sector 53 Gurgaon', 'Sector 66 Gurgaon', 'Sector 37C Gurgaon', 'Sector 86 Gurgaon', ' Sector 81 Gurgaon', ' Sector 93 Gurgaon', ' Sector 68 Gurgaon', ' Sector 65 Gurgaon', ' Sector 82 Gurgaon', ' Sohna', ' Sector 106 Gurgaon', ' Sector 48 Gurgaon', 'Sector 70 Gurgaon', 'Sector 89 A Gurgaon', 'Sector 70A Gurgaon', ' Sector 110 Gurgaon', 'Sector 69 Gurgaon', 'Sector 92 Gurgaon', ' Sector 89 Gurgaon', 'Sector 63 Gurgaon', 'Sector 61 Gurgaon', 'Sector 92 Gurgaon', ' Sector 72 Gurgaon', ' Sohna', 'Sohna', 'Sector 69 Gurgaon', 'Sector 37D Gurgaon', 'Sector 72 Gurgaon', 'Sector 48 Gurgaon', 'ats marigold', 'Sector 111 Gurgaon', 'Sohna', 'Laxman Vihar', ' Sohna', ' Sector 63 Gurgaon', 'Gwal Pahari', ' Sector 48 Gurgaon', ' Sector 70 Gurgaon', 'Sector 1 Imt Manesar', 'Sector 91 Gurgaon', 'IMT Manesar', 'Sector 89 Gurgaon', 'Sector 83 Gurgaon', 'Malibu Town', ' Sector 68 Gurgaon', 'Sector 89 Gurgaon', 'Sector 69 Gurgaon', 'Sector 15 Gurgaon', ' Sector 89 Gurgaon', ' Palam Vihar', ' Sector 36A Gurgaon', 'Sector 71 Gurgaon', 'Sector 61 Gurgaon', ' Sector 74 Gurgaon', ' Sector-2 Sohna', 'Sector 83 Gurgaon', ' Sector 66 Gurgaon', ' Sector 71 Gurgaon', 'Sector 108 Gurgaon', ' Sohna', ' Sector 95 Gurgaon', 'Sector 109 Gurgaon', ' Sector 37C Gurgaon', ' Sector 37D Gurgaon', 'Sector 61 Gurgaon', 'Sohna', 'Sohna', ' Sector 106 Gurgaon', 'Sector 78 Gurgaon', ' Sector 89 Gurgaon', 'Sector 36 Sohna', 'Sohna', 'Sector 108 Gurgaon', ' Sohna', 'Sector 89 Gurgaon', 'Sector 95 Gurgaon', 'Sohna', ' Sector 36A Gurgaon', ' Sector 72 Gurgaon', 'Sector 79 Gurgaon', 'Sohna', ' Adarsh Nagar', 'Sohna', ' Sohna', ' Sector 37C Gurgaon', 'Sector 37C Gurgaon', ' Sector 63 Gurgaon', 'Sector 76 Gurgaon', ' Sector 37A Gurgaon', 'Sector 89 A Gurgaon', ' Sector 104 Gurgaon', 'Sector 79 Gurgaon', 'Sector-33 Sohna', 'Sector 59 Gurgaon', ' Sector 92 Gurgaon', 'Sector 66 Gurgaon', ' Sohna', 'Sector 79 Gurgaon', 'Sector 111 Gurgaon', ' Sohna', ' Sector 89 Gurgaon', 'Sector 36A Gurgaon', ' Sector 95 Gurgaon', ' Sector 95 Gurgaon', 'Sector 89 Gurgaon', ' Sector 68 Gurgaon', 'Sector-33 Sohna', 'Sector 45 Gurgaon', 'Sector 76 Gurgaon', ' Sector 79 Gurgaon', 'Sector 86 Gurgaon', 'Sector 95 Gurgaon', 'Sector 81 Gurgaon', ' Sohna', ' Sector 102 Gurgaon', 'Sector 81 Gurgaon', 'Sector 68 Gurgaon', ' Sohna', 'Sector 61 Gurgaon', 'Sushant Lok Phase 3', ' Sector 90 Gurgaon', 'Sector 65 Gurgaon', ' Sohna', 'Sector 92 Gurgaon', ' Sector 90 Gurgaon', ' Sector 37D Gurgaon', ' Carterpuri Village', ' Sector 107 Gurgaon', ' Sector 102 Gurgaon', ' Sector 11 Gurgaon', ' Gwal Pahari', ' Sohna', 'Sector 37C Gurgaon', 'Sector 95 Gurgaon', 'Sector 79 Gurgaon', 'Sector 31 Gurgaon', 'Sector-33 Sohna', 'Sector 68 Gurgaon', 'Valley View Estate', 'Sector 79 Gurgaon', 'Sector 61 Gurgaon', 'Sector 108 Gurgaon', ' Sohna', ' Shanti Nagar', ' Sushant Lok', ' Sector 68 Gurgaon', 'Sector 63 Gurgaon', 'Sector 89 Gurgaon', ' Sector-33 Sohna', 'Sector 65 Gurgaon', ' Sector 89 Gurgaon', 'Sector 56 Gurgaon', ' Mehrauli Gurgaon Road', 'Sector 111 Gurgaon', 'Laxman Vihar Phase 2', ' Sector 104 Gurgaon', ' Sector 95 Gurgaon', 'Sector 107 Gurgaon', 'Sector 36A Gurgaon', 'Sector 79 Gurgaon', ' Sector 95A Gurgaon', ' Sector 107 Gurgaon', ' Sector 107 Gurgaon', 'Sector 22 Gurgaon', 'Sector 22 Gurgaon', 'Sector-5 Sohna', ' Sohna', 'Sector 89 Gurgaon', 'Sector 61 Gurgaon', 'Sector 89 Gurgaon', 'Sector 77 Gurgaon', 'Sector 70A Gurgaon', ' Gurgaon Faridabad Road', ' Sector 63A Gurgaon', ' Sector 107 Gurgaon', 'Sector 70A Gurgaon', 'Sector 81 Gurgaon', ' Sector 65 Gurgaon', ' Sector 63 Gurgaon', 'Sector 37C Gurgaon', ' Sector 95 Gurgaon', 'Sector 36 Gurgaon', 'Sohna', 'Sector 37D Gurgaon', 'Sector 65 Gurgaon', ' Sector 89 Gurgaon', ' Sector 5 chowk Gurgaon', ' Sector 53 Gurgaon', ' Sector 89 Gurgaon', ' Sector 76 Gurgaon', 'Sector 85 Gurgaon', ' Sector 86 Gurgaon', ' Sohna', 'Sohna', ' Manesar', 'Sector 84 Gurgaon', 'Sector 56 Gurgaon', 'Sector 89 Gurgaon', ' Sector 107 Gurgaon', ' opp sector-14', 'Sector 107 Gurgaon', ' Sector 36 Sohna', 'Sector 85 Gurgaon', ' Sector 47 Gurgaon', 'Sector 61 Gurgaon', ' Sector 30 Gurgaon', ' Sector 79 Gurgaon', 'Sector 36 Sohna', 'Sector 49 Gurgaon', 'Sector 79 Gurgaon', ' Sector 70 Gurgaon', 'Sector 88A Gurgaon', 'Sector 79 Gurgaon', 'Sector 92 Gurgaon', 'Sector 69 Gurgaon', 'Sector 63A Gurgaon', 'Sector 48 Gurgaon', 'Sector 76 Gurgaon', 'Sector 61 Gurgaon', 'Sector 21 Gurgaon', ' Sector 85 Gurgaon', 'Sohna', ' Sector 56 Gurgaon', 'Sector 79 Gurgaon', ' Sector 86 Gurgaon', ' Sohna', 'Sector 56 Gurgaon', 'Sector 5 Gurgaon', 'Sector 86 Gurgaon', 'Sector 86 Gurgaon', 'Sector-33 Sohna', 'Sector 70 Gurgaon', ' Sector 109 Gurgaon', 'Sector 89 Gurgaon', ' Sohna', ' Sector 103 Gurgaon', 'Chakkarpur', 'Sector 37C Gurgaon', 'Sector 84 Gurgaon', 'Sector 61 Gurgaon', ' Sushant Lok', ' Sohna', ' Sector 76 Gurgaon', ' Sector 106 Gurgaon', 'Sector 89 A Gurgaon', 'Sector 89 A Gurgaon', ' Sector 92 Gurgaon', ' Sector 90 Gurgaon', ' Sector 82A Gurgaon', ' Sector-33 Sohna', ' Sector 89 Gurgaon', ' Sector 82 Gurgaon', ' Sector-33 Sohna', ' Sector 92 Gurgaon', ' Sector 52 Gurgaon', ' Sector 88A Gurgaon', ' Sector 85 Gurgaon', 'Sector 89 Gurgaon', ' Dayanand Colony', ' Sector 67A Gurgaon', ' Sector 37C Gurgaon', 'Sohna', 'Sector 86 Gurgaon', 'Sector 104 Gurgaon', ' Sector-33 Sohna', 'Sohna', ' Sector 84 Gurgaon', ' Sector 52 Gurgaon', ' Sector 92 Gurgaon', ' Sector 85 Gurgaon', ' Sector 84 Gurgaon', 'Sector 92 Gurgaon', 'Sohna', ' Sector 10A Gurgaon', ' Sector 88B Gurgaon', ' Sector 92 Gurgaon', ' Sector 63 Gurgaon', 'Sohna', ' Samaspur', ' Sector 89 Gurgaon', ' Sector 107 Gurgaon', 'Sector 89 Gurgaon', 'Sector 99A Gurgaon', ' Nirvana country Pocket H', 'Sector 92 Gurgaon', ' IFFCO Chowk', ' Sector 109 Gurgaon', 'Sector 67A Gurgaon', 'Sector-33 Sohna', 'Sector 77 Gurgaon', 'Sector 89 A Gurgaon', ' Sector 95 Gurgaon', 'Sector 92 Gurgaon', ' Sector 76 Gurgaon', 'Sector 63A Gurgaon', ' Sector 88A Gurgaon', 'Sector 103 Gurgaon', 'Sector 104 Gurgaon', 'Sector 61 Gurgaon', 'Sector 92 Gurgaon', 'Sector 95 Gurgaon', ' Sector-33 Sohna', ' Ashok Vihar Phase 2', 'Patel Nagar', 'Sector 81 Gurgaon', ' Sector 107 Gurgaon', 'Sector 36A Gurgaon', 'Sector 113 Gurgaon ', 'Sohna', ' Sector 78 Gurgaon', 'Sector 92 Gurgaon', ' Sector 81 Gurgaon', ' Sector 93 Gurgaon', ' Sector 76 Gurgaon', ' Sector 89 Gurgaon', 'Sector 37D Gurgaon', ' DLF Phase 5', 'Sector 61 Gurgaon', 'Gwal Pahari', ' Mehrauli Gurgaon Road', ' Sector 102 Gurgaon', ' Sector 36A Gurgaon', 'Sector 63A Gurgaon', ' Sector 104 Gurgaon', ' Sector 37D Gurgaon', 'Sector 111 Gurgaon', 'Surat Nagar 1', 'Sector 92 Gurgaon', ' Sector 48 Gurgaon', ' Sector 70 Gurgaon', 'Chakkarpur', ' Sector 39 Gurgaon', ' Sector 102 Gurgaon', ' Sector 102 Gurgaon', ' Sector 95 Gurgaon', ' Sispal Vihar', 'Sector 88A Gurgaon', ' Sector 1 Gurgaon', ' Sector 33 Gurgaon', 'Sector 65 Gurgaon', 'Sector 37D Gurgaon', 'Golf Course Ext Road ', ' Sector 61 Gurgaon', ' Sector 102 Gurgaon', ' Sector-33 Sohna', 'Shankar Vihar', 'Sector 61 Gurgaon', ' Sohna', 'Sushant Lok Phase 1', ' Sector 99 Gurgaon', ' Sector 79 Gurgaon', ' Sector 85 Gurgaon', 'Sector 63A Gurgaon', 'Sector 95A Gurgaon', 'Sector 1A IMT Manesar', ' Sector 89 Gurgaon', 'Sector 104 Gurgaon', 'Sohna', 'Sector 99 Gurgaon', 'Sohna', 'Sector 86 Gurgaon', ' Sector 99 Gurgaon', 'Sector 93 Gurgaon', ' Sector 89 Gurgaon', 'Sector 59 Gurgaon', 'Sector 107 Gurgaon', 'Sector 93 Gurgaon', 'Sector 69 Gurgaon', ' New Palam Vihar Phase 2', ' Sector-11 sohna', 'Sector 79 Gurgaon', 'Sector 82A Gurgaon', 'DLF Phase 4', 'Sector 37D Gurgaon', 'Sector-33 Sohna', ' Sohna', 'Sector 104 Gurgaon', 'Sohna', ' Sohna', ' Sector 67 Gurgaon', ' Sector 74 Gurgaon', ' Sector 65 Gurgaon', ' Sohna', 'Sector 81 Gurgaon', ' Sector 61 Gurgaon', ' Sector 24 Gurgaon', ' Sector 86 Gurgaon', ' Sector 37D Gurgaon', 'Sector 89 Gurgaon', 'Sector 90 Gurgaon', ' Adarsh Nagar', 'Sector 79 Gurgaon', 'Sector 78 Gurgaon', ' Sector 37C Gurgaon', 'Sector 36 Sohna', 'Sector 109 Gurgaon', ' Sector 12 Gurgaon', ' Sector-33 Sohna', ' Sector 99 Gurgaon', ' Mehrauli Gurgaon Road', ' Mehrauli Gurgaon Road', 'Sector 70 Gurgaon', ' Sector 84 Gurgaon', 'Sector 55 Gurgaon', ' Sector 10A Gurgaon', ' Sector 92 Gurgaon', ' Sector 63 Gurgaon', 'Sohna', ' Samaspur', ' Sector 89 Gurgaon', ' Sector 107 Gurgaon', 'Sector 89 Gurgaon', 'Sector 99A Gurgaon', 'Sector 92 Gurgaon', ' Sector 92 Gurgaon', ' Sector 109 Gurgaon', 'Sector 67A Gurgaon', 'Sector 77 Gurgaon', ' Sector 95 Gurgaon', 'Sector 63A Gurgaon', ' Sector 88A Gurgaon', 'Sector 103 Gurgaon', 'Sector 92 Gurgaon', 'Sector 95 Gurgaon', ' Sector-33 Sohna', ' Ashok Vihar Phase 2', 'Sector 81 Gurgaon', 'Sector 36A Gurgaon', 'Sohna', ' Sector 78 Gurgaon', ' Sector 112 Gurgaon', 'Sector 92 Gurgaon', ' Sector 81 Gurgaon', ' Sector 93 Gurgaon', ' Sector 89 Gurgaon', ' DLF Phase 5', ' Mehrauli Gurgaon Road', ' Sector 102 Gurgaon', ' Sector 36A Gurgaon', 'Sector 63A Gurgaon', ' Sector 104 Gurgaon', ' Sector 37D Gurgaon', 'Surat Nagar 1', 'Sector 89 Gurgaon', 'Sector 92 Gurgaon', ' Sector 48 Gurgaon', ' Sector 70 Gurgaon', 'Chakkarpur', ' Sector 39 Gurgaon', ' Sector 102 Gurgaon', ' Sector 102 Gurgaon', ' Sector 95 Gurgaon', ' Sispal Vihar', ' Sector 92 Gurgaon', ' Sector 33 Gurgaon', 'Sector 65 Gurgaon', 'Sector 37D Gurgaon', ' Sector 108 Gurgaon', 'Sohna', ' Sector 59 Gurgaon', ' Sector 61 Gurgaon', ' Sector 102 Gurgaon', ' Sector-33 Sohna', 'Sector 65 Gurgaon', 'Sector 76 Gurgaon', 'Shankar Vihar', ' Sohna', 'Sushant Lok Phase 1', 'Sector 63A Gurgaon', 'Sector 95A Gurgaon', ' Sector 89 Gurgaon', 'Sector 104 Gurgaon', 'Sohna', 'Sector 99 Gurgaon', 'Sohna', 'Sector 86 Gurgaon', ' Sector 99 Gurgaon', 'Sector 93 Gurgaon', ' Sector 89 Gurgaon', 'Sector 102 Gurgaon', 'Sector 93 Gurgaon', 'Sector 69 Gurgaon', 'Sector 79 Gurgaon', 'Sector 82A Gurgaon', 'DLF Phase 4', 'Sector 37D Gurgaon', 'Sector-33 Sohna', ' Sohna', 'Sector 104 Gurgaon', 'Sohna', ' Sector 65 Gurgaon', ' Sohna', 'Sohna', 'Sector 81 Gurgaon', ' Sector 24 Gurgaon', ' Sector 86 Gurgaon', ' Sector 37D Gurgaon', 'Sector 89 Gurgaon', 'Sector 90 Gurgaon', ' Sohna', 'Sector 79 Gurgaon', 'Sector 78 Gurgaon', ' Sector 37C Gurgaon', 'Sector 109 Gurgaon', ' Sector 12 Gurgaon', ' Sector 99 Gurgaon', ' Mehrauli Gurgaon Road', ' Mehrauli Gurgaon Road', 'Sector 70 Gurgaon', ' Sector 84 Gurgaon', 'Sector 55 Gurgaon', 'Sector 70 Gurgaon', 'Sector 113 Gurgaon ', ' Sector 71 Gurgaon', ' Sohna', ' Sohna', ' Sector 33 Gurgaon', ' Sector 61 Gurgaon', ' Sector 37D Gurgaon', 'Sector 113 Gurgaon ', 'Sector 103 Gurgaon', ' Sohna', 'Sector 61 Gurgaon', ' Sector 89 Gurgaon', 'DLF Phase 5', 'Ashok Vihar Phase 2', ' Sector 52 Gurgaon', ' Sector 70 Gurgaon', ' Valley View Estate', 'Sector 79 Gurgaon', ' Sector 92 Gurgaon', 'Sector 90 Gurgaon', 'Sector 99 Gurgaon', ' Sector 79 Gurgaon', 'Sector 103 Gurgaon', ' Sector 106 Gurgaon', 'Sector 82 Gurgaon', ' Sector 47 Gurgaon', ' Sector 37C Gurgaon', 'Sector 70 Gurgaon', ' Sector 37D Gurgaon', ' Sector 89 Gurgaon', ' Sector 83 Gurgaon', ' Sector 99A Gurgaon', ' Sector 92 Gurgaon', ' Sector 54 Gurgaon', ' Sector 110 Gurgaon', ' Sector 65 Gurgaon', ' Sector 108 Gurgaon', ' Sector 103 Gurgaon', ' Sector 95 Gurgaon', ' Sector 95 Gurgaon', ' Sector 37D Gurgaon', ' Sector 56 Gurgaon', ' Sector 79 Gurgaon', ' Sohna', ' Sector 37C Gurgaon', ' Sector 77 Gurgaon', ' Sector 69 Gurgaon', 'Sector 70 Gurgaon', ' Sector-33 Sohna', ' Sector 103 Gurgaon', 'Sector 92 Gurgaon', 'Sector-35 Sohna', ' Sector 104 Gurgaon', 'Sector 89 Gurgaon', 'Sector 76 Gurgaon', ' Sector 92 Gurgaon', ' Sohna', ' Sector 78 Gurgaon', ' Sector 22 Gurgaon', ' Sector 92 Gurgaon', ' Sector 85 Gurgaon', ' Sector 92 Gurgaon', ' Sector 9A Gurgaon', ' Sector 49 Gurgaon', ' Sector 90 Gurgaon', ' Sector 37C Gurgaon', ' Sector 78 Gurgaon', ' Dwarka Expressway Gurgaon', ' Sector 78 Gurgaon', 'Sector 81 Gurgaon', 'Sector 3 Gurgaon', ' Sohna', ' Sector 90 Gurgaon', 'Sector 95 Gurgaon', ' Sector 9A Gurgaon', 'Sohna', 'Sector 48 Gurgaon', 'Laxman Vihar', 'Sector 92 Gurgaon', 'Sohna', 'Sector 92 Gurgaon', ' Sector 56 Gurgaon', 'Sector 68 Gurgaon', 'Sector-33 Sohna', ' Sector 22 Gurgaon', 'Sector 109 Gurgaon', 'Sohna', 'Sector 109 Gurgaon', ' Sector 22 Gurgaon', ' Sector 68 Gurgaon', 'Sector 102 Gurgaon', 'Sohna', 'Sector 95 Gurgaon', ' Sector 92 Gurgaon', 'Sector 68 Gurgaon', 'Sector 1A IMT Manesar', ' Sector 86 Gurgaon', 'Sector 99 Gurgaon', 'Sector 92 Gurgaon', ' Sector-33 Sohna', ' Ashok Vihar', 'Sector 110 Gurgaon', 'Bhondsi', ' Sector 104 Gurgaon', 'Palam Vihar Extension', 'Sector 92 Gurgaon', 'Sohna', 'Sector 22 Gurgaon', 'Sohna', ' Sector 92 Gurgaon', ' Sector 85 Gurgaon', ' Sector-2 Sohna', 'New Gurgaon', 'saroop garden rajendra park', 'Sector 65 Gurgaon', 'Sector 71 Gurgaon', 'Palam Vihar', 'Sector 61 Gurgaon', ' Sector 111 Gurgaon', 'Dayanand Colony', ' Sector 81 Gurgaon', 'Sector 37D Gurgaon', 'Sector 36 Sohna', 'Sector 80 Gurgaon', 'Sector 10A Gurgaon', 'Sector 102 Gurgaon', 'Sector 36A Gurgaon', ' Sector 82A Gurgaon', 'Sector 70A Gurgaon', 'Sector 81 Gurgaon', 'Sector 85 Gurgaon', ' Sector 108 Gurgaon', 'Sector 61 Gurgaon', 'Sector 61 Gurgaon', 'Dwarka Expressway Gurgaon', 'Sector 52 Gurgaon', 'Adarsh Nagar', 'Sector 4 Urban Estate', 'BPTP', 'Sohna', ' Sector 104 Gurgaon', 'Palam Vihar', 'Sohna', 'Sector 36A Gurgaon', ' Sector 76 Gurgaon', 'Sector 65 Gurgaon', ' Sector 78 Gurgaon', ' Sector 104 Gurgaon', ' Sector 61 Gurgaon', 'Sector 61 Gurgaon', 'Sector 53 Gurgaon', 'New Palam Vihar', ' Sohna', ' Sector 86 Gurgaon', 'Sector 65 Gurgaon', 'Sector 56 Gurgaon', 'Sector 105 Gurgaon', 'Sector 99A Gurgaon', 'Sector 89 Gurgaon', ' South City 1', 'Sector 61 Gurgaon', 'Sector 88A Gurgaon', 'Sector 82 Gurgaon', 'Sector 76 Gurgaon', 'Sector 99 Gurgaon', 'Valley View Estate', ' Sector 104 Gurgaon', 'Sector 3 Gurgaon', ' Sohna', ' Sector 86 Gurgaon', ' Sohna', 'Sector 99A Gurgaon', 'Sector 59 Gurgaon', ' Sector 86 Gurgaon', 'Sector-33 Sohna', 'Laxman Vihar', 'Sector 95A Gurgaon', 'Sector 78 Gurgaon', ' Sector 95 Gurgaon', ' Dayanand Colony', 'Sector 95 Gurgaon', 'Sector 89 Gurgaon', 'Sector 77 Gurgaon', ' Sector 95 Gurgaon', ' Sector 88A Gurgaon', ' Sector 105 Gurgaon', ' Sector 9 Gurgaon', 'Sohna', 'Sector 82 Gurgaon', ' Sector 37C Gurgaon', 'Sector 88A Gurgaon', ' Sector 92 Gurgaon', 'Sector 104 Gurgaon', 'Sohna Road', 'Valley View Estate', 'Sector 88A Gurgaon', 'Sector 37D Gurgaon', 'Sector 112 Gurgaon', ' Sector 99 Gurgaon', ' Sector 49 Gurgaon', ' Sector 37C Gurgaon', 'Sohna', 'Sector 89 Gurgaon', 'Sector 53 Gurgaon', 'New Gurgaon', ' Sector 63A Gurgaon', 'Sector 61 Gurgaon', 'Shanti Nagar', 'Sohna', ' Sector 33 Gurgaon', 'Sector 95 Gurgaon', 'Sector 37D Gurgaon', 'Sohna', ' Sohna', ' Sushant Lok Phase 3', 'Sector 2 Gurgaon', 'Sohna', ' Sector 67A Gurgaon', 'Sector 78 Gurgaon', ' Sector 95 Gurgaon', 'Ashok Vihar', ' Sector 69 Gurgaon', ' Sohna', 'Sector-33 Sohna', 'Sector 92 Gurgaon', 'Sector 67A Gurgaon', ' Sector 21 Gurgaon', 'Sector 80 Gurgaon', ' Sohna', 'Sohna', 'Sector 99A Gurgaon', 'Sector 95 Gurgaon', 'Sector 9A Gurgaon', 'Sector 95 Gurgaon', ' Sector 22 Gurgaon', ' Sector 89 Gurgaon', 'Sector 99A Gurgaon', 'Sector 1A IMT Manesar', ' Sector 37C Gurgaon', 'IMT Manesar', 'Sector 106 Gurgaon', 'Sector 92 Gurgaon', ' Sector 86 Gurgaon', ' Sector 40 Gurgaon', ' Sector 3 Gurgaon', 'Sector 108 Gurgaon', ' Dharam Colony', 'Sector 70 Gurgaon', 'Sector 103 Gurgaon', ' Sector 1A IMT Manesar', 'Sector 68 Gurgaon', 'Sector 95 Gurgaon', ' Palam Vihar', ' Sector 90 Gurgaon', 'Sohna', 'Sector 56 Gurgaon', 'Sector 68 Gurgaon', 'Sector 95 Gurgaon', ' Golf Course Ext Road ', ' Sector 79 Gurgaon', 'Sector 104 Gurgaon', ' Sector 92 Gurgaon', 'Sector 92 Gurgaon', 'Sector 90 Gurgaon', 'Sector 79 Gurgaon', 'Sector 81 Gurgaon', ' Sector 104 Gurgaon', 'Sector 99A Gurgaon', 'New Gurgaon', ' Sector 81 Gurgaon', 'Sector 37C Gurgaon', 'Sector 95 Gurgaon', 'Sector 71 Gurgaon', ' Sector 43 Gurgaon', ' Sector 92 Gurgaon', 'Sector 74 Gurgaon', ' Sector 92 Gurgaon', 'Sector 104 Gurgaon', ' Sector 99A Gurgaon', ' Sector 79 Gurgaon', 'Sector 103 Gurgaon', 'DLF Phase 4', 'Sector 9A Gurgaon', 'Sector 37C Gurgaon', 'Adarsh Nagar', 'Rajendra Park', ' Sector 79 Gurgaon', ' Sector 37C Gurgaon', 'Sector 78 Gurgaon', 'Sector 88A Gurgaon', ' Gurgaon', 'Sector 92 Gurgaon', 'Sector 92 Gurgaon', ' Sector 68 Gurgaon', ' Palam Vihar', ' Sector 107 Gurgaon', 'Dharam Colony', 'Sector 103 Gurgaon', 'DLF Phase 4', ' Sector 86 Gurgaon', 'Sector 48 Gurgaon', 'Sector 108 Gurgaon', ' DLF Phase 3', 'Sector 54 Gurgaon']\n"
     ]
    }
   ],
   "source": [
    "# colonies\n",
    "s=[]\n",
    "for i in df['address'].dropna():\n",
    "    s.append(i.split(',')[-3])\n",
    "        \n",
    "print(s)"
   ]
  },
  {
   "cell_type": "code",
   "execution_count": 181,
   "metadata": {},
   "outputs": [
    {
     "data": {
      "text/plain": [
       "2990"
      ]
     },
     "execution_count": 181,
     "metadata": {},
     "output_type": "execute_result"
    }
   ],
   "source": [
    "len(s)"
   ]
  },
  {
   "cell_type": "code",
   "execution_count": 182,
   "metadata": {},
   "outputs": [],
   "source": [
    "colony_price=df[['price','address']].dropna()['price']"
   ]
  },
  {
   "cell_type": "code",
   "execution_count": 183,
   "metadata": {},
   "outputs": [],
   "source": [
    "colony_df = pd.DataFrame({'price':colony_price,'colony_name':s})"
   ]
  },
  {
   "cell_type": "code",
   "execution_count": 184,
   "metadata": {},
   "outputs": [
    {
     "data": {
      "text/html": [
       "<div>\n",
       "<style scoped>\n",
       "    .dataframe tbody tr th:only-of-type {\n",
       "        vertical-align: middle;\n",
       "    }\n",
       "\n",
       "    .dataframe tbody tr th {\n",
       "        vertical-align: top;\n",
       "    }\n",
       "\n",
       "    .dataframe thead th {\n",
       "        text-align: right;\n",
       "    }\n",
       "</style>\n",
       "<table border=\"1\" class=\"dataframe\">\n",
       "  <thead>\n",
       "    <tr style=\"text-align: right;\">\n",
       "      <th></th>\n",
       "      <th>price</th>\n",
       "      <th>colony_name</th>\n",
       "    </tr>\n",
       "  </thead>\n",
       "  <tbody>\n",
       "    <tr>\n",
       "      <th>0</th>\n",
       "      <td>0.45</td>\n",
       "      <td>Krishna Colony</td>\n",
       "    </tr>\n",
       "    <tr>\n",
       "      <th>1</th>\n",
       "      <td>0.50</td>\n",
       "      <td>Ashok Vihar</td>\n",
       "    </tr>\n",
       "    <tr>\n",
       "      <th>2</th>\n",
       "      <td>0.40</td>\n",
       "      <td>Sohna</td>\n",
       "    </tr>\n",
       "    <tr>\n",
       "      <th>3</th>\n",
       "      <td>1.47</td>\n",
       "      <td>Sector 61 Gurgaon</td>\n",
       "    </tr>\n",
       "    <tr>\n",
       "      <th>4</th>\n",
       "      <td>0.70</td>\n",
       "      <td>Sector 92 Gurgaon</td>\n",
       "    </tr>\n",
       "  </tbody>\n",
       "</table>\n",
       "</div>"
      ],
      "text/plain": [
       "   price        colony_name\n",
       "0   0.45     Krishna Colony\n",
       "1   0.50        Ashok Vihar\n",
       "2   0.40              Sohna\n",
       "3   1.47  Sector 61 Gurgaon\n",
       "4   0.70  Sector 92 Gurgaon"
      ]
     },
     "execution_count": 184,
     "metadata": {},
     "output_type": "execute_result"
    }
   ],
   "source": [
    "colony_df.head()"
   ]
  },
  {
   "cell_type": "code",
   "execution_count": 185,
   "metadata": {},
   "outputs": [
    {
     "data": {
      "image/png": "[encoded data removed]",
      "text/plain": [
       "<Figure size 640x480 with 1 Axes>"
      ]
     },
     "metadata": {},
     "output_type": "display_data"
    }
   ],
   "source": [
    "plt.bar(colony_df.groupby('colony_name').median().index,colony_df.groupby('colony_name').median()['price'])\n",
    "plt.tick_params(\n",
    "    axis='x',          # changes apply to the x-axis\n",
    "    which='both',      # both major and minor ticks are affected\n",
    "    bottom=False,      # ticks along the bottom edge are off\n",
    "    top=False,         # ticks along the top edge are off\n",
    "    labelbottom=False)"
   ]
  },
  {
   "cell_type": "code",
   "execution_count": 186,
   "metadata": {},
   "outputs": [
    {
     "data": {
      "text/html": [
       "<div>\n",
       "<style scoped>\n",
       "    .dataframe tbody tr th:only-of-type {\n",
       "        vertical-align: middle;\n",
       "    }\n",
       "\n",
       "    .dataframe tbody tr th {\n",
       "        vertical-align: top;\n",
       "    }\n",
       "\n",
       "    .dataframe thead th {\n",
       "        text-align: right;\n",
       "    }\n",
       "</style>\n",
       "<table border=\"1\" class=\"dataframe\">\n",
       "  <thead>\n",
       "    <tr style=\"text-align: right;\">\n",
       "      <th></th>\n",
       "      <th>property_name</th>\n",
       "      <th>property_type</th>\n",
       "      <th>society</th>\n",
       "      <th>price</th>\n",
       "      <th>price_per_sqft</th>\n",
       "      <th>area</th>\n",
       "      <th>areaWithType</th>\n",
       "      <th>bedRoom</th>\n",
       "      <th>bathroom</th>\n",
       "      <th>balcony</th>\n",
       "      <th>additionalRoom</th>\n",
       "      <th>address</th>\n",
       "      <th>floorNum</th>\n",
       "      <th>facing</th>\n",
       "      <th>agePossession</th>\n",
       "      <th>nearbyLocations</th>\n",
       "      <th>description</th>\n",
       "      <th>furnishDetails</th>\n",
       "      <th>features</th>\n",
       "      <th>rating</th>\n",
       "    </tr>\n",
       "  </thead>\n",
       "  <tbody>\n",
       "    <tr>\n",
       "      <th>0</th>\n",
       "      <td>2 BHK Flat in Krishna Colony</td>\n",
       "      <td>flat</td>\n",
       "      <td>maa bhagwati residency</td>\n",
       "      <td>0.45</td>\n",
       "      <td>5000.0</td>\n",
       "      <td>900.0</td>\n",
       "      <td>Carpet area: 900 (83.61 sq.m.)</td>\n",
       "      <td>2</td>\n",
       "      <td>2</td>\n",
       "      <td>1</td>\n",
       "      <td>not available</td>\n",
       "      <td>Krishna Colony, Gurgaon, Haryana</td>\n",
       "      <td>4.0</td>\n",
       "      <td>West</td>\n",
       "      <td>1 to 5 Year Old</td>\n",
       "      <td>['Chintapurni Mandir', 'State bank ATM', 'Pear...</td>\n",
       "      <td>So with lift.Maa bhagwati residency is one of ...</td>\n",
       "      <td>['3 Fan', '4 Light', '1 Wardrobe', 'No AC', 'N...</td>\n",
       "      <td>['Feng Shui / Vaastu Compliant', 'Security / F...</td>\n",
       "      <td>['Environment4 out of 5', 'Safety4 out of 5', ...</td>\n",
       "    </tr>\n",
       "    <tr>\n",
       "      <th>1</th>\n",
       "      <td>2 BHK Flat in Ashok Vihar</td>\n",
       "      <td>flat</td>\n",
       "      <td>apna enclave</td>\n",
       "      <td>0.50</td>\n",
       "      <td>7692.0</td>\n",
       "      <td>650.0</td>\n",
       "      <td>Carpet area: 650 (60.39 sq.m.)</td>\n",
       "      <td>2</td>\n",
       "      <td>2</td>\n",
       "      <td>1</td>\n",
       "      <td>not available</td>\n",
       "      <td>46b, Ashok Vihar, Gurgaon, Haryana</td>\n",
       "      <td>1.0</td>\n",
       "      <td>West</td>\n",
       "      <td>10+ Year Old</td>\n",
       "      <td>['Chintapurni Mandir', 'Sheetla Mata Mandir', ...</td>\n",
       "      <td>Property situated on main road, railway statio...</td>\n",
       "      <td>['3 Wardrobe', '4 Fan', '1 Exhaust Fan', '1 Ge...</td>\n",
       "      <td>['Security / Fire Alarm', 'Maintenance Staff',...</td>\n",
       "      <td>['Environment4 out of 5', 'Safety4 out of 5', ...</td>\n",
       "    </tr>\n",
       "    <tr>\n",
       "      <th>2</th>\n",
       "      <td>2 BHK Flat in Sohna</td>\n",
       "      <td>flat</td>\n",
       "      <td>tulsiani easy in homes</td>\n",
       "      <td>0.40</td>\n",
       "      <td>6722.0</td>\n",
       "      <td>595.0</td>\n",
       "      <td>Carpet area: 595 (55.28 sq.m.)</td>\n",
       "      <td>2</td>\n",
       "      <td>2</td>\n",
       "      <td>3</td>\n",
       "      <td>not available</td>\n",
       "      <td>Sohna, Gurgaon, Haryana</td>\n",
       "      <td>12.0</td>\n",
       "      <td>NaN</td>\n",
       "      <td>0 to 1 Year Old</td>\n",
       "      <td>['Huda City Metro', 'Golf Course extn road', '...</td>\n",
       "      <td>This property is 15 km away from badshapur, gu...</td>\n",
       "      <td>NaN</td>\n",
       "      <td>['Power Back-up', 'Feng Shui / Vaastu Complian...</td>\n",
       "      <td>['Environment4 out of 5', 'Safety4 out of 5', ...</td>\n",
       "    </tr>\n",
       "    <tr>\n",
       "      <th>3</th>\n",
       "      <td>2 BHK Flat in Sector 61 Gurgaon</td>\n",
       "      <td>flat</td>\n",
       "      <td>smart world orchard</td>\n",
       "      <td>1.47</td>\n",
       "      <td>12250.0</td>\n",
       "      <td>1200.0</td>\n",
       "      <td>Carpet area: 1200 (111.48 sq.m.)</td>\n",
       "      <td>2</td>\n",
       "      <td>2</td>\n",
       "      <td>2</td>\n",
       "      <td>study room</td>\n",
       "      <td>Sector 61 Gurgaon, Gurgaon, Haryana</td>\n",
       "      <td>2.0</td>\n",
       "      <td>NaN</td>\n",
       "      <td>Dec 2023</td>\n",
       "      <td>['Sector 55-56 Metro station', 'Bestech Centra...</td>\n",
       "      <td>Near to metro station of sector 56 and opposit...</td>\n",
       "      <td>NaN</td>\n",
       "      <td>['Security / Fire Alarm', 'Private Garden / Te...</td>\n",
       "      <td>NaN</td>\n",
       "    </tr>\n",
       "    <tr>\n",
       "      <th>4</th>\n",
       "      <td>2 BHK Flat in Sector 92 Gurgaon</td>\n",
       "      <td>flat</td>\n",
       "      <td>parkwood westend</td>\n",
       "      <td>0.70</td>\n",
       "      <td>5204.0</td>\n",
       "      <td>1345.0</td>\n",
       "      <td>Super Built up area 1345(124.95 sq.m.)</td>\n",
       "      <td>2</td>\n",
       "      <td>2</td>\n",
       "      <td>3</td>\n",
       "      <td>study room</td>\n",
       "      <td>Sector 92 Gurgaon, Gurgaon, Haryana</td>\n",
       "      <td>5.0</td>\n",
       "      <td>NaN</td>\n",
       "      <td>Under Construction</td>\n",
       "      <td>['Yadav Clinic', 'Bangali Clinic', 'Dr. J. S. ...</td>\n",
       "      <td>We are the proud owners of this 2 bhk alongwit...</td>\n",
       "      <td>[]</td>\n",
       "      <td>NaN</td>\n",
       "      <td>['Environment5 out of 5', 'Safety3 out of 5', ...</td>\n",
       "    </tr>\n",
       "  </tbody>\n",
       "</table>\n",
       "</div>"
      ],
      "text/plain": [
       "                     property_name property_type                 society  \\\n",
       "0     2 BHK Flat in Krishna Colony          flat  maa bhagwati residency   \n",
       "1        2 BHK Flat in Ashok Vihar          flat            apna enclave   \n",
       "2              2 BHK Flat in Sohna          flat  tulsiani easy in homes   \n",
       "3  2 BHK Flat in Sector 61 Gurgaon          flat     smart world orchard   \n",
       "4  2 BHK Flat in Sector 92 Gurgaon          flat        parkwood westend   \n",
       "\n",
       "   price  price_per_sqft    area                            areaWithType  \\\n",
       "0   0.45          5000.0   900.0          Carpet area: 900 (83.61 sq.m.)   \n",
       "1   0.50          7692.0   650.0          Carpet area: 650 (60.39 sq.m.)   \n",
       "2   0.40          6722.0   595.0          Carpet area: 595 (55.28 sq.m.)   \n",
       "3   1.47         12250.0  1200.0        Carpet area: 1200 (111.48 sq.m.)   \n",
       "4   0.70          5204.0  1345.0  Super Built up area 1345(124.95 sq.m.)   \n",
       "\n",
       "   bedRoom  bathroom balcony additionalRoom  \\\n",
       "0        2         2       1  not available   \n",
       "1        2         2       1  not available   \n",
       "2        2         2       3  not available   \n",
       "3        2         2       2     study room   \n",
       "4        2         2       3     study room   \n",
       "\n",
       "                               address  floorNum facing       agePossession  \\\n",
       "0     Krishna Colony, Gurgaon, Haryana       4.0   West     1 to 5 Year Old   \n",
       "1   46b, Ashok Vihar, Gurgaon, Haryana       1.0   West        10+ Year Old   \n",
       "2              Sohna, Gurgaon, Haryana      12.0    NaN     0 to 1 Year Old   \n",
       "3  Sector 61 Gurgaon, Gurgaon, Haryana       2.0    NaN            Dec 2023   \n",
       "4  Sector 92 Gurgaon, Gurgaon, Haryana       5.0    NaN  Under Construction   \n",
       "\n",
       "                                     nearbyLocations  \\\n",
       "0  ['Chintapurni Mandir', 'State bank ATM', 'Pear...   \n",
       "1  ['Chintapurni Mandir', 'Sheetla Mata Mandir', ...   \n",
       "2  ['Huda City Metro', 'Golf Course extn road', '...   \n",
       "3  ['Sector 55-56 Metro station', 'Bestech Centra...   \n",
       "4  ['Yadav Clinic', 'Bangali Clinic', 'Dr. J. S. ...   \n",
       "\n",
       "                                         description  \\\n",
       "0  So with lift.Maa bhagwati residency is one of ...   \n",
       "1  Property situated on main road, railway statio...   \n",
       "2  This property is 15 km away from badshapur, gu...   \n",
       "3  Near to metro station of sector 56 and opposit...   \n",
       "4  We are the proud owners of this 2 bhk alongwit...   \n",
       "\n",
       "                                      furnishDetails  \\\n",
       "0  ['3 Fan', '4 Light', '1 Wardrobe', 'No AC', 'N...   \n",
       "1  ['3 Wardrobe', '4 Fan', '1 Exhaust Fan', '1 Ge...   \n",
       "2                                                NaN   \n",
       "3                                                NaN   \n",
       "4                                                 []   \n",
       "\n",
       "                                            features  \\\n",
       "0  ['Feng Shui / Vaastu Compliant', 'Security / F...   \n",
       "1  ['Security / Fire Alarm', 'Maintenance Staff',...   \n",
       "2  ['Power Back-up', 'Feng Shui / Vaastu Complian...   \n",
       "3  ['Security / Fire Alarm', 'Private Garden / Te...   \n",
       "4                                                NaN   \n",
       "\n",
       "                                              rating  \n",
       "0  ['Environment4 out of 5', 'Safety4 out of 5', ...  \n",
       "1  ['Environment4 out of 5', 'Safety4 out of 5', ...  \n",
       "2  ['Environment4 out of 5', 'Safety4 out of 5', ...  \n",
       "3                                                NaN  \n",
       "4  ['Environment5 out of 5', 'Safety3 out of 5', ...  "
      ]
     },
     "execution_count": 186,
     "metadata": {},
     "output_type": "execute_result"
    }
   ],
   "source": [
    "df.head()"
   ]
  },
  {
   "cell_type": "code",
   "execution_count": 187,
   "metadata": {},
   "outputs": [
    {
     "data": {
      "text/plain": [
       "additionalRoom\n",
       "not available                                    1304\n",
       "servant room                                      629\n",
       "study room                                        232\n",
       "others                                            179\n",
       "pooja room                                        132\n",
       "study room,servant room                            81\n",
       "store room                                         76\n",
       "pooja room,servant room                            60\n",
       "servant room,others                                52\n",
       "servant room,pooja room                            30\n",
       "study room,others                                  27\n",
       "pooja room,study room,servant room,others          25\n",
       "pooja room,study room,servant room                 24\n",
       "servant room,store room                            19\n",
       "pooja room,study room                              13\n",
       "pooja room,study room,servant room,store room      12\n",
       "servant room,study room                             8\n",
       "study room,pooja room                               8\n",
       "study room,servant room,store room                  7\n",
       "pooja room,servant room,others                      6\n",
       "servant room,study room,pooja room,store room       6\n",
       "pooja room,store room                               6\n",
       "others,servant room                                 6\n",
       "pooja room,others                                   6\n",
       "study room,servant room,others                      5\n",
       "pooja room,study room,store room                    4\n",
       "pooja room,store room,study room,servant room       4\n",
       "study room,pooja room,store room                    3\n",
       "store room,servant room                             3\n",
       "servant room,pooja room,study room,store room       3\n",
       "servant room,others,pooja room                      2\n",
       "study room,servant room,pooja room,store room       2\n",
       "servant room,study room,store room                  2\n",
       "study room,pooja room,servant room                  2\n",
       "servant room,others,store room,pooja room           2\n",
       "pooja room,study room,others                        2\n",
       "store room,pooja room,servant room                  1\n",
       "pooja room,study room,store room,servant room       1\n",
       "pooja room,servant room,study room,store room       1\n",
       "servant room,pooja room,store room                  1\n",
       "study room,servant room,store room,pooja room       1\n",
       "study room,servant room,pooja room                  1\n",
       "servant room,pooja room,store room,study room       1\n",
       "study room,store room                               1\n",
       "store room,study room                               1\n",
       "servant room,pooja room,study room                  1\n",
       "servant room,study room,pooja room                  1\n",
       "others,study room                                   1\n",
       "servant room,study room,others                      1\n",
       "store room,pooja room                               1\n",
       "Name: count, dtype: int64"
      ]
     },
     "execution_count": 187,
     "metadata": {},
     "output_type": "execute_result"
    }
   ],
   "source": [
    "df['additionalRoom'].value_counts()"
   ]
  },
  {
   "cell_type": "code",
   "execution_count": 188,
   "metadata": {},
   "outputs": [
    {
     "name": "stdout",
     "output_type": "stream",
     "text": [
      "['Carpet', 'Carpet', 'Carpet', 'Carpet', 'Super Built up', 'Built Up', 'Super Built up', 'Carpet', 'Built Up', 'Built Up', 'Carpet', 'Carpet', 'Carpet', 'Super Built up', 'Super Built up', 'Built Up', 'Built Up', 'Carpet', 'Super Built up', 'Carpet', 'Super Built up', 'Super Built up', 'Carpet', 'Super Built up', 'Carpet', 'Built Up', 'Carpet', 'Carpet', 'Built Up', 'Carpet', 'Super Built up', 'Carpet', 'Built Up', 'Carpet', 'Super Built up', 'Super Built up', 'Super Built up', 'Super Built up', 'Carpet', 'Carpet', 'Carpet', 'Super Built up', 'Carpet', 'Built Up', 'Carpet', 'Carpet', 'Carpet', 'Carpet', 'Carpet', 'Carpet', 'Carpet', 'Carpet', 'Carpet', 'Carpet', 'Carpet', 'Carpet', 'Super Built up', 'Super Built up', 'Super Built up', 'Super Built up', 'Super Built up', 'Super Built up', 'Super Built up', 'Super Built up', 'Super Built up', 'Super Built up', 'Super Built up', 'Super Built up', 'Built Up', 'Super Built up', 'Carpet', 'Super Built up', 'Carpet', 'Carpet', 'Carpet', 'Carpet', 'Super Built up', 'Super Built up', 'Built Up', 'Built Up', 'Carpet', 'Super Built up', 'Super Built up', 'Built Up', 'Super Built up', 'Carpet', 'Carpet', 'Carpet', 'Carpet', 'Built Up', 'Super Built up', 'Built Up', 'Built Up', 'Carpet', 'Super Built up', 'Super Built up', 'Carpet', 'Built Up', 'Super Built up', 'Super Built up', 'Carpet', 'Carpet', 'Carpet', 'Super Built up', 'Carpet', 'Super Built up', 'Super Built up', 'Built Up', 'Super Built up', 'Carpet', 'Super Built up', 'Super Built up', 'Carpet', 'Carpet', 'Carpet', 'Super Built up', 'Carpet', 'Super Built up', 'Carpet', 'Super Built up', 'Carpet', 'Super Built up', 'Super Built up', 'Super Built up', 'Super Built up', 'Carpet', 'Super Built up', 'Built Up', 'Super Built up', 'Built Up', 'Super Built up', 'Carpet', 'Carpet', 'Super Built up', 'Super Built up', 'Carpet', 'Super Built up', 'Super Built up', 'Carpet', 'Super Built up', 'Built Up', 'Super Built up', 'Super Built up', 'Carpet', 'Carpet', 'Super Built up', 'Super Built up', 'Carpet', 'Super Built up', 'Super Built up', 'Built Up', 'Super Built up', 'Built Up', 'Super Built up', 'Carpet', 'Built Up', 'Carpet', 'Carpet', 'Super Built up', 'Built Up', 'Carpet', 'Super Built up', 'Carpet', 'Super Built up', 'Carpet', 'Super Built up', 'Carpet', 'Super Built up', 'Super Built up', 'Super Built up', 'Built Up', 'Carpet', 'Super Built up', 'Super Built up', 'Super Built up', 'Carpet', 'Carpet', 'Super Built up', 'Carpet', 'Built Up', 'Super Built up', 'Built Up', 'Super Built up', 'Carpet', 'Carpet', 'Built Up', 'Super Built up', 'Built Up', 'Built Up', 'Super Built up', 'Carpet', 'Carpet', 'Super Built up', 'Carpet', 'Carpet', 'Built Up', 'Built Up', 'Built Up', 'Built Up', 'Built Up', 'Built Up', 'Super Built up', 'Carpet', 'Carpet', 'Super Built up', 'Carpet', 'Super Built up', 'Built Up', 'Super Built up', 'Carpet', 'Super Built up', 'Carpet', 'Super Built up', 'Carpet', 'Super Built up', 'Super Built up', 'Super Built up', 'Carpet', 'Super Built up', 'Super Built up', 'Super Built up', 'Built Up', 'Carpet', 'Super Built up', 'Super Built up', 'Super Built up', 'Super Built up', 'Super Built up', 'Carpet', 'Super Built up', 'Super Built up', 'Built Up', 'Carpet', 'Carpet', 'Super Built up', 'Carpet', 'Carpet', 'Super Built up', 'Super Built up', 'Built Up', 'Carpet', 'Super Built up', 'Super Built up', 'Carpet', 'Carpet', 'Super Built up', 'Carpet', 'Super Built up', 'Super Built up', 'Carpet', 'Carpet', 'Super Built up', 'Carpet', 'Carpet', 'Super Built up', 'Carpet', 'Carpet', 'Super Built up', 'Carpet', 'Carpet', 'Carpet', 'Super Built up', 'Super Built up', 'Super Built up', 'Super Built up', 'Built Up', 'Super Built up', 'Super Built up', 'Super Built up', 'Carpet', 'Super Built up', 'Carpet', 'Built Up', 'Built Up', 'Super Built up', 'Super Built up', 'Built Up', 'Built Up', 'Built Up', 'Built Up', 'Built Up', 'Built Up', 'Built Up', 'Super Built up', 'Super Built up', 'Built Up', 'Carpet', 'Super Built up', 'Super Built up', 'Carpet', 'Carpet', 'Carpet', 'Carpet', 'Carpet', 'Super Built up', 'Super Built up', 'Super Built up', 'Carpet', 'Carpet', 'Built Up', 'Carpet', 'Super Built up', 'Carpet', 'Super Built up', 'Built Up', 'Carpet', 'Super Built up', 'Carpet', 'Super Built up', 'Carpet', 'Super Built up', 'Built Up', 'Carpet', 'Carpet', 'Carpet', 'Super Built up', 'Super Built up', 'Built Up', 'Carpet', 'Super Built up', 'Super Built up', 'Carpet', 'Carpet', 'Super Built up', 'Carpet', 'Carpet', 'Built Up', 'Carpet', 'Super Built up', 'Carpet', 'Super Built up', 'Built Up', 'Super Built up', 'Super Built up', 'Super Built up', 'Carpet', 'Carpet', 'Super Built up', 'Super Built up', 'Super Built up', 'Carpet', 'Super Built up', 'Built Up', 'Super Built up', 'Super Built up', 'Super Built up', 'Carpet', 'Super Built up', 'Super Built up', 'Super Built up', 'Built Up', 'Super Built up', 'Super Built up', 'Super Built up', 'Carpet', 'Super Built up', 'Super Built up', 'Super Built up', 'Super Built up', 'Super Built up', 'Super Built up', 'Super Built up', 'Super Built up', 'Super Built up', 'Carpet', 'Super Built up', 'Super Built up', 'Super Built up', 'Carpet', 'Super Built up', 'Super Built up', 'Super Built up', 'Carpet', 'Super Built up', 'Carpet', 'Carpet', 'Super Built up', 'Super Built up', 'Super Built up', 'Super Built up', 'Super Built up', 'Carpet', 'Carpet', 'Super Built up', 'Super Built up', 'Super Built up', 'Carpet', 'Super Built up', 'Super Built up', 'Super Built up', 'Carpet', 'Carpet', 'Super Built up', 'Super Built up', 'Super Built up', 'Super Built up', 'Built Up', 'Super Built up', 'Super Built up', 'Super Built up', 'Super Built up', 'Super Built up', 'Super Built up', 'Carpet', 'Carpet', 'Built Up', 'Carpet', 'Super Built up', 'Carpet', 'Super Built up', 'Built Up', 'Built Up', 'Super Built up', 'Built Up', 'Super Built up', 'Super Built up', 'Super Built up', 'Super Built up', 'Super Built up', 'Super Built up', 'Super Built up', 'Super Built up', 'Super Built up', 'Built Up', 'Super Built up', 'Carpet', 'Super Built up', 'Carpet', 'Carpet', 'Super Built up', 'Super Built up', 'Super Built up', 'Super Built up', 'Super Built up', 'Super Built up', 'Carpet', 'Super Built up', 'Super Built up', 'Carpet', 'Super Built up', 'Super Built up', 'Super Built up', 'Built Up', 'Super Built up', 'Super Built up', 'Super Built up', 'Super Built up', 'Super Built up', 'Carpet', 'Super Built up', 'Super Built up', 'Super Built up', 'Super Built up', 'Super Built up', 'Super Built up', 'Super Built up', 'Super Built up', 'Super Built up', 'Super Built up', 'Super Built up', 'Super Built up', 'Super Built up', 'Super Built up', 'Super Built up', 'Super Built up', 'Super Built up', 'Super Built up', 'Super Built up', 'Super Built up', 'Super Built up', 'Super Built up', 'Super Built up', 'Super Built up', 'Super Built up', 'Super Built up', 'Super Built up', 'Super Built up', 'Super Built up', 'Super Built up', 'Super Built up', 'Super Built up', 'Super Built up', 'Super Built up', 'Super Built up', 'Super Built up', 'Super Built up', 'Super Built up', 'Super Built up', 'Super Built up', 'Super Built up', 'Super Built up', 'Super Built up', 'Super Built up', 'Super Built up', 'Super Built up', 'Carpet', 'Super Built up', 'Super Built up', 'Super Built up', 'Super Built up', 'Super Built up', 'Super Built up', 'Super Built up', 'Super Built up', 'Super Built up', 'Super Built up', 'Carpet', 'Built Up', 'Super Built up', 'Super Built up', 'Super Built up', 'Super Built up', 'Super Built up', 'Super Built up', 'Super Built up', 'Super Built up', 'Super Built up', 'Super Built up', 'Super Built up', 'Super Built up', 'Super Built up', 'Carpet', 'Super Built up', 'Super Built up', 'Super Built up', 'Carpet', 'Carpet', 'Carpet', 'Super Built up', 'Super Built up', 'Super Built up', 'Super Built up', 'Super Built up', 'Super Built up', 'Super Built up', 'Super Built up', 'Super Built up', 'Super Built up', 'Super Built up', 'Super Built up', 'Super Built up', 'Super Built up', 'Super Built up', 'Super Built up', 'Super Built up', 'Super Built up', 'Super Built up', 'Super Built up', 'Super Built up', 'Super Built up', 'Super Built up', 'Super Built up', 'Super Built up', 'Super Built up', 'Super Built up', 'Super Built up', 'Super Built up', 'Super Built up', 'Super Built up', 'Super Built up', 'Super Built up', 'Super Built up', 'Super Built up', 'Super Built up', 'Super Built up', 'Super Built up', 'Super Built up', 'Super Built up', 'Super Built up', 'Super Built up', 'Super Built up', 'Super Built up', 'Super Built up', 'Super Built up', 'Carpet', 'Carpet', 'Super Built up', 'Super Built up', 'Super Built up', 'Super Built up', 'Super Built up', 'Super Built up', 'Super Built up', 'Super Built up', 'Super Built up', 'Super Built up', 'Super Built up', 'Super Built up', 'Super Built up', 'Super Built up', 'Super Built up', 'Super Built up', 'Super Built up', 'Super Built up', 'Super Built up', 'Super Built up', 'Super Built up', 'Super Built up', 'Super Built up', 'Super Built up', 'Super Built up', 'Carpet', 'Super Built up', 'Super Built up', 'Super Built up', 'Super Built up', 'Super Built up', 'Super Built up', 'Super Built up', 'Super Built up', 'Super Built up', 'Super Built up', 'Super Built up', 'Super Built up', 'Super Built up', 'Super Built up', 'Super Built up', 'Super Built up', 'Super Built up', 'Super Built up', 'Super Built up', 'Super Built up', 'Super Built up', 'Super Built up', 'Super Built up', 'Super Built up', 'Super Built up', 'Super Built up', 'Super Built up', 'Super Built up', 'Super Built up', 'Super Built up', 'Super Built up', 'Super Built up', 'Super Built up', 'Super Built up', 'Carpet', 'Super Built up', 'Super Built up', 'Super Built up', 'Super Built up', 'Super Built up', 'Super Built up', 'Super Built up', 'Super Built up', 'Super Built up', 'Super Built up', 'Super Built up', 'Super Built up', 'Super Built up', 'Super Built up', 'Super Built up', 'Super Built up', 'Carpet', 'Super Built up', 'Super Built up', 'Super Built up', 'Super Built up', 'Super Built up', 'Carpet', 'Carpet', 'Super Built up', 'Super Built up', 'Super Built up', 'Carpet', 'Carpet', 'Super Built up', 'Super Built up', 'Super Built up', 'Super Built up', 'Super Built up', 'Super Built up', 'Carpet', 'Super Built up', 'Super Built up', 'Super Built up', 'Super Built up', 'Super Built up', 'Super Built up', 'Super Built up', 'Super Built up', 'Super Built up', 'Super Built up', 'Super Built up', 'Super Built up', 'Super Built up', 'Super Built up', 'Super Built up', 'Super Built up', 'Super Built up', 'Super Built up', 'Super Built up', 'Super Built up', 'Super Built up', 'Super Built up', 'Super Built up', 'Super Built up', 'Super Built up', 'Super Built up', 'Super Built up', 'Super Built up', 'Super Built up', 'Super Built up', 'Super Built up', 'Super Built up', 'Super Built up', 'Super Built up', 'Super Built up', 'Super Built up', 'Super Built up', 'Super Built up', 'Super Built up', 'Super Built up', 'Super Built up', 'Super Built up', 'Super Built up', 'Carpet', 'Super Built up', 'Carpet', 'Carpet', 'Carpet', 'Carpet', 'Carpet', 'Super Built up', 'Super Built up', 'Carpet', 'Super Built up', 'Super Built up', 'Super Built up', 'Super Built up', 'Super Built up', 'Super Built up', 'Super Built up', 'Super Built up', 'Super Built up', 'Super Built up', 'Super Built up', 'Super Built up', 'Super Built up', 'Super Built up', 'Super Built up', 'Super Built up', 'Super Built up', 'Super Built up', 'Super Built up', 'Carpet', 'Super Built up', 'Super Built up', 'Super Built up', 'Super Built up', 'Super Built up', 'Super Built up', 'Super Built up', 'Super Built up', 'Super Built up', 'Super Built up', 'Super Built up', 'Super Built up', 'Super Built up', 'Super Built up', 'Super Built up', 'Super Built up', 'Super Built up', 'Carpet', 'Super Built up', 'Super Built up', 'Super Built up', 'Carpet', 'Super Built up', 'Super Built up', 'Super Built up', 'Carpet', 'Super Built up', 'Super Built up', 'Super Built up', 'Super Built up', 'Carpet', 'Carpet', 'Super Built up', 'Super Built up', 'Super Built up', 'Carpet', 'Super Built up', 'Super Built up', 'Super Built up', 'Super Built up', 'Super Built up', 'Super Built up', 'Carpet', 'Super Built up', 'Super Built up', 'Super Built up', 'Super Built up', 'Super Built up', 'Super Built up', 'Super Built up', 'Super Built up', 'Built Up', 'Super Built up', 'Super Built up', 'Super Built up', 'Super Built up', 'Super Built up', 'Super Built up', 'Super Built up', 'Super Built up', 'Super Built up', 'Super Built up', 'Carpet', 'Super Built up', 'Super Built up', 'Super Built up', 'Super Built up', 'Super Built up', 'Super Built up', 'Super Built up', 'Super Built up', 'Super Built up', 'Super Built up', 'Super Built up', 'Super Built up', 'Super Built up', 'Super Built up', 'Super Built up', 'Super Built up', 'Super Built up', 'Super Built up', 'Super Built up', 'Super Built up', 'Super Built up', 'Super Built up', 'Super Built up', 'Super Built up', 'Super Built up', 'Super Built up', 'Super Built up', 'Super Built up', 'Super Built up', 'Super Built up', 'Super Built up', 'Super Built up', 'Super Built up', 'Super Built up', 'Super Built up', 'Super Built up', 'Super Built up', 'Super Built up', 'Super Built up', 'Super Built up', 'Super Built up', 'Super Built up', 'Super Built up', 'Super Built up', 'Super Built up', 'Super Built up', 'Super Built up', 'Super Built up', 'Super Built up', 'Super Built up', 'Super Built up', 'Super Built up', 'Super Built up', 'Super Built up', 'Super Built up', 'Super Built up', 'Super Built up', 'Super Built up', 'Carpet', 'Super Built up', 'Super Built up', 'Super Built up', 'Super Built up', 'Super Built up', 'Super Built up', 'Super Built up', 'Super Built up', 'Super Built up', 'Super Built up', 'Super Built up', 'Super Built up', 'Super Built up', 'Super Built up', 'Super Built up', 'Super Built up', 'Carpet', 'Carpet', 'Super Built up', 'Super Built up', 'Super Built up', 'Super Built up', 'Super Built up', 'Super Built up', 'Super Built up', 'Super Built up', 'Super Built up', 'Super Built up', 'Super Built up', 'Super Built up', 'Super Built up', 'Super Built up', 'Super Built up', 'Super Built up', 'Carpet', 'Super Built up', 'Super Built up', 'Super Built up', 'Super Built up', 'Super Built up', 'Super Built up', 'Super Built up', 'Super Built up', 'Super Built up', 'Super Built up', 'Super Built up', 'Super Built up', 'Carpet', 'Super Built up', 'Super Built up', 'Super Built up', 'Super Built up', 'Super Built up', 'Super Built up', 'Super Built up', 'Super Built up', 'Super Built up', 'Super Built up', 'Super Built up', 'Super Built up', 'Super Built up', 'Super Built up', 'Super Built up', 'Super Built up', 'Super Built up', 'Super Built up', 'Super Built up', 'Super Built up', 'Super Built up', 'Super Built up', 'Super Built up', 'Super Built up', 'Super Built up', 'Super Built up', 'Super Built up', 'Super Built up', 'Super Built up', 'Carpet', 'Super Built up', 'Super Built up', 'Super Built up', 'Built Up', 'Built Up', 'Super Built up', 'Super Built up', 'Super Built up', 'Super Built up', 'Super Built up', 'Super Built up', 'Super Built up', 'Super Built up', 'Super Built up', 'Super Built up', 'Super Built up', 'Super Built up', 'Super Built up', 'Super Built up', 'Super Built up', 'Super Built up', 'Super Built up', 'Super Built up', 'Super Built up', 'Super Built up', 'Super Built up', 'Super Built up', 'Super Built up', 'Super Built up', 'Super Built up', 'Super Built up', 'Super Built up', 'Super Built up', 'Super Built up', 'Super Built up', 'Super Built up', 'Super Built up', 'Super Built up', 'Super Built up', 'Super Built up', 'Super Built up', 'Super Built up', 'Super Built up', 'Super Built up', 'Super Built up', 'Super Built up', 'Super Built up', 'Super Built up', 'Super Built up', 'Super Built up', 'Super Built up', 'Super Built up', 'Super Built up', 'Super Built up', 'Carpet', 'Carpet', 'Super Built up', 'Carpet', 'Carpet', 'Super Built up', 'Super Built up', 'Super Built up', 'Super Built up', 'Super Built up', 'Super Built up', 'Super Built up', 'Super Built up', 'Super Built up', 'Super Built up', 'Super Built up', 'Super Built up', 'Super Built up', 'Built Up', 'Super Built up', 'Super Built up', 'Super Built up', 'Built Up', 'Built Up', 'Super Built up', 'Super Built up', 'Super Built up', 'Super Built up', 'Super Built up', 'Super Built up', 'Super Built up', 'Super Built up', 'Super Built up', 'Super Built up', 'Super Built up', 'Super Built up', 'Super Built up', 'Super Built up', 'Super Built up', 'Super Built up', 'Built Up', 'Super Built up', 'Super Built up', 'Carpet', 'Carpet', 'Super Built up', 'Carpet', 'Super Built up', 'Carpet', 'Super Built up', 'Super Built up', 'Super Built up', 'Super Built up', 'Super Built up', 'Carpet', 'Carpet', 'Carpet', 'Carpet', 'Super Built up', 'Super Built up', 'Super Built up', 'Super Built up', 'Super Built up', 'Super Built up', 'Super Built up', 'Super Built up', 'Super Built up', 'Super Built up', 'Super Built up', 'Super Built up', 'Super Built up', 'Super Built up', 'Super Built up', 'Super Built up', 'Super Built up', 'Super Built up', 'Super Built up', 'Super Built up', 'Super Built up', 'Super Built up', 'Super Built up', 'Super Built up', 'Super Built up', 'Super Built up', 'Super Built up', 'Super Built up', 'Carpet', 'Super Built up', 'Super Built up', 'Super Built up', 'Carpet', 'Carpet', 'Carpet', 'Carpet', 'Super Built up', 'Super Built up', 'Super Built up', 'Super Built up', 'Super Built up', 'Super Built up', 'Super Built up', 'Super Built up', 'Super Built up', 'Super Built up', 'Super Built up', 'Super Built up', 'Super Built up', 'Super Built up', 'Super Built up', 'Super Built up', 'Super Built up', 'Super Built up', 'Super Built up', 'Super Built up', 'Super Built up', 'Super Built up', 'Super Built up', 'Super Built up', 'Super Built up', 'Super Built up', 'Super Built up', 'Super Built up', 'Super Built up', 'Super Built up', 'Super Built up', 'Super Built up', 'Super Built up', 'Super Built up', 'Super Built up', 'Super Built up', 'Super Built up', 'Super Built up', 'Super Built up', 'Super Built up', 'Super Built up', 'Super Built up', 'Super Built up', 'Super Built up', 'Super Built up', 'Super Built up', 'Super Built up', 'Super Built up', 'Super Built up', 'Super Built up', 'Super Built up', 'Carpet', 'Super Built up', 'Super Built up', 'Carpet', 'Carpet', 'Super Built up', 'Super Built up', 'Super Built up', 'Carpet', 'Carpet', 'Carpet', 'Carpet', 'Carpet', 'Carpet', 'Carpet', 'Carpet', 'Carpet', 'Carpet', 'Carpet', 'Super Built up', 'Super Built up', 'Super Built up', 'Super Built up', 'Super Built up', 'Super Built up', 'Carpet', 'Super Built up', 'Super Built up', 'Super Built up', 'Carpet', 'Super Built up', 'Super Built up', 'Super Built up', 'Super Built up', 'Super Built up', 'Super Built up', 'Super Built up', 'Super Built up', 'Super Built up', 'Super Built up', 'Super Built up', 'Super Built up', 'Super Built up', 'Super Built up', 'Super Built up', 'Super Built up', 'Super Built up', 'Super Built up', 'Super Built up', 'Super Built up', 'Super Built up', 'Super Built up', 'Super Built up', 'Super Built up', 'Super Built up', 'Super Built up', 'Super Built up', 'Super Built up', 'Super Built up', 'Super Built up', 'Super Built up', 'Super Built up', 'Super Built up', 'Built Up', 'Super Built up', 'Super Built up', 'Super Built up', 'Super Built up', 'Carpet', 'Super Built up', 'Super Built up', 'Super Built up', 'Super Built up', 'Super Built up', 'Carpet', 'Carpet', 'Super Built up', 'Super Built up', 'Super Built up', 'Super Built up', 'Super Built up', 'Super Built up', 'Super Built up', 'Super Built up', 'Super Built up', 'Super Built up', 'Super Built up', 'Super Built up', 'Super Built up', 'Super Built up', 'Super Built up', 'Super Built up', 'Super Built up', 'Super Built up', 'Super Built up', 'Super Built up', 'Super Built up', 'Super Built up', 'Super Built up', 'Super Built up', 'Super Built up', 'Super Built up', 'Super Built up', 'Super Built up', 'Super Built up', 'Super Built up', 'Super Built up', 'Super Built up', 'Super Built up', 'Super Built up', 'Super Built up', 'Super Built up', 'Super Built up', 'Carpet', 'Super Built up', 'Super Built up', 'Super Built up', 'Carpet', 'Super Built up', 'Super Built up', 'Super Built up', 'Super Built up', 'Super Built up', 'Super Built up', 'Super Built up', 'Super Built up', 'Super Built up', 'Super Built up', 'Super Built up', 'Super Built up', 'Super Built up', 'Super Built up', 'Super Built up', 'Super Built up', 'Super Built up', 'Super Built up', 'Super Built up', 'Super Built up', 'Super Built up', 'Super Built up', 'Super Built up', 'Super Built up', 'Super Built up', 'Super Built up', 'Super Built up', 'Super Built up', 'Super Built up', 'Super Built up', 'Super Built up', 'Super Built up', 'Super Built up', 'Super Built up', 'Super Built up', 'Super Built up', 'Super Built up', 'Super Built up', 'Super Built up', 'Super Built up', 'Super Built up', 'Carpet', 'Carpet', 'Carpet', 'Carpet', 'Carpet', 'Carpet', 'Carpet', 'Super Built up', 'Super Built up', 'Super Built up', 'Super Built up', 'Super Built up', 'Super Built up', 'Super Built up', 'Super Built up', 'Super Built up', 'Carpet', 'Super Built up', 'Super Built up', 'Super Built up', 'Super Built up', 'Super Built up', 'Super Built up', 'Carpet', 'Carpet', 'Carpet', 'Carpet', 'Carpet', 'Carpet', 'Super Built up', 'Super Built up', 'Super Built up', 'Carpet', 'Carpet', 'Carpet', 'Carpet', 'Super Built up', 'Built Up', 'Super Built up', 'Super Built up', 'Super Built up', 'Super Built up', 'Super Built up', 'Super Built up', 'Carpet', 'Super Built up', 'Super Built up', 'Super Built up', 'Super Built up', 'Super Built up', 'Super Built up', 'Super Built up', 'Carpet', 'Carpet', 'Super Built up', 'Super Built up', 'Super Built up', 'Super Built up', 'Super Built up', 'Super Built up', 'Super Built up', 'Super Built up', 'Carpet', 'Carpet', 'Carpet', 'Carpet', 'Carpet', 'Super Built up', 'Super Built up', 'Super Built up', 'Built Up', 'Super Built up', 'Super Built up', 'Built Up', 'Super Built up', 'Super Built up', 'Super Built up', 'Super Built up', 'Super Built up', 'Super Built up', 'Super Built up', 'Super Built up', 'Super Built up', 'Super Built up', 'Super Built up', 'Super Built up', 'Super Built up', 'Super Built up', 'Carpet', 'Super Built up', 'Super Built up', 'Super Built up', 'Super Built up', 'Super Built up', 'Super Built up', 'Super Built up', 'Super Built up', 'Super Built up', 'Super Built up', 'Super Built up', 'Carpet', 'Super Built up', 'Super Built up', 'Super Built up', 'Super Built up', 'Super Built up', 'Super Built up', 'Super Built up', 'Super Built up', 'Super Built up', 'Super Built up', 'Super Built up', 'Carpet', 'Super Built up', 'Super Built up', 'Super Built up', 'Super Built up', 'Super Built up', 'Super Built up', 'Super Built up', 'Super Built up', 'Super Built up', 'Super Built up', 'Super Built up', 'Super Built up', 'Super Built up', 'Carpet', 'Super Built up', 'Super Built up', 'Super Built up', 'Carpet', 'Carpet', 'Carpet', 'Carpet', 'Carpet', 'Carpet', 'Carpet', 'Super Built up', 'Super Built up', 'Super Built up', 'Super Built up', 'Super Built up', 'Carpet', 'Super Built up', 'Carpet', 'Super Built up', 'Carpet', 'Super Built up', 'Super Built up', 'Super Built up', 'Super Built up', 'Super Built up', 'Super Built up', 'Super Built up', 'Super Built up', 'Super Built up', 'Super Built up', 'Super Built up', 'Super Built up', 'Super Built up', 'Super Built up', 'Super Built up', 'Super Built up', 'Super Built up', 'Super Built up', 'Super Built up', 'Super Built up', 'Super Built up', 'Super Built up', 'Super Built up', 'Super Built up', 'Super Built up', 'Super Built up', 'Super Built up', 'Super Built up', 'Super Built up', 'Super Built up', 'Super Built up', 'Super Built up', 'Carpet', 'Super Built up', 'Super Built up', 'Super Built up', 'Super Built up', 'Super Built up', 'Super Built up', 'Super Built up', 'Super Built up', 'Super Built up', 'Carpet', 'Carpet', 'Super Built up', 'Super Built up', 'Super Built up', 'Super Built up', 'Super Built up', 'Super Built up', 'Super Built up', 'Super Built up', 'Carpet', 'Super Built up', 'Super Built up', 'Super Built up', 'Super Built up', 'Super Built up', 'Super Built up', 'Super Built up', 'Super Built up', 'Super Built up', 'Super Built up', 'Super Built up', 'Super Built up', 'Super Built up', 'Super Built up', 'Super Built up', 'Super Built up', 'Super Built up', 'Super Built up', 'Super Built up', 'Super Built up', 'Super Built up', 'Super Built up', 'Super Built up', 'Super Built up', 'Super Built up', 'Super Built up', 'Super Built up', 'Super Built up', 'Super Built up', 'Super Built up', 'Super Built up', 'Super Built up', 'Super Built up', 'Super Built up', 'Super Built up', 'Carpet', 'Super Built up', 'Carpet', 'Super Built up', 'Carpet', 'Super Built up', 'Super Built up', 'Carpet', 'Super Built up', 'Super Built up', 'Super Built up', 'Super Built up', 'Super Built up', 'Super Built up', 'Super Built up', 'Super Built up', 'Super Built up', 'Super Built up', 'Super Built up', 'Super Built up', 'Super Built up', 'Super Built up', 'Super Built up', 'Super Built up', 'Super Built up', 'Super Built up', 'Super Built up', 'Super Built up', 'Super Built up', 'Built Up', 'Super Built up', 'Super Built up', 'Super Built up', 'Super Built up', 'Super Built up', 'Super Built up', 'Super Built up', 'Super Built up', 'Super Built up', 'Super Built up', 'Super Built up', 'Super Built up', 'Super Built up', 'Super Built up', 'Super Built up', 'Super Built up', 'Carpet', 'Carpet', 'Super Built up', 'Carpet', 'Super Built up', 'Super Built up', 'Super Built up', 'Super Built up', 'Super Built up', 'Super Built up', 'Super Built up', 'Super Built up', 'Super Built up', 'Super Built up', 'Super Built up', 'Super Built up', 'Carpet', 'Carpet', 'Carpet', 'Carpet', 'Super Built up', 'Super Built up', 'Super Built up', 'Carpet', 'Built Up', 'Super Built up', 'Super Built up', 'Super Built up', 'Super Built up', 'Super Built up', 'Built Up', 'Super Built up', 'Super Built up', 'Built Up', 'Built Up', 'Super Built up', 'Super Built up', 'Super Built up', 'Super Built up', 'Super Built up', 'Super Built up', 'Super Built up', 'Super Built up', 'Super Built up', 'Super Built up', 'Carpet', 'Super Built up', 'Carpet', 'Super Built up', 'Carpet', 'Built Up', 'Super Built up', 'Carpet', 'Carpet', 'Built Up', 'Super Built up', 'Carpet', 'Built Up', 'Super Built up', 'Built Up', 'Super Built up', 'Super Built up', 'Super Built up', 'Super Built up', 'Super Built up', 'Carpet', 'Super Built up', 'Super Built up', 'Super Built up', 'Super Built up', 'Super Built up', 'Super Built up', 'Super Built up', 'Super Built up', 'Super Built up', 'Super Built up', 'Super Built up', 'Super Built up', 'Built Up', 'Super Built up', 'Super Built up', 'Carpet', 'Carpet', 'Super Built up', 'Super Built up', 'Super Built up', 'Super Built up', 'Super Built up', 'Super Built up', 'Super Built up', 'Super Built up', 'Super Built up', 'Super Built up', 'Super Built up', 'Super Built up', 'Super Built up', 'Super Built up', 'Carpet', 'Super Built up', 'Super Built up', 'Super Built up', 'Super Built up', 'Super Built up', 'Super Built up', 'Super Built up', 'Super Built up', 'Built Up', 'Super Built up', 'Super Built up', 'Super Built up', 'Super Built up', 'Super Built up', 'Super Built up', 'Super Built up', 'Super Built up', 'Super Built up', 'Super Built up', 'Super Built up', 'Super Built up', 'Super Built up', 'Super Built up', 'Super Built up', 'Carpet', 'Super Built up', 'Carpet', 'Super Built up', 'Super Built up', 'Super Built up', 'Super Built up', 'Super Built up', 'Carpet', 'Super Built up', 'Super Built up', 'Super Built up', 'Super Built up', 'Carpet', 'Super Built up', 'Super Built up', 'Super Built up', 'Super Built up', 'Super Built up', 'Super Built up', 'Super Built up', 'Super Built up', 'Super Built up', 'Super Built up', 'Super Built up', 'Super Built up', 'Carpet', 'Super Built up', 'Super Built up', 'Super Built up', 'Super Built up', 'Super Built up', 'Super Built up', 'Super Built up', 'Super Built up', 'Super Built up', 'Super Built up', 'Super Built up', 'Super Built up', 'Super Built up', 'Super Built up', 'Super Built up', 'Carpet', 'Carpet', 'Super Built up', 'Super Built up', 'Carpet', 'Super Built up', 'Super Built up', 'Super Built up', 'Carpet', 'Super Built up', 'Carpet', 'Super Built up', 'Super Built up', 'Super Built up', 'Super Built up', 'Super Built up', 'Super Built up', 'Super Built up', 'Super Built up', 'Super Built up', 'Super Built up', 'Super Built up', 'Super Built up', 'Super Built up', 'Super Built up', 'Super Built up', 'Super Built up', 'Super Built up', 'Super Built up', 'Super Built up', 'Super Built up', 'Super Built up', 'Super Built up', 'Super Built up', 'Super Built up', 'Super Built up', 'Super Built up', 'Super Built up', 'Carpet', 'Super Built up', 'Super Built up', 'Super Built up', 'Super Built up', 'Super Built up', 'Super Built up', 'Super Built up', 'Super Built up', 'Super Built up', 'Super Built up', 'Carpet', 'Super Built up', 'Carpet', 'Super Built up', 'Super Built up', 'Super Built up', 'Super Built up', 'Super Built up', 'Super Built up', 'Super Built up', 'Super Built up', 'Super Built up', 'Super Built up', 'Super Built up', 'Super Built up', 'Super Built up', 'Super Built up', 'Super Built up', 'Super Built up', 'Super Built up', 'Super Built up', 'Super Built up', 'Super Built up', 'Super Built up', 'Super Built up', 'Super Built up', 'Super Built up', 'Super Built up', 'Super Built up', 'Super Built up', 'Super Built up', 'Carpet', 'Super Built up', 'Super Built up', 'Super Built up', 'Super Built up', 'Super Built up', 'Super Built up', 'Super Built up', 'Super Built up', 'Super Built up', 'Super Built up', 'Super Built up', 'Super Built up', 'Super Built up', 'Super Built up', 'Carpet', 'Super Built up', 'Super Built up', 'Super Built up', 'Super Built up', 'Super Built up', 'Carpet', 'Super Built up', 'Carpet', 'Carpet', 'Carpet', 'Super Built up', 'Super Built up', 'Super Built up', 'Super Built up', 'Super Built up', 'Super Built up', 'Super Built up', 'Super Built up', 'Super Built up', 'Super Built up', 'Super Built up', 'Super Built up', 'Super Built up', 'Super Built up', 'Super Built up', 'Super Built up', 'Super Built up', 'Super Built up', 'Super Built up', 'Super Built up', 'Super Built up', 'Super Built up', 'Super Built up', 'Super Built up', 'Super Built up', 'Super Built up', 'Super Built up', 'Super Built up', 'Super Built up', 'Super Built up', 'Super Built up', 'Super Built up', 'Super Built up', 'Super Built up', 'Super Built up', 'Super Built up', 'Super Built up', 'Super Built up', 'Super Built up', 'Super Built up', 'Super Built up', 'Super Built up', 'Super Built up', 'Super Built up', 'Super Built up', 'Super Built up', 'Built Up', 'Super Built up', 'Super Built up', 'Carpet', 'Carpet', 'Super Built up', 'Carpet', 'Carpet', 'Super Built up', 'Super Built up', 'Carpet', 'Super Built up', 'Carpet', 'Built Up', 'Carpet', 'Carpet', 'Carpet', 'Super Built up', 'Super Built up', 'Super Built up', 'Super Built up', 'Super Built up', 'Super Built up', 'Super Built up', 'Super Built up', 'Built Up', 'Carpet', 'Super Built up', 'Super Built up', 'Super Built up', 'Carpet', 'Carpet', 'Carpet', 'Carpet', 'Super Built up', 'Carpet', 'Super Built up', 'Super Built up', 'Super Built up', 'Super Built up', 'Carpet', 'Super Built up', 'Super Built up', 'Carpet', 'Carpet', 'Built Up', 'Super Built up', 'Super Built up', 'Super Built up', 'Super Built up', 'Carpet', 'Super Built up', 'Super Built up', 'Super Built up', 'Super Built up', 'Carpet', 'Super Built up', 'Built Up', 'Built Up', 'Built Up', 'Built Up', 'Built Up', 'Carpet', 'Super Built up', 'Super Built up', 'Carpet', 'Built Up', 'Carpet', 'Built Up', 'Super Built up', 'Carpet', 'Carpet', 'Super Built up', 'Super Built up', 'Super Built up', 'Super Built up', 'Super Built up', 'Super Built up', 'Super Built up', 'Super Built up', 'Carpet', 'Carpet', 'Carpet', 'Carpet', 'Super Built up', 'Carpet', 'Carpet', 'Super Built up', 'Carpet', 'Super Built up', 'Carpet', 'Super Built up', 'Super Built up', 'Super Built up', 'Super Built up', 'Super Built up', 'Super Built up', 'Carpet', 'Carpet', 'Super Built up', 'Super Built up', 'Carpet', 'Super Built up', 'Super Built up', 'Super Built up', 'Carpet', 'Carpet', 'Carpet', 'Built Up', 'Super Built up', 'Carpet', 'Built Up', 'Super Built up', 'Carpet', 'Carpet', 'Built Up', 'Carpet', 'Carpet', 'Carpet', 'Super Built up', 'Built Up', 'Carpet', 'Built Up', 'Super Built up', 'Carpet', 'Built Up', 'Carpet', 'Built Up', 'Super Built up', 'Super Built up', 'Carpet', 'Super Built up', 'Super Built up', 'Super Built up', 'Super Built up', 'Carpet', 'Super Built up', 'Built Up', 'Carpet', 'Super Built up', 'Super Built up', 'Carpet', 'Built Up', 'Carpet', 'Super Built up', 'Built Up', 'Built Up', 'Super Built up', 'Built Up', 'Built Up', 'Built Up', 'Built Up', 'Super Built up', 'Carpet', 'Super Built up', 'Super Built up', 'Built Up', 'Super Built up', 'Super Built up', 'Carpet', 'Super Built up', 'Built Up', 'Carpet', 'Carpet', 'Carpet', 'Carpet', 'Super Built up', 'Super Built up', 'Super Built up', 'Built Up', 'Super Built up', 'Carpet', 'Carpet', 'Super Built up', 'Carpet', 'Carpet', 'Built Up', 'Built Up', 'Carpet', 'Super Built up', 'Built Up', 'Built Up', 'Super Built up', 'Super Built up', 'Super Built up', 'Super Built up', 'Carpet', 'Carpet', 'Built Up', 'Built Up', 'Built Up', 'Super Built up', 'Carpet', 'Carpet', 'Built Up', 'Super Built up', 'Super Built up', 'Built Up', 'Super Built up', 'Carpet', 'Carpet', 'Super Built up', 'Super Built up', 'Carpet', 'Super Built up', 'Super Built up', 'Built Up', 'Built Up', 'Super Built up', 'Super Built up', 'Super Built up', 'Super Built up', 'Carpet', 'Super Built up', 'Super Built up', 'Carpet', 'Carpet', 'Carpet', 'Carpet', 'Built Up', 'Super Built up', 'Built Up', 'Carpet', 'Built Up', 'Carpet', 'Carpet', 'Super Built up', 'Carpet', 'Built Up', 'Built Up', 'Carpet', 'Carpet', 'Built Up', 'Carpet', 'Carpet', 'Carpet', 'Carpet', 'Super Built up', 'Super Built up', 'Carpet', 'Super Built up', 'Built Up', 'Built Up', 'Super Built up', 'Super Built up', 'Built Up', 'Built Up', 'Super Built up', 'Carpet', 'Super Built up', 'Super Built up', 'Super Built up', 'Super Built up', 'Carpet', 'Built Up', 'Built Up', 'Built Up', 'Built Up', 'Built Up', 'Built Up', 'Built Up', 'Super Built up', 'Carpet', 'Carpet', 'Carpet', 'Carpet', 'Built Up', 'Built Up', 'Carpet', 'Carpet', 'Carpet', 'Carpet', 'Carpet', 'Super Built up', 'Super Built up', 'Carpet', 'Carpet', 'Super Built up', 'Super Built up', 'Super Built up', 'Built Up', 'Built Up', 'Built Up', 'Built Up', 'Built Up', 'Carpet', 'Built Up', 'Built Up', 'Carpet', 'Super Built up', 'Super Built up', 'Super Built up', 'Carpet', 'Carpet', 'Built Up', 'Built Up', 'Carpet', 'Super Built up', 'Built Up', 'Built Up', 'Carpet', 'Built Up', 'Super Built up', 'Super Built up', 'Carpet', 'Super Built up', 'Super Built up', 'Super Built up', 'Carpet', 'Carpet', 'Built Up', 'Carpet', 'Carpet', 'Built Up', 'Super Built up', 'Super Built up', 'Super Built up', 'Super Built up', 'Super Built up', 'Carpet', 'Carpet', 'Carpet', 'Super Built up', 'Carpet', 'Built Up', 'Built Up', 'Super Built up', 'Carpet', 'Super Built up', 'Super Built up', 'Super Built up', 'Super Built up', 'Built Up', 'Built Up', 'Built Up', 'Built Up', 'Built Up', 'Super Built up', 'Built Up', 'Built Up', 'Carpet', 'Carpet', 'Super Built up', 'Super Built up', 'Carpet', 'Carpet', 'Carpet', 'Built Up', 'Carpet', 'Carpet', 'Carpet', 'Carpet', 'Carpet', 'Built Up', 'Super Built up', 'Carpet', 'Super Built up', 'Carpet', 'Super Built up', 'Super Built up', 'Super Built up', 'Built Up', 'Built Up', 'Super Built up', 'Built Up', 'Carpet', 'Carpet', 'Super Built up', 'Super Built up', 'Carpet', 'Built Up', 'Super Built up', 'Carpet', 'Carpet', 'Carpet', 'Carpet', 'Carpet', 'Super Built up', 'Super Built up', 'Super Built up', 'Carpet', 'Super Built up', 'Carpet', 'Carpet', 'Carpet', 'Super Built up', 'Built Up', 'Built Up', 'Super Built up', 'Carpet', 'Super Built up', 'Carpet', 'Carpet', 'Super Built up', 'Carpet', 'Carpet', 'Super Built up', 'Super Built up', 'Built Up', 'Super Built up', 'Super Built up', 'Super Built up', 'Carpet', 'Super Built up', 'Built Up', 'Built Up', 'Built Up', 'Built Up', 'Super Built up', 'Super Built up', 'Carpet', 'Carpet', 'Carpet', 'Super Built up', 'Carpet', 'Super Built up', 'Carpet', 'Super Built up', 'Super Built up', 'Carpet', 'Built Up', 'Built Up', 'Carpet', 'Built Up', 'Carpet', 'Super Built up', 'Super Built up', 'Super Built up', 'Built Up', 'Carpet', 'Carpet', 'Built Up', 'Carpet', 'Super Built up', 'Carpet', 'Super Built up', 'Built Up', 'Built Up', 'Super Built up', 'Super Built up', 'Super Built up', 'Carpet', 'Carpet', 'Carpet', 'Carpet', 'Carpet', 'Super Built up', 'Carpet', 'Built Up', 'Super Built up', 'Built Up', 'Super Built up', 'Super Built up', 'Carpet', 'Built Up', 'Super Built up', 'Carpet', 'Carpet', 'Carpet', 'Super Built up', 'Super Built up', 'Carpet', 'Carpet', 'Built Up', 'Built Up', 'Built Up', 'Super Built up', 'Carpet', 'Built Up', 'Built Up', 'Built Up', 'Super Built up', 'Super Built up', 'Super Built up', 'Super Built up', 'Carpet', 'Carpet', 'Carpet', 'Super Built up', 'Carpet', 'Carpet', 'Carpet', 'Built Up', 'Super Built up', 'Carpet', 'Super Built up', 'Carpet', 'Carpet', 'Carpet', 'Carpet', 'Super Built up', 'Carpet', 'Carpet', 'Carpet', 'Carpet', 'Super Built up', 'Super Built up', 'Super Built up', 'Carpet', 'Super Built up', 'Super Built up', 'Super Built up', 'Carpet', 'Carpet', 'Carpet', 'Carpet', 'Super Built up', 'Super Built up', 'Built Up', 'Carpet', 'Carpet', 'Built Up', 'Super Built up', 'Built Up', 'Super Built up', 'Super Built up', 'Built Up', 'Built Up', 'Built Up', 'Built Up', 'Built Up', 'Super Built up', 'Built Up', 'Built Up', 'Built Up', 'Built Up', 'Built Up', 'Carpet', 'Carpet', 'Built Up', 'Carpet', 'Carpet', 'Carpet', 'Super Built up', 'Carpet', 'Super Built up', 'Built Up', 'Carpet', 'Super Built up', 'Super Built up', 'Carpet', 'Built Up', 'Super Built up', 'Built Up', 'Built Up', 'Super Built up', 'Super Built up', 'Carpet', 'Carpet', 'Super Built up', 'Built Up', 'Built Up', 'Built Up', 'Carpet', 'Carpet', 'Built Up', 'Super Built up', 'Super Built up', 'Carpet', 'Built Up', 'Carpet', 'Super Built up', 'Super Built up', 'Carpet', 'Carpet', 'Carpet', 'Super Built up', 'Carpet', 'Super Built up', 'Super Built up', 'Super Built up', 'Carpet', 'Carpet', 'Carpet', 'Carpet', 'Super Built up', 'Super Built up', 'Built Up', 'Carpet', 'Carpet', 'Super Built up', 'Super Built up', 'Super Built up', 'Super Built up', 'Carpet', 'Built Up', 'Super Built up', 'Built Up', 'Built Up', 'Built Up', 'Built Up', 'Carpet', 'Super Built up', 'Carpet', 'Built Up', 'Built Up', 'Built Up', 'Built Up', 'Carpet', 'Carpet', 'Super Built up', 'Super Built up', 'Carpet', 'Carpet', 'Carpet', 'Super Built up', 'Carpet', 'Built Up', 'Built Up', 'Built Up', 'Carpet', 'Built Up', 'Super Built up', 'Built Up', 'Built Up', 'Carpet', 'Built Up', 'Super Built up', 'Built Up', 'Built Up', 'Carpet', 'Super Built up', 'Carpet', 'Carpet', 'Super Built up', 'Super Built up', 'Built Up', 'Built Up', 'Carpet', 'Carpet', 'Built Up', 'Carpet', 'Super Built up', 'Built Up', 'Super Built up', 'Super Built up', 'Built Up', 'Built Up', 'Carpet', 'Carpet', 'Super Built up', 'Carpet', 'Super Built up', 'Built Up', 'Built Up', 'Super Built up', 'Carpet', 'Carpet', 'Carpet', 'Super Built up', 'Super Built up', 'Super Built up', 'Carpet', 'Super Built up', 'Carpet', 'Carpet', 'Carpet', 'Built Up', 'Carpet', 'Carpet', 'Carpet', 'Built Up', 'Built Up', 'Built Up', 'Super Built up', 'Carpet', 'Built Up', 'Super Built up', 'Super Built up', 'Super Built up', 'Carpet', 'Carpet', 'Built Up', 'Super Built up', 'Built Up', 'Carpet', 'Carpet', 'Carpet', 'Super Built up', 'Carpet', 'Super Built up', 'Built Up', 'Built Up', 'Carpet', 'Carpet', 'Built Up', 'Super Built up', 'Super Built up', 'Carpet', 'Carpet', 'Built Up', 'Super Built up', 'Carpet', 'Carpet', 'Carpet', 'Super Built up', 'Carpet', 'Carpet', 'Super Built up', 'Super Built up', 'Built Up', 'Carpet', 'Super Built up', 'Super Built up', 'Carpet', 'Built Up', 'Super Built up', 'Super Built up', 'Built Up', 'Built Up', 'Built Up', 'Super Built up', 'Built Up', 'Built Up', 'Built Up', 'Carpet', 'Carpet', 'Super Built up', 'Carpet', 'Carpet', 'Carpet', 'Carpet', 'Super Built up', 'Carpet', 'Built Up', 'Built Up', 'Built Up', 'Carpet', 'Built Up', 'Carpet', 'Built Up', 'Carpet', 'Built Up', 'Built Up', 'Super Built up', 'Built Up', 'Built Up', 'Built Up', 'Carpet', 'Super Built up', 'Super Built up', 'Super Built up', 'Carpet', 'Super Built up', 'Carpet', 'Carpet', 'Carpet', 'Super Built up', 'Built Up', 'Super Built up', 'Super Built up', 'Built Up', 'Built Up', 'Carpet', 'Carpet', 'Super Built up', 'Super Built up', 'Built Up', 'Carpet', 'Carpet', 'Carpet', 'Super Built up', 'Super Built up', 'Super Built up', 'Carpet', 'Super Built up', 'Built Up', 'Carpet', 'Carpet', 'Carpet', 'Built Up', 'Built Up', 'Built Up', 'Super Built up', 'Carpet', 'Carpet', 'Super Built up', 'Super Built up', 'Super Built up', 'Carpet', 'Built Up', 'Built Up', 'Carpet', 'Carpet', 'Carpet', 'Super Built up', 'Carpet', 'Super Built up', 'Super Built up', 'Super Built up', 'Carpet', 'Built Up', 'Built Up', 'Carpet', 'Carpet', 'Carpet', 'Super Built up', 'Built Up', 'Super Built up', 'Carpet', 'Super Built up', 'Super Built up', 'Built Up', 'Built Up', 'Super Built up', 'Carpet', 'Built Up', 'Carpet', 'Super Built up', 'Super Built up', 'Super Built up', 'Carpet', 'Super Built up', 'Carpet', 'Built Up', 'Super Built up', 'Super Built up', 'Built Up', 'Built Up', 'Built Up', 'Built Up', 'Built Up', 'Built Up', 'Built Up', 'Built Up', 'Built Up', 'Built Up', 'Built Up', 'Built Up', 'Carpet', 'Built Up', 'Built Up', 'Built Up', 'Built Up', 'Built Up', 'Super Built up', 'Carpet', 'Built Up', 'Carpet', 'Super Built up', 'Carpet', 'Super Built up', 'Carpet', 'Built Up', 'Built Up', 'Built Up', 'Carpet', 'Built Up', 'Built Up', 'Built Up', 'Built Up', 'Carpet', 'Super Built up', 'Built Up', 'Built Up', 'Built Up', 'Built Up', 'Carpet', 'Super Built up', 'Carpet', 'Carpet', 'Super Built up', 'Carpet', 'Carpet', 'Super Built up', 'Carpet', 'Carpet', 'Super Built up', 'Super Built up', 'Super Built up', 'Super Built up', 'Carpet', 'Super Built up', 'Super Built up', 'Carpet', 'Super Built up', 'Super Built up', 'Carpet', 'Carpet', 'Carpet', 'Super Built up', 'Super Built up', 'Super Built up', 'Carpet', 'Built Up', 'Carpet', 'Super Built up', 'Super Built up', 'Super Built up', 'Super Built up', 'Super Built up', 'Super Built up', 'Carpet', 'Super Built up', 'Super Built up', 'Super Built up', 'Super Built up', 'Super Built up', 'Carpet', 'Built Up', 'Carpet', 'Super Built up', 'Carpet', 'Super Built up', 'Super Built up', 'Super Built up', 'Carpet', 'Built Up', 'Carpet', 'Super Built up', 'Super Built up', 'Carpet', 'Carpet', 'Carpet', 'Super Built up', 'Super Built up', 'Carpet', 'Carpet', 'Carpet', 'Super Built up', 'Super Built up', 'Carpet', 'Carpet', 'Carpet', 'Super Built up', 'Carpet', 'Built Up', 'Super Built up', 'Super Built up', 'Super Built up', 'Carpet', 'Carpet', 'Super Built up', 'Super Built up', 'Carpet', 'Built Up', 'Super Built up', 'Super Built up', 'Built Up', 'Carpet', 'Carpet', 'Built Up', 'Super Built up', 'Super Built up', 'Super Built up', 'Carpet', 'Super Built up', 'Carpet', 'Super Built up', 'Carpet', 'Carpet', 'Built Up', 'Super Built up', 'Carpet', 'Carpet', 'Carpet', 'Super Built up', 'Super Built up', 'Super Built up', 'Super Built up', 'Super Built up', 'Carpet', 'Carpet', 'Built Up', 'Carpet', 'Carpet', 'Super Built up', 'Carpet', 'Built Up', 'Carpet', 'Carpet', 'Super Built up', 'Carpet', 'Super Built up', 'Carpet', 'Carpet', 'Super Built up', 'Super Built up', 'Super Built up', 'Carpet', 'Super Built up', 'Super Built up', 'Built Up', 'Super Built up', 'Super Built up', 'Super Built up', 'Built Up', 'Built Up', 'Built Up', 'Super Built up', 'Built Up', 'Carpet', 'Super Built up', 'Carpet', 'Super Built up', 'Super Built up', 'Super Built up', 'Super Built up', 'Super Built up', 'Carpet', 'Super Built up', 'Carpet', 'Super Built up', 'Super Built up', 'Super Built up', 'Super Built up', 'Super Built up', 'Built Up', 'Super Built up', 'Super Built up', 'Super Built up', 'Built Up', 'Super Built up', 'Carpet', 'Super Built up', 'Carpet', 'Super Built up', 'Carpet', 'Carpet', 'Super Built up', 'Super Built up', 'Super Built up', 'Carpet', 'Built Up', 'Super Built up', 'Built Up', 'Super Built up', 'Super Built up', 'Super Built up', 'Built Up', 'Super Built up', 'Carpet', 'Super Built up', 'Built Up', 'Super Built up', 'Super Built up', 'Super Built up', 'Built Up', 'Super Built up', 'Super Built up', 'Carpet', 'Super Built up', 'Carpet', 'Super Built up', 'Carpet', 'Super Built up', 'Super Built up', 'Carpet', 'Built Up', 'Super Built up', 'Carpet', 'Super Built up', 'Built Up', 'Super Built up', 'Super Built up', 'Carpet', 'Super Built up', 'Carpet', 'Super Built up', 'Super Built up', 'Carpet', 'Built Up', 'Super Built up', 'Super Built up', 'Super Built up', 'Carpet', 'Super Built up', 'Super Built up', 'Super Built up', 'Super Built up', 'Super Built up', 'Carpet', 'Super Built up', 'Super Built up', 'Super Built up', 'Carpet', 'Super Built up', 'Super Built up', 'Super Built up', 'Carpet', 'Carpet', 'Super Built up', 'Super Built up', 'Built Up', 'Super Built up', 'Super Built up', 'Super Built up', 'Super Built up', 'Carpet', 'Built Up', 'Super Built up', 'Super Built up', 'Super Built up', 'Built Up', 'Super Built up']\n"
     ]
    }
   ],
   "source": [
    "area_type=[]\n",
    "for i in df['areaWithType']:\n",
    "    area_type.append(i.split('area')[0][:-1])\n",
    "print(area_type)    "
   ]
  },
  {
   "cell_type": "code",
   "execution_count": 189,
   "metadata": {},
   "outputs": [
    {
     "data": {
      "text/html": [
       "<div>\n",
       "<style scoped>\n",
       "    .dataframe tbody tr th:only-of-type {\n",
       "        vertical-align: middle;\n",
       "    }\n",
       "\n",
       "    .dataframe tbody tr th {\n",
       "        vertical-align: top;\n",
       "    }\n",
       "\n",
       "    .dataframe thead th {\n",
       "        text-align: right;\n",
       "    }\n",
       "</style>\n",
       "<table border=\"1\" class=\"dataframe\">\n",
       "  <thead>\n",
       "    <tr style=\"text-align: right;\">\n",
       "      <th></th>\n",
       "      <th>price</th>\n",
       "      <th>area_type</th>\n",
       "    </tr>\n",
       "  </thead>\n",
       "  <tbody>\n",
       "    <tr>\n",
       "      <th>0</th>\n",
       "      <td>0.45</td>\n",
       "      <td>Carpet</td>\n",
       "    </tr>\n",
       "    <tr>\n",
       "      <th>1</th>\n",
       "      <td>0.50</td>\n",
       "      <td>Carpet</td>\n",
       "    </tr>\n",
       "    <tr>\n",
       "      <th>2</th>\n",
       "      <td>0.40</td>\n",
       "      <td>Carpet</td>\n",
       "    </tr>\n",
       "    <tr>\n",
       "      <th>3</th>\n",
       "      <td>1.47</td>\n",
       "      <td>Carpet</td>\n",
       "    </tr>\n",
       "    <tr>\n",
       "      <th>4</th>\n",
       "      <td>0.70</td>\n",
       "      <td>Super Built up</td>\n",
       "    </tr>\n",
       "  </tbody>\n",
       "</table>\n",
       "</div>"
      ],
      "text/plain": [
       "   price       area_type\n",
       "0   0.45          Carpet\n",
       "1   0.50          Carpet\n",
       "2   0.40          Carpet\n",
       "3   1.47          Carpet\n",
       "4   0.70  Super Built up"
      ]
     },
     "execution_count": 189,
     "metadata": {},
     "output_type": "execute_result"
    }
   ],
   "source": [
    "area_type_df = pd.DataFrame({'price':df['price'],'area_type':area_type})\n",
    "area_type_df.head()"
   ]
  },
  {
   "cell_type": "code",
   "execution_count": 190,
   "metadata": {},
   "outputs": [
    {
     "data": {
      "text/html": [
       "<div>\n",
       "<style scoped>\n",
       "    .dataframe tbody tr th:only-of-type {\n",
       "        vertical-align: middle;\n",
       "    }\n",
       "\n",
       "    .dataframe tbody tr th {\n",
       "        vertical-align: top;\n",
       "    }\n",
       "\n",
       "    .dataframe thead th {\n",
       "        text-align: right;\n",
       "    }\n",
       "</style>\n",
       "<table border=\"1\" class=\"dataframe\">\n",
       "  <thead>\n",
       "    <tr style=\"text-align: right;\">\n",
       "      <th></th>\n",
       "      <th>price</th>\n",
       "    </tr>\n",
       "    <tr>\n",
       "      <th>area_type</th>\n",
       "      <th></th>\n",
       "    </tr>\n",
       "  </thead>\n",
       "  <tbody>\n",
       "    <tr>\n",
       "      <th>Built Up</th>\n",
       "      <td>1.680366</td>\n",
       "    </tr>\n",
       "    <tr>\n",
       "      <th>Carpet</th>\n",
       "      <td>1.454936</td>\n",
       "    </tr>\n",
       "    <tr>\n",
       "      <th>Super Built up</th>\n",
       "      <td>1.804452</td>\n",
       "    </tr>\n",
       "  </tbody>\n",
       "</table>\n",
       "</div>"
      ],
      "text/plain": [
       "                   price\n",
       "area_type               \n",
       "Built Up        1.680366\n",
       "Carpet          1.454936\n",
       "Super Built up  1.804452"
      ]
     },
     "execution_count": 190,
     "metadata": {},
     "output_type": "execute_result"
    }
   ],
   "source": [
    "area_type_df.groupby('area_type').mean()"
   ]
  },
  {
   "cell_type": "code",
   "execution_count": 191,
   "metadata": {},
   "outputs": [
    {
     "data": {
      "text/plain": [
       "<BarContainer object of 3 artists>"
      ]
     },
     "execution_count": 191,
     "metadata": {},
     "output_type": "execute_result"
    },
    {
     "data": {
      "image/png": "[encoded data removed]",
      "text/plain": [
       "<Figure size 640x480 with 1 Axes>"
      ]
     },
     "metadata": {},
     "output_type": "display_data"
    }
   ],
   "source": [
    "plt.bar(area_type_df.groupby('area_type').median().index,area_type_df.groupby('area_type').median()['price'])"
   ]
  },
  {
   "cell_type": "code",
   "execution_count": 192,
   "metadata": {},
   "outputs": [],
   "source": [
    "# Super Built up has more median price than others"
   ]
  },
  {
   "cell_type": "code",
   "execution_count": 193,
   "metadata": {},
   "outputs": [
    {
     "data": {
      "text/html": [
       "<div>\n",
       "<style scoped>\n",
       "    .dataframe tbody tr th:only-of-type {\n",
       "        vertical-align: middle;\n",
       "    }\n",
       "\n",
       "    .dataframe tbody tr th {\n",
       "        vertical-align: top;\n",
       "    }\n",
       "\n",
       "    .dataframe thead th {\n",
       "        text-align: right;\n",
       "    }\n",
       "</style>\n",
       "<table border=\"1\" class=\"dataframe\">\n",
       "  <thead>\n",
       "    <tr style=\"text-align: right;\">\n",
       "      <th></th>\n",
       "      <th>property_name</th>\n",
       "      <th>property_type</th>\n",
       "      <th>society</th>\n",
       "      <th>price</th>\n",
       "      <th>price_per_sqft</th>\n",
       "      <th>area</th>\n",
       "      <th>areaWithType</th>\n",
       "      <th>bedRoom</th>\n",
       "      <th>bathroom</th>\n",
       "      <th>balcony</th>\n",
       "      <th>additionalRoom</th>\n",
       "      <th>address</th>\n",
       "      <th>floorNum</th>\n",
       "      <th>facing</th>\n",
       "      <th>agePossession</th>\n",
       "      <th>nearbyLocations</th>\n",
       "      <th>description</th>\n",
       "      <th>furnishDetails</th>\n",
       "      <th>features</th>\n",
       "      <th>rating</th>\n",
       "    </tr>\n",
       "  </thead>\n",
       "  <tbody>\n",
       "    <tr>\n",
       "      <th>0</th>\n",
       "      <td>2 BHK Flat in Krishna Colony</td>\n",
       "      <td>flat</td>\n",
       "      <td>maa bhagwati residency</td>\n",
       "      <td>0.45</td>\n",
       "      <td>5000.0</td>\n",
       "      <td>900.0</td>\n",
       "      <td>Carpet area: 900 (83.61 sq.m.)</td>\n",
       "      <td>2</td>\n",
       "      <td>2</td>\n",
       "      <td>1</td>\n",
       "      <td>not available</td>\n",
       "      <td>Krishna Colony, Gurgaon, Haryana</td>\n",
       "      <td>4.0</td>\n",
       "      <td>West</td>\n",
       "      <td>1 to 5 Year Old</td>\n",
       "      <td>['Chintapurni Mandir', 'State bank ATM', 'Pear...</td>\n",
       "      <td>So with lift.Maa bhagwati residency is one of ...</td>\n",
       "      <td>['3 Fan', '4 Light', '1 Wardrobe', 'No AC', 'N...</td>\n",
       "      <td>['Feng Shui / Vaastu Compliant', 'Security / F...</td>\n",
       "      <td>['Environment4 out of 5', 'Safety4 out of 5', ...</td>\n",
       "    </tr>\n",
       "    <tr>\n",
       "      <th>1</th>\n",
       "      <td>2 BHK Flat in Ashok Vihar</td>\n",
       "      <td>flat</td>\n",
       "      <td>apna enclave</td>\n",
       "      <td>0.50</td>\n",
       "      <td>7692.0</td>\n",
       "      <td>650.0</td>\n",
       "      <td>Carpet area: 650 (60.39 sq.m.)</td>\n",
       "      <td>2</td>\n",
       "      <td>2</td>\n",
       "      <td>1</td>\n",
       "      <td>not available</td>\n",
       "      <td>46b, Ashok Vihar, Gurgaon, Haryana</td>\n",
       "      <td>1.0</td>\n",
       "      <td>West</td>\n",
       "      <td>10+ Year Old</td>\n",
       "      <td>['Chintapurni Mandir', 'Sheetla Mata Mandir', ...</td>\n",
       "      <td>Property situated on main road, railway statio...</td>\n",
       "      <td>['3 Wardrobe', '4 Fan', '1 Exhaust Fan', '1 Ge...</td>\n",
       "      <td>['Security / Fire Alarm', 'Maintenance Staff',...</td>\n",
       "      <td>['Environment4 out of 5', 'Safety4 out of 5', ...</td>\n",
       "    </tr>\n",
       "    <tr>\n",
       "      <th>2</th>\n",
       "      <td>2 BHK Flat in Sohna</td>\n",
       "      <td>flat</td>\n",
       "      <td>tulsiani easy in homes</td>\n",
       "      <td>0.40</td>\n",
       "      <td>6722.0</td>\n",
       "      <td>595.0</td>\n",
       "      <td>Carpet area: 595 (55.28 sq.m.)</td>\n",
       "      <td>2</td>\n",
       "      <td>2</td>\n",
       "      <td>3</td>\n",
       "      <td>not available</td>\n",
       "      <td>Sohna, Gurgaon, Haryana</td>\n",
       "      <td>12.0</td>\n",
       "      <td>NaN</td>\n",
       "      <td>0 to 1 Year Old</td>\n",
       "      <td>['Huda City Metro', 'Golf Course extn road', '...</td>\n",
       "      <td>This property is 15 km away from badshapur, gu...</td>\n",
       "      <td>NaN</td>\n",
       "      <td>['Power Back-up', 'Feng Shui / Vaastu Complian...</td>\n",
       "      <td>['Environment4 out of 5', 'Safety4 out of 5', ...</td>\n",
       "    </tr>\n",
       "    <tr>\n",
       "      <th>3</th>\n",
       "      <td>2 BHK Flat in Sector 61 Gurgaon</td>\n",
       "      <td>flat</td>\n",
       "      <td>smart world orchard</td>\n",
       "      <td>1.47</td>\n",
       "      <td>12250.0</td>\n",
       "      <td>1200.0</td>\n",
       "      <td>Carpet area: 1200 (111.48 sq.m.)</td>\n",
       "      <td>2</td>\n",
       "      <td>2</td>\n",
       "      <td>2</td>\n",
       "      <td>study room</td>\n",
       "      <td>Sector 61 Gurgaon, Gurgaon, Haryana</td>\n",
       "      <td>2.0</td>\n",
       "      <td>NaN</td>\n",
       "      <td>Dec 2023</td>\n",
       "      <td>['Sector 55-56 Metro station', 'Bestech Centra...</td>\n",
       "      <td>Near to metro station of sector 56 and opposit...</td>\n",
       "      <td>NaN</td>\n",
       "      <td>['Security / Fire Alarm', 'Private Garden / Te...</td>\n",
       "      <td>NaN</td>\n",
       "    </tr>\n",
       "    <tr>\n",
       "      <th>4</th>\n",
       "      <td>2 BHK Flat in Sector 92 Gurgaon</td>\n",
       "      <td>flat</td>\n",
       "      <td>parkwood westend</td>\n",
       "      <td>0.70</td>\n",
       "      <td>5204.0</td>\n",
       "      <td>1345.0</td>\n",
       "      <td>Super Built up area 1345(124.95 sq.m.)</td>\n",
       "      <td>2</td>\n",
       "      <td>2</td>\n",
       "      <td>3</td>\n",
       "      <td>study room</td>\n",
       "      <td>Sector 92 Gurgaon, Gurgaon, Haryana</td>\n",
       "      <td>5.0</td>\n",
       "      <td>NaN</td>\n",
       "      <td>Under Construction</td>\n",
       "      <td>['Yadav Clinic', 'Bangali Clinic', 'Dr. J. S. ...</td>\n",
       "      <td>We are the proud owners of this 2 bhk alongwit...</td>\n",
       "      <td>[]</td>\n",
       "      <td>NaN</td>\n",
       "      <td>['Environment5 out of 5', 'Safety3 out of 5', ...</td>\n",
       "    </tr>\n",
       "  </tbody>\n",
       "</table>\n",
       "</div>"
      ],
      "text/plain": [
       "                     property_name property_type                 society  \\\n",
       "0     2 BHK Flat in Krishna Colony          flat  maa bhagwati residency   \n",
       "1        2 BHK Flat in Ashok Vihar          flat            apna enclave   \n",
       "2              2 BHK Flat in Sohna          flat  tulsiani easy in homes   \n",
       "3  2 BHK Flat in Sector 61 Gurgaon          flat     smart world orchard   \n",
       "4  2 BHK Flat in Sector 92 Gurgaon          flat        parkwood westend   \n",
       "\n",
       "   price  price_per_sqft    area                            areaWithType  \\\n",
       "0   0.45          5000.0   900.0          Carpet area: 900 (83.61 sq.m.)   \n",
       "1   0.50          7692.0   650.0          Carpet area: 650 (60.39 sq.m.)   \n",
       "2   0.40          6722.0   595.0          Carpet area: 595 (55.28 sq.m.)   \n",
       "3   1.47         12250.0  1200.0        Carpet area: 1200 (111.48 sq.m.)   \n",
       "4   0.70          5204.0  1345.0  Super Built up area 1345(124.95 sq.m.)   \n",
       "\n",
       "   bedRoom  bathroom balcony additionalRoom  \\\n",
       "0        2         2       1  not available   \n",
       "1        2         2       1  not available   \n",
       "2        2         2       3  not available   \n",
       "3        2         2       2     study room   \n",
       "4        2         2       3     study room   \n",
       "\n",
       "                               address  floorNum facing       agePossession  \\\n",
       "0     Krishna Colony, Gurgaon, Haryana       4.0   West     1 to 5 Year Old   \n",
       "1   46b, Ashok Vihar, Gurgaon, Haryana       1.0   West        10+ Year Old   \n",
       "2              Sohna, Gurgaon, Haryana      12.0    NaN     0 to 1 Year Old   \n",
       "3  Sector 61 Gurgaon, Gurgaon, Haryana       2.0    NaN            Dec 2023   \n",
       "4  Sector 92 Gurgaon, Gurgaon, Haryana       5.0    NaN  Under Construction   \n",
       "\n",
       "                                     nearbyLocations  \\\n",
       "0  ['Chintapurni Mandir', 'State bank ATM', 'Pear...   \n",
       "1  ['Chintapurni Mandir', 'Sheetla Mata Mandir', ...   \n",
       "2  ['Huda City Metro', 'Golf Course extn road', '...   \n",
       "3  ['Sector 55-56 Metro station', 'Bestech Centra...   \n",
       "4  ['Yadav Clinic', 'Bangali Clinic', 'Dr. J. S. ...   \n",
       "\n",
       "                                         description  \\\n",
       "0  So with lift.Maa bhagwati residency is one of ...   \n",
       "1  Property situated on main road, railway statio...   \n",
       "2  This property is 15 km away from badshapur, gu...   \n",
       "3  Near to metro station of sector 56 and opposit...   \n",
       "4  We are the proud owners of this 2 bhk alongwit...   \n",
       "\n",
       "                                      furnishDetails  \\\n",
       "0  ['3 Fan', '4 Light', '1 Wardrobe', 'No AC', 'N...   \n",
       "1  ['3 Wardrobe', '4 Fan', '1 Exhaust Fan', '1 Ge...   \n",
       "2                                                NaN   \n",
       "3                                                NaN   \n",
       "4                                                 []   \n",
       "\n",
       "                                            features  \\\n",
       "0  ['Feng Shui / Vaastu Compliant', 'Security / F...   \n",
       "1  ['Security / Fire Alarm', 'Maintenance Staff',...   \n",
       "2  ['Power Back-up', 'Feng Shui / Vaastu Complian...   \n",
       "3  ['Security / Fire Alarm', 'Private Garden / Te...   \n",
       "4                                                NaN   \n",
       "\n",
       "                                              rating  \n",
       "0  ['Environment4 out of 5', 'Safety4 out of 5', ...  \n",
       "1  ['Environment4 out of 5', 'Safety4 out of 5', ...  \n",
       "2  ['Environment4 out of 5', 'Safety4 out of 5', ...  \n",
       "3                                                NaN  \n",
       "4  ['Environment5 out of 5', 'Safety3 out of 5', ...  "
      ]
     },
     "execution_count": 193,
     "metadata": {},
     "output_type": "execute_result"
    }
   ],
   "source": [
    "df.head()"
   ]
  },
  {
   "cell_type": "code",
   "execution_count": 194,
   "metadata": {},
   "outputs": [
    {
     "data": {
      "text/plain": [
       "Index(['1 to 5 Year Old', '0 to 1 Year Old', '5 to 10 Year Old', 'undefined',\n",
       "       '10+ Year Old', 'Under Construction', 'Within 6 months',\n",
       "       'Within 3 months', 'Dec 2023', 'By 2023', 'By 2024', 'Dec 2024',\n",
       "       'Mar 2024', 'Aug 2023', 'Dec 2025', 'Jan 2024', 'Oct 2024', 'Nov 2023',\n",
       "       'Jun 2024', 'Aug 2024', 'Jul 2024', 'Sep 2023', 'By 2025', 'Jan 2025',\n",
       "       'May 2024', 'Nov 2024', 'Feb 2024', 'Oct 2023', 'Aug 2025', 'Sep 2025',\n",
       "       'Apr 2026', 'Dec 2026', 'Jun 2027', 'Oct 2025', 'Mar 2025', 'Jul 2027',\n",
       "       'Jul 2025', 'Jan 2026', 'Jan 2027', 'Jul 2026', 'Nov 2025', 'Apr 2024',\n",
       "       'By 2027', 'Sep 2027', 'Jan 2028', 'Jun 2025', 'Mar 2026', 'Aug 2026'],\n",
       "      dtype='object', name='agePossession')"
      ]
     },
     "execution_count": 194,
     "metadata": {},
     "output_type": "execute_result"
    }
   ],
   "source": [
    "df['agePossession'].value_counts().index"
   ]
  },
  {
   "cell_type": "code",
   "execution_count": 238,
   "metadata": {},
   "outputs": [],
   "source": [
    "def treat_property_age(x):\n",
    "    if type(x)==float or type(x)==int:\n",
    "        return x\n",
    "    x = x.lower()\n",
    "    if x=='undefined':\n",
    "        x=np.nan\n",
    "    elif x.split(\" \")[-1]=='old' and x.split(' ')[1]!='year':\n",
    "        x=(int(x.split(\" \")[0])+int(x.split(\" \")[2]))/2\n",
    "    elif x.split(' ')[1]=='year':\n",
    "        x=int(x.split(' ')[0][:-1])\n",
    "    elif x.split(' ')[-1] in ('months','month'):\n",
    "        x=0\n",
    "    elif x=='under construction':\n",
    "        x='uc'\n",
    "    elif x.split(\" \")[0]=='By':\n",
    "        x='uc'\n",
    "    elif x.split(\" \")[-1].isdigit():\n",
    "        if int(x.split(\" \")[-1])>int(pd.Timestamp(\"today\").strftime(\"%m/%d/%Y\")[-4:]):\n",
    "            x=np.nan\n",
    "        else:\n",
    "            x= -int(x.split(\" \")[-1])+int(pd.Timestamp(\"today\").strftime(\"%m/%d/%Y\")[-4:])\n",
    "    return x"
   ]
  },
  {
   "cell_type": "code",
   "execution_count": 224,
   "metadata": {},
   "outputs": [
    {
     "data": {
      "text/plain": [
       "4"
      ]
     },
     "execution_count": 224,
     "metadata": {},
     "output_type": "execute_result"
    }
   ],
   "source": [
    "treat_property_age('Aug 2020')"
   ]
  },
  {
   "cell_type": "code",
   "execution_count": 239,
   "metadata": {},
   "outputs": [],
   "source": [
    "pred_ages=df['agePossession'].apply(treat_property_age)"
   ]
  },
  {
   "cell_type": "code",
   "execution_count": 240,
   "metadata": {},
   "outputs": [
    {
     "name": "stdout",
     "output_type": "stream",
     "text": [
      "{<class 'str'>: 2995, <class 'float'>: 1}\n"
     ]
    }
   ],
   "source": [
    "s={}\n",
    "for i in df['agePossession']:\n",
    "    if type(i) not in s:\n",
    "        s[type(i)]=1\n",
    "    else:\n",
    "        s[type(i)]+=1\n",
    "\n",
    "print(s)"
   ]
  },
  {
   "cell_type": "code",
   "execution_count": 241,
   "metadata": {},
   "outputs": [],
   "source": [
    "ages_price_df = pd.DataFrame({'age':pred_ages,'price':df['price']})"
   ]
  },
  {
   "cell_type": "code",
   "execution_count": 242,
   "metadata": {},
   "outputs": [
    {
     "data": {
      "text/html": [
       "<div>\n",
       "<style scoped>\n",
       "    .dataframe tbody tr th:only-of-type {\n",
       "        vertical-align: middle;\n",
       "    }\n",
       "\n",
       "    .dataframe tbody tr th {\n",
       "        vertical-align: top;\n",
       "    }\n",
       "\n",
       "    .dataframe thead th {\n",
       "        text-align: right;\n",
       "    }\n",
       "</style>\n",
       "<table border=\"1\" class=\"dataframe\">\n",
       "  <thead>\n",
       "    <tr style=\"text-align: right;\">\n",
       "      <th></th>\n",
       "      <th>age</th>\n",
       "      <th>price</th>\n",
       "    </tr>\n",
       "  </thead>\n",
       "  <tbody>\n",
       "    <tr>\n",
       "      <th>0</th>\n",
       "      <td>3.0</td>\n",
       "      <td>0.45</td>\n",
       "    </tr>\n",
       "    <tr>\n",
       "      <th>1</th>\n",
       "      <td>10</td>\n",
       "      <td>0.50</td>\n",
       "    </tr>\n",
       "    <tr>\n",
       "      <th>2</th>\n",
       "      <td>0.5</td>\n",
       "      <td>0.40</td>\n",
       "    </tr>\n",
       "    <tr>\n",
       "      <th>3</th>\n",
       "      <td>1</td>\n",
       "      <td>1.47</td>\n",
       "    </tr>\n",
       "    <tr>\n",
       "      <th>4</th>\n",
       "      <td>uc</td>\n",
       "      <td>0.70</td>\n",
       "    </tr>\n",
       "  </tbody>\n",
       "</table>\n",
       "</div>"
      ],
      "text/plain": [
       "   age  price\n",
       "0  3.0   0.45\n",
       "1   10   0.50\n",
       "2  0.5   0.40\n",
       "3    1   1.47\n",
       "4   uc   0.70"
      ]
     },
     "execution_count": 242,
     "metadata": {},
     "output_type": "execute_result"
    }
   ],
   "source": [
    "ages_price_df.head()"
   ]
  },
  {
   "cell_type": "code",
   "execution_count": 231,
   "metadata": {},
   "outputs": [
    {
     "data": {
      "text/plain": [
       "(np.float64(0.0), np.float64(10.0))"
      ]
     },
     "execution_count": 231,
     "metadata": {},
     "output_type": "execute_result"
    }
   ],
   "source": [
    "np.min(pred_ages),np.max(pred_ages)"
   ]
  },
  {
   "cell_type": "code",
   "execution_count": 262,
   "metadata": {},
   "outputs": [
    {
     "data": {
      "text/html": [
       "<div>\n",
       "<style scoped>\n",
       "    .dataframe tbody tr th:only-of-type {\n",
       "        vertical-align: middle;\n",
       "    }\n",
       "\n",
       "    .dataframe tbody tr th {\n",
       "        vertical-align: top;\n",
       "    }\n",
       "\n",
       "    .dataframe thead th {\n",
       "        text-align: right;\n",
       "    }\n",
       "</style>\n",
       "<table border=\"1\" class=\"dataframe\">\n",
       "  <thead>\n",
       "    <tr style=\"text-align: right;\">\n",
       "      <th></th>\n",
       "      <th>age</th>\n",
       "      <th>price</th>\n",
       "    </tr>\n",
       "  </thead>\n",
       "  <tbody>\n",
       "    <tr>\n",
       "      <th>6</th>\n",
       "      <td>uc</td>\n",
       "      <td>1.243146</td>\n",
       "    </tr>\n",
       "    <tr>\n",
       "      <th>1</th>\n",
       "      <td>0.5</td>\n",
       "      <td>1.460633</td>\n",
       "    </tr>\n",
       "    <tr>\n",
       "      <th>2</th>\n",
       "      <td>1</td>\n",
       "      <td>1.527414</td>\n",
       "    </tr>\n",
       "    <tr>\n",
       "      <th>3</th>\n",
       "      <td>3.0</td>\n",
       "      <td>1.674783</td>\n",
       "    </tr>\n",
       "    <tr>\n",
       "      <th>0</th>\n",
       "      <td>0</td>\n",
       "      <td>1.826608</td>\n",
       "    </tr>\n",
       "    <tr>\n",
       "      <th>5</th>\n",
       "      <td>10</td>\n",
       "      <td>1.894818</td>\n",
       "    </tr>\n",
       "    <tr>\n",
       "      <th>4</th>\n",
       "      <td>7.5</td>\n",
       "      <td>2.083222</td>\n",
       "    </tr>\n",
       "  </tbody>\n",
       "</table>\n",
       "</div>"
      ],
      "text/plain": [
       "   age     price\n",
       "6   uc  1.243146\n",
       "1  0.5  1.460633\n",
       "2    1  1.527414\n",
       "3  3.0  1.674783\n",
       "0    0  1.826608\n",
       "5   10  1.894818\n",
       "4  7.5  2.083222"
      ]
     },
     "execution_count": 262,
     "metadata": {},
     "output_type": "execute_result"
    }
   ],
   "source": [
    "ages_price_df.groupby('age').mean().reset_index().sort_values(by='price')"
   ]
  },
  {
   "cell_type": "code",
   "execution_count": 263,
   "metadata": {},
   "outputs": [],
   "source": [
    "#  we can conclude two major things from this\n",
    "# 1. under construction flats have very low price compared to flats which are new and built\n",
    "# 2. The old flats showing abnormally high prices might be because of demand bubble the flats are in."
   ]
  },
  {
   "cell_type": "code",
   "execution_count": null,
   "metadata": {},
   "outputs": [],
   "source": []
  }
 ],
 "metadata": {
  "kernelspec": {
   "display_name": "env",
   "language": "python",
   "name": "python3"
  },
  "language_info": {
   "codemirror_mode": {
    "name": "ipython",
    "version": 3
   },
   "file_extension": ".py",
   "mimetype": "text/x-python",
   "name": "python",
   "nbconvert_exporter": "python",
   "pygments_lexer": "ipython3",
   "version": "3.12.3"
  }
 },
 "nbformat": 4,
 "nbformat_minor": 2
}
